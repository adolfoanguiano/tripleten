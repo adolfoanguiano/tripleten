{
 "cells": [
  {
   "cell_type": "markdown",
   "metadata": {},
   "source": [
    "<b>¡Hola Adolfo!</b>\n",
    "\n",
    "Mi nombre es Alejandro Abia y tengo el gusto de revisar tu proyecto.\n",
    "\n",
    "A continuación, encontrarás mis comentarios en celdas pintadas de tres colores (verde, amarillo y rojo), a manera de semáforo. Por favor, <b>no las borres ni muevas de posición</b> mientras dure el proceso de revisión.\n",
    "\n",
    "<div class=\"alert alert-block alert-success\">\n",
    "<b>Éxito</b> <a class=\"tocSkip\"></a>\n",
    "En celdas verdes encontrarás comentarios en relación a tus aciertos y fortalezas.\n",
    "</div>\n",
    "<div class=\"alert alert-block alert-warning\">\n",
    "<b>Antención</b> <a class=\"tocSkip\"></a>\n",
    "Utilizaré el color amarillo para llamar tu atención, expresar algo importante o compartirte alguna idea de valor.\n",
    "</div>\n",
    "<div class=\"alert alert-block alert-danger\">\n",
    "<b>A resolver</b> <a class=\"tocSkip\"></a>\n",
    "En rojo emitiré aquellos puntos que deberás atender para aprobar la revisión.\n",
    "</div>\n",
    "<div class=\"alert alert-block alert-info\">\n",
    "<b>Comentario estudiante</b><a class=\"tocSkip\"></a>\n",
    "Es factible que, a lo largo del proceso de revisión, quieras dejarme comentarios. Si es el caso, por favor realízalo dentro de celdas azules como esta.\n",
    "</div>\n",
    "Respecto del proceso de revisión, tu proyecto será aceptado una vez que los comentarios en rojo hayan sido atendidos.\n",
    "¡Empecemos!"
   ]
  },
  {
   "cell_type": "markdown",
   "metadata": {
    "id": "E0vqbgi9ay0H"
   },
   "source": [
    "# Déjame escuchar música"
   ]
  },
  {
   "cell_type": "markdown",
   "metadata": {
    "id": "fhq_eyov_Zcs"
   },
   "source": [
    "# Contenido <a id='back'></a>\n",
    "\n",
    "* [Introducción](#intro)\n",
    "* [Etapa 1. Descripción de los datos](#data_review)\n",
    "    * [Conclusiones](#data_review_conclusions)\n",
    "* [Etapa 2. Preprocesamiento de datos](#data_preprocessing)\n",
    "    * [2.1 Estilo del encabezado](#header_style)\n",
    "    * [2.2 Valores ausentes](#missing_values)\n",
    "    * [2.3 Duplicados](#duplicates)\n",
    "    * [2.4 Conclusiones](#data_preprocessing_conclusions)\n",
    "* [Etapa 3. Prueba de hipótesis](#hypothesis)\n",
    "    * [3.1 Hipótesis 1: actividad de los usuarios y las usuarias en las dos ciudades](#activity)\n",
    "* [Conclusiones](#end)"
   ]
  },
  {
   "cell_type": "markdown",
   "metadata": {
    "id": "VUC88oWjTJw2"
   },
   "source": [
    "## Introducción <a id='intro'></a>\n",
    "Como analista de datos, tu trabajo consiste en analizar datos para extraer información valiosa de ellos y tomar decisiones en consecuencia. Esto implica pasar por diferentes etapas, como la descripción general de los datos, el preprocesamiento y la prueba de hipótesis.\n",
    "\n",
    "Siempre que investiguemos, necesitamos formular hipótesis que después podamos probar. A veces, aceptaremos estas hipótesis; otras veces, las rechazaremos. Para tomar las decisiones adecuadas, una empresa debe ser capaz de entender si está haciendo las suposiciones correctas.\n",
    "\n",
    "En este proyecto, compararás las preferencias musicales de las ciudades de Springfield y Shelbyville. Estudiarás datos reales de música online para probar la hipótesis que planteamos a continuación y compararás el comportamiento de los usuarios de estas dos ciudades.\n",
    "\n",
    "### Objetivo:\n",
    "Probar la hipótesis:\n",
    "1. La actividad de los usuarios difiere según el día de la semana y dependiendo de la ciudad.\n",
    "\n",
    "\n",
    "### Etapas\n",
    "Los datos del comportamiento de los usuarios se almacenan en el archivo `/datasets/music_project_en.csv`. No hay información sobre la calidad de los datos, así que necesitarás examinarlos antes de probar la hipótesis.\n",
    "\n",
    "Primero, debes evaluar la calidad de los datos y ver si los problemas son significativos. Más tarde, durante el preprocesamiento de datos, deberás abordar los problemas más críticos.\n",
    "\n",
    "Tu proyecto contará con estas tres etapas:\n",
    " 1. Descripción de los datos.\n",
    " 2. Preprocesamiento de los datos.\n",
    " 3. Prueba de la hipótesis.\n",
    "\n",
    "\n",
    "\n",
    "\n",
    "\n",
    "\n"
   ]
  },
  {
   "cell_type": "markdown",
   "metadata": {
    "id": "hDt6pg-Rw-1U"
   },
   "source": [
    "[Volver a Contenidos](#back)"
   ]
  },
  {
   "cell_type": "markdown",
   "metadata": {
    "id": "Ml1hmfXC_Zcs"
   },
   "source": [
    "## Etapa 1. Descripción de los datos <a id='data_review'></a>\n",
    "\n",
    "Abre los datos y examínalos."
   ]
  },
  {
   "cell_type": "markdown",
   "metadata": {
    "id": "57eAOGIz_Zcs"
   },
   "source": [
    "Etapa 1.1. Necesitarás `pandas`, así que impórtalo."
   ]
  },
  {
   "cell_type": "code",
   "execution_count": 3,
   "metadata": {
    "id": "AXN7PHPN_Zcs"
   },
   "outputs": [],
   "source": [
    "import pandas as pd # Importa pandas\n"
   ]
  },
  {
   "cell_type": "markdown",
   "metadata": {
    "id": "SG23P8tt_Zcs"
   },
   "source": [
    "Etapa 1.2. Lee el archivo `music_project_en.csv` de la carpeta `/datasets/` y guárdalo en la variable `df`:"
   ]
  },
  {
   "cell_type": "code",
   "execution_count": 4,
   "metadata": {
    "id": "fFVu7vqh_Zct"
   },
   "outputs": [],
   "source": [
    "df= pd.read_csv('/datasets/music_project_en.csv')# Lee el archivo y almacénalo en df\n"
   ]
  },
  {
   "cell_type": "markdown",
   "metadata": {
    "id": "rDoOMd3uTqnZ"
   },
   "source": [
    "Etapa 1.3. Muestra las 10 primeras filas de la tabla:"
   ]
  },
  {
   "cell_type": "code",
   "execution_count": 5,
   "metadata": {
    "id": "oWTVX3gW_Zct"
   },
   "outputs": [
    {
     "name": "stdout",
     "output_type": "stream",
     "text": [
      "     userID                        Track            artist   genre  \\\n",
      "0  FFB692EC            Kamigata To Boots  The Mass Missile    rock   \n",
      "1  55204538  Delayed Because of Accident  Andreas Rönnberg    rock   \n",
      "2    20EC38            Funiculì funiculà       Mario Lanza     pop   \n",
      "3  A3DD03C9        Dragons in the Sunset        Fire + Ice    folk   \n",
      "4  E2DC1FAE                  Soul People        Space Echo   dance   \n",
      "5  842029A1                       Chains          Obladaet  rusrap   \n",
      "6  4CB90AA5                         True      Roman Messer   dance   \n",
      "7  F03E1C1F             Feeling This Way   Polina Griffith   dance   \n",
      "8  8FA1D3BE                     L’estate       Julia Dalia  ruspop   \n",
      "9  E772D5C0                    Pessimist               NaN   dance   \n",
      "\n",
      "        City        time        Day  \n",
      "0  Shelbyville  20:28:33  Wednesday  \n",
      "1  Springfield  14:07:09     Friday  \n",
      "2  Shelbyville  20:58:07  Wednesday  \n",
      "3  Shelbyville  08:37:09     Monday  \n",
      "4  Springfield  08:34:34     Monday  \n",
      "5  Shelbyville  13:09:41     Friday  \n",
      "6  Springfield  13:00:07  Wednesday  \n",
      "7  Springfield  20:47:49  Wednesday  \n",
      "8  Springfield  09:17:40     Friday  \n",
      "9  Shelbyville  21:20:49  Wednesday  \n"
     ]
    }
   ],
   "source": [
    "print(df.head(10))# Obtén las 10 primeras filas de la tabla df\n"
   ]
  },
  {
   "cell_type": "markdown",
   "metadata": {
    "id": "EO73Kwic_Zct"
   },
   "source": [
    "Etapa 1.4. Obtén la información general sobre la tabla con el método info()."
   ]
  },
  {
   "cell_type": "code",
   "execution_count": 6,
   "metadata": {
    "id": "DSf2kIb-_Zct"
   },
   "outputs": [
    {
     "name": "stdout",
     "output_type": "stream",
     "text": [
      "<class 'pandas.core.frame.DataFrame'>\n",
      "RangeIndex: 65079 entries, 0 to 65078\n",
      "Data columns (total 7 columns):\n",
      " #   Column    Non-Null Count  Dtype \n",
      "---  ------    --------------  ----- \n",
      " 0     userID  65079 non-null  object\n",
      " 1   Track     63736 non-null  object\n",
      " 2   artist    57512 non-null  object\n",
      " 3   genre     63881 non-null  object\n",
      " 4     City    65079 non-null  object\n",
      " 5   time      65079 non-null  object\n",
      " 6   Day       65079 non-null  object\n",
      "dtypes: object(7)\n",
      "memory usage: 3.5+ MB\n",
      "None\n"
     ]
    }
   ],
   "source": [
    "print(df.info())# Obtén la información general sobre nuestros datos\n"
   ]
  },
  {
   "cell_type": "markdown",
   "metadata": {
    "id": "TaQ2Iwbr_Zct"
   },
   "source": [
    "Estas son nuestras observaciones sobre la tabla. Contiene siete columnas que almacenan los mismos tipos de datos: `object`.\n",
    "\n",
    "Según la documentación:\n",
    "- `' userID'`: identificador del usuario;\n",
    "- `'Track'`: título de la canción;\n",
    "- `'artist'`: nombre del artista;\n",
    "- `'genre'`: género de la canción;\n",
    "- `'City'`: ciudad del usuario;\n",
    "- `'time'`: la hora exacta en la que se reprodujo la canción;\n",
    "- `'Day'`: día de la semana.\n",
    "\n",
    "Podemos ver tres problemas con el estilo en los encabezados de la tabla:\n",
    "1. Algunos encabezados están en mayúsculas, otros en minúsculas.\n",
    "2. Hay espacios en algunos encabezados.\n",
    "3. Puede ser que los nombres de las columnas sean poco descriptivas y el uso para mejor facilidad del estilo snake_case.\n",
    "\n",
    "\n"
   ]
  },
  {
   "cell_type": "code",
   "execution_count": 7,
   "metadata": {},
   "outputs": [
    {
     "name": "stdout",
     "output_type": "stream",
     "text": [
      "3826\n"
     ]
    }
   ],
   "source": [
    "print(df.duplicated().sum()) #realice este método para comprobar que si hubiera duplicados\n"
   ]
  },
  {
   "cell_type": "markdown",
   "metadata": {},
   "source": [
    "<div class=\"alert alert-block alert-success\">\n",
    "<b>Celdas [6–7]</b> <a class=\"tocSkip\"></a><br>\n",
    "Muy buen uso de `info()` y `duplicated().sum()` para inspeccionar rápidamente la estructura general del dataset y la existencia de duplicados. Además, tus respuestas a las preguntas reflexivas muestran una comprensión clara de la estructura y relevancia de los datos. Buen inicio para asegurar la calidad del análisis.\n",
    "</div>\n"
   ]
  },
  {
   "cell_type": "markdown",
   "metadata": {
    "id": "MCB6-dXG_Zct"
   },
   "source": [
    "### Escribe algunas observaciones por tu parte. Contesta a las siguientes preguntas: <a id='data_review_conclusions'></a>\n",
    "\n",
    "`1.   ¿Qué tipo de datos hay en las filas? ¿Cómo podemos saber qué almacenan las columnas?`\n",
    "\n",
    "`2.   ¿Hay suficientes datos para proporcionar respuestas a nuestra hipótesis o necesitamos más información?`\n",
    "\n",
    "`3.   ¿Notaste algún problema en los datos, como valores ausentes, duplicados o tipos de datos incorrectos?`"
   ]
  },
  {
   "cell_type": "markdown",
   "metadata": {
    "id": "emewmQcy3m_F"
   },
   "source": [
    "Escribe aquí tus respuestas:\n",
    "\n",
    "1. El tipo de datos que hay en las filas son del tipo objetos, así como en algunas filas valores ausentes. Para poder visualizar los datos que almacenan las columnas podemos ver el DataFrame, ya sea todo o solo una parte de el, ya sea con head() sample() o tail().\n",
    "\n",
    "2. Considero que si contamos con datos suficientes para poder dar respuesta a nuestra hipótesis, necesitaremos saber la ciudad de los usuarios contenida en la columna 'City', la hora en que se reprodujo, que es la actividad de los usuarios y lo encontraremos en las columnas 'time' y 'Day'.\n",
    "\n",
    "3. En un principio con el método info() podemos notar los si hay datos ausentes y para poder ver duplicados nos podemos ayudar con el metodo duplicated().sum() para saber cuántos duplicados hay en la lista "
   ]
  },
  {
   "cell_type": "markdown",
   "metadata": {
    "id": "3eL__vcwViOi"
   },
   "source": [
    "[Volver a Contenidos](#back)"
   ]
  },
  {
   "cell_type": "markdown",
   "metadata": {
    "id": "SjYF6Ub9_Zct"
   },
   "source": [
    "## Etapa 2. Preprocesamiento de los datos <a id='data_preprocessing'></a>\n",
    "\n",
    "Tu objetivo aquí es preparar los datos para analizarlos.\n",
    "El primer paso es resolver los problemas con los encabezados. Después podemos avanzar a los valores ausentes y duplicados. ¡Empecemos!\n",
    "\n",
    "Vamos a corregir el formato en los encabezados de la tabla.\n"
   ]
  },
  {
   "cell_type": "markdown",
   "metadata": {
    "id": "dIaKXr29_Zct"
   },
   "source": [
    "### Estilo del encabezado <a id='header_style'></a>\n",
    "Etapa 2.1. Muestra los encabezados de la tabla (los nombres de las columnas):"
   ]
  },
  {
   "cell_type": "code",
   "execution_count": 8,
   "metadata": {
    "id": "oKOTdF_Q_Zct"
   },
   "outputs": [
    {
     "name": "stdout",
     "output_type": "stream",
     "text": [
      "Index(['  userID', 'Track', 'artist', 'genre', '  City  ', 'time', 'Day'], dtype='object')\n"
     ]
    }
   ],
   "source": [
    "print(df.columns)# Muestra los nombres de las columnas\n"
   ]
  },
  {
   "cell_type": "markdown",
   "metadata": {
    "id": "zj5534cv_Zct"
   },
   "source": [
    "Vamos cambiar los encabezados de la tabla siguiendo las reglas estilísticas convencionales:\n",
    "*   Todos los caracteres deben ser minúsculas.\n",
    "*   Elimina los espacios.\n",
    "*   Si el nombre tiene varias palabras, utiliza snake_case.\n"
   ]
  },
  {
   "cell_type": "markdown",
   "metadata": {
    "id": "Xu0zkfe5zNJe"
   },
   "source": [
    "Anteriormente, aprendiste una forma automática de cambiar el nombre de las columnas. Vamos a aplicarla ahora.\n",
    "\n",
    "Etapa 2.2. Utiliza el bucle for para iterar sobre los nombres de las columnas y poner todos los caracteres en minúsculas. Cuando hayas terminado, vuelve a mostrar los encabezados de la tabla:"
   ]
  },
  {
   "cell_type": "code",
   "execution_count": 9,
   "metadata": {
    "id": "6I_RwwMhzM4e"
   },
   "outputs": [
    {
     "name": "stdout",
     "output_type": "stream",
     "text": [
      "Index(['  userid', 'track', 'artist', 'genre', '  city  ', 'time', 'day'], dtype='object')\n"
     ]
    }
   ],
   "source": [
    "new_col=[]\n",
    "\n",
    "for old_name in df.columns:\n",
    "    col_replace = old_name.lower()\n",
    "    new_col.append(col_replace)# Bucle en los encabezados que lo pone todo en minúsculas\n",
    "\n",
    "df.columns = new_col\n",
    "print(df.columns)"
   ]
  },
  {
   "cell_type": "markdown",
   "metadata": {
    "id": "pweIRxjSzPYW"
   },
   "source": [
    "Etapa 2.3. Ahora, utilizando el mismo método, elimina los espacios al principio y al final de los nombres de las columnas y muestra los nombres de las columnas de nuevo:"
   ]
  },
  {
   "cell_type": "code",
   "execution_count": 10,
   "metadata": {
    "id": "vVQXbFyJzSYl"
   },
   "outputs": [
    {
     "name": "stdout",
     "output_type": "stream",
     "text": [
      "Index(['userid', 'track', 'artist', 'genre', 'city', 'time', 'day'], dtype='object')\n"
     ]
    }
   ],
   "source": [
    "new_col1 = []\n",
    "for old_name in df.columns:\n",
    "    col_replace = old_name.strip() # Bucle en los encabezados que elimina los espacios\n",
    "    new_col1.append(col_replace)\n",
    "    \n",
    "df.columns = new_col1\n",
    "print(df.columns)"
   ]
  },
  {
   "cell_type": "markdown",
   "metadata": {
    "id": "yCb8MW1JzURd"
   },
   "source": [
    "Etapa 2.4. Necesitamos aplicar la regla de snake_case en la columna `userid`. Debe ser `user_id`. Cambia el nombre de esta columna y muestra los nombres de todas las columnas cuando hayas terminado."
   ]
  },
  {
   "cell_type": "code",
   "execution_count": 11,
   "metadata": {
    "id": "ISlFqs5y_Zct"
   },
   "outputs": [
    {
     "name": "stdout",
     "output_type": "stream",
     "text": [
      "Index(['user_id', 'track', 'artist', 'genre', 'city', 'time', 'day'], dtype='object')\n"
     ]
    }
   ],
   "source": [
    "# Cambia el nombre de la columna \"userid\"\n",
    "df.rename(columns={'userid':'user_id'}, inplace=True)\n",
    "print(df.columns)"
   ]
  },
  {
   "cell_type": "markdown",
   "metadata": {},
   "source": [
    "<div class=\"alert alert-block alert-warning\">\n",
    "<b>Celdas [9–11]</b> <a class=\"tocSkip\"></a><br>\n",
    "La limpieza de nombres de columnas está bien ejecutada, sin embargo, podrías haber unificado los pasos anteriores en un solo bucle para hacerlo más eficiente. Por ejemplo, aplicar `lower().strip()` dentro de una misma iteración habría simplificado el código. También podrías haber renombrado directamente `userid` a `user_id` en ese mismo paso para mayor concisión.\n",
    "</div>\n"
   ]
  },
  {
   "cell_type": "markdown",
   "metadata": {},
   "source": [
    "<div class=\"alert alert-block alert-info\">\n",
    "<b>Comentario estudiante</b><a class=\"tocSkip\"></a>\n",
    "Yo también creo que era mejor haberlo hecho en un solo paso, sin embargo la estructura del proyecto venian renglones para hacerlo por separado. ¿En un futuro, entonces, yo lo puedo simplificar, aunque en las instrucciones lo hagan entender que se haga paso por paso?"
   ]
  },
  {
   "cell_type": "markdown",
   "metadata": {
    "id": "1dqbh00J_Zct"
   },
   "source": [
    "Etapa 2.5. Comprueba el resultado. Muestra los encabezados una vez más:"
   ]
  },
  {
   "cell_type": "code",
   "execution_count": 12,
   "metadata": {
    "id": "d4NOAmTW_Zct"
   },
   "outputs": [
    {
     "name": "stdout",
     "output_type": "stream",
     "text": [
      "Index(['user_id', 'track', 'artist', 'genre', 'city', 'time', 'day'], dtype='object')\n"
     ]
    }
   ],
   "source": [
    "print(df.columns)# Comprueba el resultado: lista de encabezados\n"
   ]
  },
  {
   "cell_type": "markdown",
   "metadata": {
    "id": "xYJk6ksJVpOl"
   },
   "source": [
    "[Volver a Contenidos](#back)"
   ]
  },
  {
   "cell_type": "markdown",
   "metadata": {
    "id": "5ISfbcfY_Zct"
   },
   "source": [
    "### Valores ausentes <a id='missing_values'></a>\n",
    " Etapa 2.5. Primero, encuentra el número de valores ausentes en la tabla. Debes utilizar dos métodos para obtener el número de valores ausentes."
   ]
  },
  {
   "cell_type": "code",
   "execution_count": 13,
   "metadata": {
    "id": "RskX29qr_Zct"
   },
   "outputs": [
    {
     "name": "stdout",
     "output_type": "stream",
     "text": [
      "user_id       0\n",
      "track      1343\n",
      "artist     7567\n",
      "genre      1198\n",
      "city          0\n",
      "time          0\n",
      "day           0\n",
      "dtype: int64\n"
     ]
    }
   ],
   "source": [
    "print(df.isna().sum())# Calcula el número de valores ausentes\n"
   ]
  },
  {
   "cell_type": "markdown",
   "metadata": {
    "id": "qubhgnlO_Zct"
   },
   "source": [
    "No todos los valores ausentes afectan de la misma forma a la investigación. Por ejemplo, los valores ausentes en 'track' y 'artist' no son cruciales para el análisis, ya que estos datos son más descriptivos que analíticos. Por eso, puedes reemplazarlos directamente con un valor predeterminado como el string 'unknown' (desconocido)."
   ]
  },
  {
   "cell_type": "markdown",
   "metadata": {
    "id": "gzJd_997466T"
   },
   "source": [
    "En cambio, los valores ausentes en 'genre' sí pueden influir en la comparación entre las preferencias musicales de Springfield y Shelbyville. En un escenario real, lo ideal sería investigar por qué faltan estos datos e intentar recuperarlos. Pero en este proyecto no tenemos esa posibilidad, así que deberás rellenar esos valores con un valor predeterminado.\n"
   ]
  },
  {
   "cell_type": "markdown",
   "metadata": {
    "id": "5IzUHGWE5Els"
   },
   "source": [
    "Como vimos anteriormente en las lecciones, la mejor manera de hacerlo es crear una lista con los nombres de las columnas que necesitan reemplazarse.  Luego, utilizar esta lista para iterar sobre cada columna y realizar el reemplazo correspondiente."
   ]
  },
  {
   "cell_type": "markdown",
   "metadata": {
    "id": "fSv2laPA_Zct"
   },
   "source": [
    "Etapa 2.6. Sustituye los valores ausentes en las columnas `'track'`, `'artist'` y `'genre'` con el string `'unknown'`.\n",
    "\n",
    "1. Crea una lista llamada columns_to_replace que contenga los nombres de las columnas 'track', 'artist' y 'genre'.\n",
    "\n",
    "2. Usa un bucle for para iterar sobre cada columna en columns_to_replace.\n",
    "\n",
    "3. Dentro del bucle, sustituye los valores ausentes en cada columna con el string `'unknown'`."
   ]
  },
  {
   "cell_type": "code",
   "execution_count": 14,
   "metadata": {
    "id": "KplB5qWs_Zct"
   },
   "outputs": [],
   "source": [
    "# Bucle en los encabezados reemplazando los valores ausentes con 'unknown'\n",
    "columns_to_replace = ['track', 'artist', 'genre']\n",
    "\n",
    "for columna in columns_to_replace:\n",
    "    df[columna] = df[columna].fillna('unknown')"
   ]
  },
  {
   "cell_type": "markdown",
   "metadata": {
    "id": "Ilsm-MZo_Zct"
   },
   "source": [
    "Etapa 2.7. Ahora comprueba el resultado para asegurarte de que no falten valores ausentes por reemplazar en el conjunto de datos. Para ello, cuenta los valores ausentes una vez más."
   ]
  },
  {
   "cell_type": "code",
   "execution_count": 15,
   "metadata": {
    "id": "Tq4nYRX4_Zct",
    "scrolled": true
   },
   "outputs": [
    {
     "name": "stdout",
     "output_type": "stream",
     "text": [
      "user_id    0\n",
      "track      0\n",
      "artist     0\n",
      "genre      0\n",
      "city       0\n",
      "time       0\n",
      "day        0\n",
      "dtype: int64\n"
     ]
    }
   ],
   "source": [
    "# Cuenta los valores ausentes\n",
    "print(df.isna().sum())"
   ]
  },
  {
   "cell_type": "markdown",
   "metadata": {},
   "source": [
    "<div class=\"alert alert-block alert-success\">\n",
    "<b>Celdas [13–15]</b> <a class=\"tocSkip\"></a><br>\n",
    "Excelente manejo de los valores ausentes. Identificaste correctamente qué columnas eran críticas para el análisis y aplicaste una estrategia adecuada de imputación con `'unknown'`, diferenciando entre columnas descriptivas y analíticas. Esto mejora la calidad de los datos sin introducir sesgos significativos.\n",
    "</div>\n"
   ]
  },
  {
   "cell_type": "markdown",
   "metadata": {
    "id": "74ZIBmq9VrsK"
   },
   "source": [
    "[Volver a Contenidos](#back)"
   ]
  },
  {
   "cell_type": "markdown",
   "metadata": {
    "id": "BWKRtBJ3_Zct"
   },
   "source": [
    "### Duplicados <a id='duplicates'></a>\n",
    "Etapa 2.8. Encuentra el número de duplicados explícitos en la tabla. Una vez más, debes aplicar dos métodos para obtener la cantidad de duplicados explícitos."
   ]
  },
  {
   "cell_type": "code",
   "execution_count": 16,
   "metadata": {
    "id": "36eES_S0_Zct"
   },
   "outputs": [
    {
     "name": "stdout",
     "output_type": "stream",
     "text": [
      "3826\n"
     ]
    }
   ],
   "source": [
    "print(df.duplicated().sum())# Cuenta los duplicados explícitos"
   ]
  },
  {
   "cell_type": "markdown",
   "metadata": {
    "id": "Ot25h6XR_Zct"
   },
   "source": [
    "Etapa 2.9. Ahora, elimina todos los duplicados. Para ello, llama al método que hace exactamente esto."
   ]
  },
  {
   "cell_type": "code",
   "execution_count": 17,
   "metadata": {
    "id": "exFHq6tt_Zct"
   },
   "outputs": [],
   "source": [
    "df= df.drop_duplicates()# Elimina los duplicados explícitos"
   ]
  },
  {
   "cell_type": "markdown",
   "metadata": {
    "id": "Im2YwBEG_Zct"
   },
   "source": [
    "Etapa 2.10. Comprobemos ahora si conseguimos eliminar todos los duplicados. Cuenta los duplicados explícitos una vez más para asegurarte de haberlos eliminado todos:"
   ]
  },
  {
   "cell_type": "code",
   "execution_count": 18,
   "metadata": {
    "id": "-8PuNWQ0_Zct"
   },
   "outputs": [
    {
     "name": "stdout",
     "output_type": "stream",
     "text": [
      "0\n"
     ]
    }
   ],
   "source": [
    "print(df.duplicated().sum())# Comprueba de nuevo si hay duplicados"
   ]
  },
  {
   "cell_type": "markdown",
   "metadata": {},
   "source": [
    "<div class=\"alert alert-block alert-success\">\n",
    "<b>Celdas [16–18]</b> <a class=\"tocSkip\"></a><br>\n",
    "Has aplicado correctamente la eliminación de duplicados explícitos, verificando antes y después del proceso. Es una buena práctica que garantiza que los datos sobre los que se realizará el análisis no estén distorsionados por repeticiones innecesarias.\n",
    "</div>\n"
   ]
  },
  {
   "cell_type": "markdown",
   "metadata": {
    "id": "QlFBsxAr_Zct"
   },
   "source": [
    "Ahora queremos deshacernos de los duplicados implícitos en la columna `genre`. Por ejemplo, el nombre de un género se puede escribir de varias formas. Dichos errores también pueden afectar al resultado."
   ]
  },
  {
   "cell_type": "markdown",
   "metadata": {
    "id": "eSjWwsOh_Zct"
   },
   "source": [
    "Etapa 2.11. Primero debemos mostrar una lista de nombres de géneros únicos, por orden alfabético. Para ello:\n",
    "1. Extrae la columna `genre` del DataFrame.\n",
    "2. Llama al método que devolverá todos los valores únicos en la columna extraída.\n"
   ]
  },
  {
   "cell_type": "code",
   "execution_count": 19,
   "metadata": {
    "id": "JIUcqzZN_Zct"
   },
   "outputs": [
    {
     "name": "stdout",
     "output_type": "stream",
     "text": [
      "['rock' 'pop' 'folk' 'dance' 'rusrap' 'ruspop' 'world' 'electronic'\n",
      " 'unknown' 'alternative' 'children' 'rnb' 'hip' 'jazz' 'postrock' 'latin'\n",
      " 'classical' 'metal' 'reggae' 'triphop' 'blues' 'instrumental' 'rusrock'\n",
      " 'dnb' 'türk' 'post' 'country' 'psychedelic' 'conjazz' 'indie'\n",
      " 'posthardcore' 'local' 'avantgarde' 'punk' 'videogame' 'techno' 'house'\n",
      " 'christmas' 'melodic' 'caucasian' 'reggaeton' 'soundtrack' 'singer' 'ska'\n",
      " 'salsa' 'ambient' 'film' 'western' 'rap' 'beats' \"hard'n'heavy\"\n",
      " 'progmetal' 'minimal' 'tropical' 'contemporary' 'new' 'soul' 'holiday'\n",
      " 'german' 'jpop' 'spiritual' 'urban' 'gospel' 'nujazz' 'folkmetal'\n",
      " 'trance' 'miscellaneous' 'anime' 'hardcore' 'progressive' 'korean'\n",
      " 'numetal' 'vocal' 'estrada' 'tango' 'loungeelectronic' 'classicmetal'\n",
      " 'dubstep' 'club' 'deep' 'southern' 'black' 'folkrock' 'fitness' 'french'\n",
      " 'disco' 'religious' 'hiphop' 'drum' 'extrememetal' 'türkçe'\n",
      " 'experimental' 'easy' 'metalcore' 'modern' 'argentinetango' 'old' 'swing'\n",
      " 'breaks' 'eurofolk' 'stonerrock' 'industrial' 'funk' 'middle' 'variété'\n",
      " 'other' 'adult' 'christian' 'thrash' 'gothic' 'international' 'muslim'\n",
      " 'relax' 'schlager' 'caribbean' 'nu' 'breakbeat' 'comedy' 'chill' 'newage'\n",
      " 'specialty' 'uzbek' 'k-pop' 'balkan' 'chinese' 'meditative' 'dub' 'power'\n",
      " 'death' 'grime' 'arabesk' 'romance' 'flamenco' 'leftfield' 'european'\n",
      " 'tech' 'newwave' 'dancehall' 'mpb' 'piano' 'top' 'bigroom' 'opera'\n",
      " 'celtic' 'tradjazz' 'acoustic' 'epicmetal' 'hip-hop' 'historisch'\n",
      " 'downbeat' 'downtempo' 'africa' 'audiobook' 'jewish' 'sängerportrait'\n",
      " 'deutschrock' 'eastern' 'action' 'future' 'electropop' 'folklore'\n",
      " 'bollywood' 'marschmusik' 'rnr' 'karaoke' 'indian' 'rancheras'\n",
      " 'afrikaans' 'rhythm' 'sound' 'deutschspr' 'trip' 'lovers' 'choral'\n",
      " 'dancepop' 'retro' 'smooth' 'mexican' 'brazilian' 'ïîï' 'mood' 'surf'\n",
      " 'gangsta' 'inspirational' 'idm' 'ethnic' 'bluegrass' 'broadway'\n",
      " 'animated' 'americana' 'karadeniz' 'rockabilly' 'colombian' 'self' 'hop'\n",
      " 'sertanejo' 'japanese' 'canzone' 'lounge' 'sport' 'ragga' 'traditional'\n",
      " 'gitarre' 'frankreich' 'emo' 'laiko' 'cantopop' 'glitch' 'documentary'\n",
      " 'oceania' 'popeurodance' 'dark' 'vi' 'grunge' 'hardstyle' 'samba'\n",
      " 'garage' 'art' 'folktronica' 'entehno' 'mediterranean' 'chamber' 'cuban'\n",
      " 'taraftar' 'gypsy' 'hardtechno' 'shoegazing' 'bossa' 'latino' 'worldbeat'\n",
      " 'malaysian' 'baile' 'ghazal' 'arabic' 'popelectronic' 'acid' 'kayokyoku'\n",
      " 'neoklassik' 'tribal' 'tanzorchester' 'native' 'independent' 'cantautori'\n",
      " 'handsup' 'punjabi' 'synthpop' 'rave' 'französisch' 'quebecois' 'speech'\n",
      " 'soulful' 'jam' 'ram' 'horror' 'orchestral' 'neue' 'roots' 'slow'\n",
      " 'jungle' 'indipop' 'axé' 'fado' 'showtunes' 'arena' 'irish' 'mandopop'\n",
      " 'forró' 'dirty' 'regional']\n"
     ]
    }
   ],
   "source": [
    "print(df['genre'].unique())# Inspecciona los nombres de géneros únicos\n"
   ]
  },
  {
   "cell_type": "markdown",
   "metadata": {
    "id": "qej-Qmuo_Zct"
   },
   "source": [
    "Vamos a examinar la lista para identificar **duplicados implícitos** del género `hiphop`, es decir, nombres mal escritos o variantes que hacen referencia al mismo género musical.\n",
    "\n",
    "Algunos de los duplicados que encontrarás son:\n",
    "\n",
    "* `hip`  \n",
    "* `hop`  \n",
    "* `hip-hop`  \n",
    "\n",
    "Para solucionarlo, vamos a crear una función llamada `replace_wrong_genres()` que tendrá dos parámetros:\n",
    "\n",
    "* `wrong_genres`: una lista con todos los valores que deben ser reemplazados.  \n",
    "* `correct_genre`: un string que se utilizará como valor de reemplazo.\n",
    "\n",
    "El objetivo de esta función es **corregir los valores en la columna `'genre'` del DataFrame `df`**, reemplazando cada valor de la lista `wrong_genres` por `correct_genre`."
   ]
  },
  {
   "cell_type": "markdown",
   "metadata": {
    "id": "7kmujhjP_bIl"
   },
   "source": [
    "Etapa 2.12.\n",
    "1. Define una función llamada `replace_wrong_genres()` que reciba dos parámetros: `wrong_genres` y `correct_genre`.\n",
    "\n",
    "2. Dentro de la función, utiliza un bucle `for` para iterar sobre cada valor en la lista `wrong_genres`.\n",
    "\n",
    "3. En cada iteración, accede a la columna `'genre'` del DataFrame `df` y utiliza el método `.replace()` para sustituir el valor incorrecto por `correct_genre`.\n",
    "\n",
    "4. Llama a la función y pasa como argumentos:\n",
    "   - Una lista con los duplicados implícitos: `['hip', 'hop', 'hip-hop']`\n",
    "   - El string de reemplazo: `'hiphop'`"
   ]
  },
  {
   "cell_type": "code",
   "execution_count": 20,
   "metadata": {
    "id": "ErNDkmns_Zct"
   },
   "outputs": [],
   "source": [
    "# Función para reemplazar los duplicados implícitos\n",
    "def replace_wrong_genres(wrong_genres, correct_genre):\n",
    "    for wrong in wrong_genres:\n",
    "        df['genre'] = df['genre'].replace(wrong, correct_genre)\n",
    "        return df\n",
    "    \n",
    "correct_genre = 'hiphop'\n",
    "wrong_genres = ['hip', 'hop', 'hip-hop']\n",
    "\n"
   ]
  },
  {
   "cell_type": "markdown",
   "metadata": {
    "id": "aDoBJxbA_Zct"
   },
   "source": [
    "Etapa 2.13. Ahora, llama a `replace_wrong_genres()` y pásale estos argumentos para que retire los duplicados implícitos (`hip`, `hop` y `hip-hop`) y los sustituya por `hiphop`:"
   ]
  },
  {
   "cell_type": "code",
   "execution_count": 21,
   "metadata": {
    "id": "YN5i2hpmSo09"
   },
   "outputs": [],
   "source": [
    "# Elimina los duplicados implícitos\n",
    "df = replace_wrong_genres(wrong_genres, correct_genre)"
   ]
  },
  {
   "cell_type": "markdown",
   "metadata": {
    "id": "zQKF16_RG15m"
   },
   "source": [
    "Etapa 2.14. Asegúrate de que los nombres duplicados se hayan eliminado. Muestra la lista de valores únicos de la columna `'genre'` una vez más:"
   ]
  },
  {
   "cell_type": "code",
   "execution_count": 22,
   "metadata": {
    "id": "wvixALnFG15m",
    "scrolled": true
   },
   "outputs": [
    {
     "name": "stdout",
     "output_type": "stream",
     "text": [
      "['rock' 'pop' 'folk' 'dance' 'rusrap' 'ruspop' 'world' 'electronic'\n",
      " 'unknown' 'alternative' 'children' 'rnb' 'hiphop' 'jazz' 'postrock'\n",
      " 'latin' 'classical' 'metal' 'reggae' 'triphop' 'blues' 'instrumental'\n",
      " 'rusrock' 'dnb' 'türk' 'post' 'country' 'psychedelic' 'conjazz' 'indie'\n",
      " 'posthardcore' 'local' 'avantgarde' 'punk' 'videogame' 'techno' 'house'\n",
      " 'christmas' 'melodic' 'caucasian' 'reggaeton' 'soundtrack' 'singer' 'ska'\n",
      " 'salsa' 'ambient' 'film' 'western' 'rap' 'beats' \"hard'n'heavy\"\n",
      " 'progmetal' 'minimal' 'tropical' 'contemporary' 'new' 'soul' 'holiday'\n",
      " 'german' 'jpop' 'spiritual' 'urban' 'gospel' 'nujazz' 'folkmetal'\n",
      " 'trance' 'miscellaneous' 'anime' 'hardcore' 'progressive' 'korean'\n",
      " 'numetal' 'vocal' 'estrada' 'tango' 'loungeelectronic' 'classicmetal'\n",
      " 'dubstep' 'club' 'deep' 'southern' 'black' 'folkrock' 'fitness' 'french'\n",
      " 'disco' 'religious' 'drum' 'extrememetal' 'türkçe' 'experimental' 'easy'\n",
      " 'metalcore' 'modern' 'argentinetango' 'old' 'swing' 'breaks' 'eurofolk'\n",
      " 'stonerrock' 'industrial' 'funk' 'middle' 'variété' 'other' 'adult'\n",
      " 'christian' 'thrash' 'gothic' 'international' 'muslim' 'relax' 'schlager'\n",
      " 'caribbean' 'nu' 'breakbeat' 'comedy' 'chill' 'newage' 'specialty'\n",
      " 'uzbek' 'k-pop' 'balkan' 'chinese' 'meditative' 'dub' 'power' 'death'\n",
      " 'grime' 'arabesk' 'romance' 'flamenco' 'leftfield' 'european' 'tech'\n",
      " 'newwave' 'dancehall' 'mpb' 'piano' 'top' 'bigroom' 'opera' 'celtic'\n",
      " 'tradjazz' 'acoustic' 'epicmetal' 'hip-hop' 'historisch' 'downbeat'\n",
      " 'downtempo' 'africa' 'audiobook' 'jewish' 'sängerportrait' 'deutschrock'\n",
      " 'eastern' 'action' 'future' 'electropop' 'folklore' 'bollywood'\n",
      " 'marschmusik' 'rnr' 'karaoke' 'indian' 'rancheras' 'afrikaans' 'rhythm'\n",
      " 'sound' 'deutschspr' 'trip' 'lovers' 'choral' 'dancepop' 'retro' 'smooth'\n",
      " 'mexican' 'brazilian' 'ïîï' 'mood' 'surf' 'gangsta' 'inspirational' 'idm'\n",
      " 'ethnic' 'bluegrass' 'broadway' 'animated' 'americana' 'karadeniz'\n",
      " 'rockabilly' 'colombian' 'self' 'hop' 'sertanejo' 'japanese' 'canzone'\n",
      " 'lounge' 'sport' 'ragga' 'traditional' 'gitarre' 'frankreich' 'emo'\n",
      " 'laiko' 'cantopop' 'glitch' 'documentary' 'oceania' 'popeurodance' 'dark'\n",
      " 'vi' 'grunge' 'hardstyle' 'samba' 'garage' 'art' 'folktronica' 'entehno'\n",
      " 'mediterranean' 'chamber' 'cuban' 'taraftar' 'gypsy' 'hardtechno'\n",
      " 'shoegazing' 'bossa' 'latino' 'worldbeat' 'malaysian' 'baile' 'ghazal'\n",
      " 'arabic' 'popelectronic' 'acid' 'kayokyoku' 'neoklassik' 'tribal'\n",
      " 'tanzorchester' 'native' 'independent' 'cantautori' 'handsup' 'punjabi'\n",
      " 'synthpop' 'rave' 'französisch' 'quebecois' 'speech' 'soulful' 'jam'\n",
      " 'ram' 'horror' 'orchestral' 'neue' 'roots' 'slow' 'jungle' 'indipop'\n",
      " 'axé' 'fado' 'showtunes' 'arena' 'irish' 'mandopop' 'forró' 'dirty'\n",
      " 'regional']\n"
     ]
    }
   ],
   "source": [
    "# Comprueba de nuevo los duplicados implícitos\n",
    "print(df['genre'].unique())"
   ]
  },
  {
   "cell_type": "markdown",
   "metadata": {},
   "source": [
    "<div class=\"alert alert-block alert-warning\">\n",
    "<b>Celdas [20–22]</b> <a class=\"tocSkip\"></a><br>\n",
    "La función `replace_wrong_genres()` es útil y está bien estructurada, pero observamos que al final de la limpieza aún aparece `'hip-hop'` entre los valores únicos. Esto sugiere que la función puede no haber aplicado los reemplazos de forma exhaustiva o que los géneros contenían caracteres ocultos (como guiones especiales). Sería recomendable revisar con `strip()` y verificar variantes con espacios u otros caracteres invisibles.\n",
    "</div>\n"
   ]
  },
  {
   "cell_type": "markdown",
   "metadata": {},
   "source": [
    "<div class=\"alert alert-block alert-info\">\n",
    "<b>Comentario estudiante</b><a class=\"tocSkip\"></a>\n",
    "Ok, de acuerdo, gracias por la sugerencia. Estoy aprendiendo también que puedo hacer cosas extras además de lo que piden expresamente en el proyecto, y a lo mejor no lo hice en su momento por que me fueran a calificar mal por no seguir instrucciones."
   ]
  },
  {
   "cell_type": "markdown",
   "metadata": {
    "id": "ALgNbvF3VtPA"
   },
   "source": [
    "[Volver a Contenidos](#back)"
   ]
  },
  {
   "cell_type": "markdown",
   "metadata": {
    "id": "jz6a9-7HQUDd"
   },
   "source": [
    "### Observaciones <a id='data_preprocessing_conclusions'></a>\n",
    "\n",
    "`Redacta un breve resumen de lo que descubriste al analizar los datos. Tu respuesta debe identificar los problemas detectados, explicar cómo los resolviste y describir cómo esas acciones mejoran la calidad del análisis.`\n",
    "\n"
   ]
  },
  {
   "cell_type": "markdown",
   "metadata": {
    "id": "lN8zFHxhAF5O"
   },
   "source": [
    "Etapa 2.14. Descríbelo aquí.\n",
    "\n",
    "Al empezar a ver los datos, antes de poderlos analizar como tal, se detectaron algunos problemas con ellos que pueden ocacionar problemas para su análisis, como lo es primeramente la forma en como esta capturada, tenemos que homologar para que sea mas facil su consulta y análisis, es así que pusimos el nombre de las columnas en minusculas, quitamos espacios y tratamos de usar el estilo snake_case, luego tuvimos que limpiar el contenido del DataFrame, detectando valores ausentes y duplicados tanto explícitos como implícitos. Ahora si que ya tenemos un DataFrame limpio y homologado, va a ser más fácil su consulta y análisis. "
   ]
  },
  {
   "cell_type": "markdown",
   "metadata": {
    "id": "eK1es74rVujj"
   },
   "source": [
    "[Volver a Contenidos](#back)"
   ]
  },
  {
   "cell_type": "markdown",
   "metadata": {
    "id": "WttZHXH0SqKk"
   },
   "source": [
    "## Etapa 3. Prueba de la hipótesis <a id='hypothesis'></a>"
   ]
  },
  {
   "cell_type": "markdown",
   "metadata": {
    "id": "Im936VVi_Zcu"
   },
   "source": [
    "### Tarea: Comparar el comportamiento de los usuarios en las dos ciudades <a id='activity'></a>"
   ]
  },
  {
   "cell_type": "markdown",
   "metadata": {
    "id": "nwt_MuaL_Zcu"
   },
   "source": [
    "La hipótesis que queremos probar plantea que existen diferencias en la forma en que los usuarios de Springfield y Shelbyville consumen música.\n",
    "Para analizar esto, nos enfocaremos en los datos correspondientes a tres días específicos de la semana: lunes, miércoles y viernes."
   ]
  },
  {
   "cell_type": "markdown",
   "metadata": {
    "id": "8Dw_YMmT_Zcu"
   },
   "source": [
    "El análisis consistirá en comparar la cantidad de canciones reproducidas por los usuarios de cada ciudad en esos días. Esto nos permitirá observar posibles patrones o diferencias en los hábitos de consumo entre Springfield y Shelbyville.\n",
    "\n",
    "Para llevar a cabo este análisis, es importante seguir el enfoque de dividir-aplicar-combinar, del que ya hablamos en la lección. En este caso:\n",
    "\n",
    "*  Dividir: separamos los datos en grupos según la ciudad.\n",
    "\n",
    "*  Aplicar: dentro de cada grupo, contamos cuántas canciones se reprodujeron.\n",
    "\n",
    "*  Combinar: reunimos los resultados en una estructura que nos permita comparar fácilmente ambas ciudades."
   ]
  },
  {
   "cell_type": "markdown",
   "metadata": {
    "id": "c0MoTnZcB-hW"
   },
   "source": [
    "Este procedimiento debe repetirse de forma independiente para cada uno de los tres días seleccionados. El resultado final debe mostrar el número de reproducciones por ciudad en cada uno de esos días.\n",
    "\n",
    "Una posible forma de estructurar el código sería con la siguiente expresión:\n",
    "\n",
    "`df.groupby(by='...')['...'].method()`\n",
    "\n",
    "Deberás completar los argumentos correspondientes para agrupar por ciudad y contar las canciones reproducidas. Este enfoque te dará una visión clara y comparativa del comportamiento de los usuarios en ambas ciudades."
   ]
  },
  {
   "cell_type": "markdown",
   "metadata": {
    "id": "dgMGeLF2CMJv"
   },
   "source": [
    "Etapa 3.1. Cuenta cuántas canciones se reprodujeron en cada ciudad utilizando la columna 'track' como referencia."
   ]
  },
  {
   "cell_type": "code",
   "execution_count": 23,
   "metadata": {
    "id": "0_Qs96oh_Zcu"
   },
   "outputs": [
    {
     "name": "stdout",
     "output_type": "stream",
     "text": [
      "city\n",
      "Shelbyville    18512\n",
      "Springfield    42741\n",
      "Name: track, dtype: int64\n"
     ]
    }
   ],
   "source": [
    "# Cuenta las canciones reproducidas en cada ciudad\n",
    "\n",
    "print(df.groupby(by='city')['track'].count())"
   ]
  },
  {
   "cell_type": "markdown",
   "metadata": {
    "id": "cC2tNrlL_Zcu"
   },
   "source": [
    "`Redacta brevemente tus observaciones sobre los resultados. ¿Qué diferencias notaste entre Springfield y Shelbyville? ¿A qué podrían deberse esas diferencias?`"
   ]
  },
  {
   "cell_type": "markdown",
   "metadata": {
    "id": "Kjb4vX38DC3I"
   },
   "source": [
    "Etapa 3.2. Escribe tus observaciones aquí.\n",
    "\n",
    "Lo que observamos con esta información es que en la Ciudad de Springfield se reprodujeron más canciones que en Shelbyville, ésto podría deberse a que la ciudad de Springfield tiene mucho más población que la ciudad de Shelbyville. También puede haber otros factores como el nivel económico de la población que puede llegar a permitir mayor acceso a la pltaforma de pago en una que en otra."
   ]
  },
  {
   "cell_type": "markdown",
   "metadata": {
    "id": "dzli3w8o_Zcu"
   },
   "source": [
    "Etapa 3.3.\n",
    "1. Agrupa los datos por día de la semana y cuenta cuántas canciones se reprodujeron los lunes, miércoles y viernes.\n",
    "\n",
    "2. Utiliza el mismo método de conteo que antes, pero ahora cambia la columna de agrupación para enfocarte en el día.\n",
    "\n",
    "3. Esto te permitirá identificar posibles patrones de escucha según el día de la semana.\n"
   ]
  },
  {
   "cell_type": "code",
   "execution_count": 24,
   "metadata": {
    "id": "uZMKjiJz_Zcu"
   },
   "outputs": [
    {
     "name": "stdout",
     "output_type": "stream",
     "text": [
      "day\n",
      "Friday       21840\n",
      "Monday       21354\n",
      "Wednesday    18059\n",
      "Name: track, dtype: int64\n"
     ]
    }
   ],
   "source": [
    "# Calcula las canciones reproducidas en cada uno de los tres días\n",
    "print(df.groupby(by='day')['track'].count())"
   ]
  },
  {
   "cell_type": "markdown",
   "metadata": {
    "id": "t_Qx-3NewAnK"
   },
   "source": [
    "`Describe brevemente qué observaste al comparar los lunes, miércoles y viernes. ¿Hubo algún día con menos actividad? ¿Cambian las conclusiones si analizas cada ciudad por separado?`"
   ]
  },
  {
   "cell_type": "markdown",
   "metadata": {
    "id": "q537Zl8oDNfH"
   },
   "source": [
    "Etapa 3.4. Escribe tus observaciones aquí.\n",
    "\n",
    "Aqui podemos observar que en general hay un mayor número de reproducciones los días viernes y el día de menos reproducciones es el miércoles. Esto refleja un actuar general de ambas ciudades, que la tendencia sería que si lo analizamos en cada ciudad, la tendencia debería ser la misma que el actuar general."
   ]
  },
  {
   "cell_type": "markdown",
   "metadata": {
    "id": "POzs8bGa_Zcu"
   },
   "source": [
    "Hasta ahora has aprendido a contar entradas agrupándolas por un solo criterio, como la ciudad o el día de la semana. Ahora vamos a dar un paso más: necesitas crear una función que **cuente cuántas canciones se reprodujeron en una ciudad específica durante un día determinado**, combinando ambos criterios de filtrado.\n",
    "\n",
    "La función se llamará `number_tracks()` y debe aceptar dos parámetros:\n",
    "\n",
    "- `day`: un día de la semana (por ejemplo, `'Monday'`).\n",
    "- `city`: el nombre de una ciudad (por ejemplo, `'Springfield'`).\n",
    "\n",
    "Dentro de la función, deberás aplicar un **filtrado secuencial mediante indexación lógica**: primero tendrás que filtrar el DataFrame por el día, y luego por la ciudad. Una vez que tengas el subconjunto de datos correcto, debes contar cuántas veces aparece un valor en la columna `'user_id'`. Ese número representará el total de canciones reproducidas bajo esos dos criterios.\n",
    "\n"
   ]
  },
  {
   "cell_type": "markdown",
   "metadata": {
    "id": "itD2P5lhEpuX"
   },
   "source": [
    "Etapa 3.5.\n",
    "1. Declara una función llamada `number_tracks()` con dos parámetros: `day` y `city`.\n",
    "\n",
    "2. Filtra el DataFrame para conservar solo las filas donde la columna `'day'` sea igual al valor del parámetro `day`.\n",
    "\n",
    "3. A partir del resultado anterior, filtra nuevamente para conservar solo las filas donde la columna `'city'` sea igual al valor del parámetro `city`.\n",
    "\n",
    "4. Extrae la columna `'user_id'` del DataFrame filtrado y utiliza el método `.count()` para contar el número de entradas.\n",
    "\n",
    "5. Guarda ese valor en una variable y **devuélvelo** como resultado de la función.\n"
   ]
  },
  {
   "cell_type": "code",
   "execution_count": 25,
   "metadata": {
    "id": "Nz3GdQB1_Zcu"
   },
   "outputs": [],
   "source": [
    "# Declara la función number_tracks() con dos parámetros: day= y city=.\n",
    "def number_tracks(day, city):\n",
    "    # Almacena las filas del DataFrame donde el valor en la columna 'day' es igual al parámetro day=\n",
    "    day_filter = df[df['day'] == day]\n",
    "    # Filtra las filas donde el valor en la columna 'city' es igual al parámetro city=\n",
    "    city_filter = day_filter[day_filter['city'] == city]\n",
    "    # Extrae la columna 'user_id' de la tabla filtrada y aplica el método count()\n",
    "    user_filter = city_filter['user_id'].count()\n",
    "    # Devuelve el número de valores de la columna 'user_id'\n",
    "    return user_filter\n",
    "\n"
   ]
  },
  {
   "cell_type": "markdown",
   "metadata": {
    "id": "ytf7xFrFJQ2r"
   },
   "source": [
    "Etapa 3.6. Llama a `number_tracks()` seis veces, cambiando los valores de los parámetros para que puedas recuperar los datos de ambas ciudades para cada uno de los tres días."
   ]
  },
  {
   "cell_type": "code",
   "execution_count": 26,
   "metadata": {
    "id": "rJcRATNQ_Zcu"
   },
   "outputs": [
    {
     "name": "stdout",
     "output_type": "stream",
     "text": [
      "15740\n"
     ]
    }
   ],
   "source": [
    "# El número de canciones reproducidas en Springfield el lunes\n",
    "print(number_tracks('Monday', 'Springfield'))"
   ]
  },
  {
   "cell_type": "code",
   "execution_count": 27,
   "metadata": {
    "id": "hq_ncZ5T_Zcu"
   },
   "outputs": [
    {
     "name": "stdout",
     "output_type": "stream",
     "text": [
      "5614\n"
     ]
    }
   ],
   "source": [
    "# El número de canciones reproducidas en Shelbyville el lunes\n",
    "print(number_tracks('Monday', 'Shelbyville'))"
   ]
  },
  {
   "cell_type": "code",
   "execution_count": 28,
   "metadata": {
    "id": "_NTy2VPU_Zcu"
   },
   "outputs": [
    {
     "name": "stdout",
     "output_type": "stream",
     "text": [
      "11056\n"
     ]
    }
   ],
   "source": [
    "# El número de canciones reproducidas en Springfield el miércoles\n",
    "print(number_tracks('Wednesday', 'Springfield'))"
   ]
  },
  {
   "cell_type": "code",
   "execution_count": 29,
   "metadata": {
    "id": "j2y3TAwo_Zcu"
   },
   "outputs": [
    {
     "name": "stdout",
     "output_type": "stream",
     "text": [
      "7003\n"
     ]
    }
   ],
   "source": [
    "# El número de canciones reproducidas en Shelbyville el miércoles\n",
    "print(number_tracks('Wednesday', 'Shelbyville'))"
   ]
  },
  {
   "cell_type": "code",
   "execution_count": 30,
   "metadata": {
    "id": "vYDw5u_K_Zcu"
   },
   "outputs": [
    {
     "name": "stdout",
     "output_type": "stream",
     "text": [
      "15945\n"
     ]
    }
   ],
   "source": [
    "# El número de canciones reproducidas en Springfield el viernes\n",
    "print(number_tracks('Friday', 'Springfield'))"
   ]
  },
  {
   "cell_type": "code",
   "execution_count": 31,
   "metadata": {
    "id": "8_yzFtW3_Zcu"
   },
   "outputs": [
    {
     "name": "stdout",
     "output_type": "stream",
     "text": [
      "5895\n"
     ]
    }
   ],
   "source": [
    "# El número de canciones reproducidas en Shelbyville el viernes\n",
    "print(number_tracks('Friday', 'Shelbyville'))"
   ]
  },
  {
   "cell_type": "markdown",
   "metadata": {},
   "source": [
    "<div class=\"alert alert-block alert-success\">\n",
    "<b>Celdas [23–31]</b> <a class=\"tocSkip\"></a><br>\n",
    "Muy buen trabajo al implementar todo el flujo de análisis comparativo por ciudad y día de la semana. El uso de `groupby()` para obtener estadísticas generales, seguido por una función personalizada (`number_tracks()`) para combinaciones específicas, demuestra una comprensión adecuada del enfoque dividir-aplicar-combinar. Además, las observaciones reflejan una interpretación crítica y fundamentada de los resultados. Solo como sugerencia menor, podrías simplificar el filtrado dentro de la función para mayor legibilidad. En general, este bloque está muy bien estructurado y alineado con los objetivos del análisis.\n",
    "</div>\n"
   ]
  },
  {
   "cell_type": "markdown",
   "metadata": {
    "id": "p7nFQajCVw5B"
   },
   "source": [
    "[Volver a Contenidos](#back)"
   ]
  },
  {
   "cell_type": "markdown",
   "metadata": {
    "id": "ykKQ0N65_Zcv"
   },
   "source": [
    "# Conclusiones <a id='end'></a>"
   ]
  },
  {
   "cell_type": "markdown",
   "metadata": {
    "id": "tjUwbHb3_Zcv"
   },
   "source": [
    "##Escribe tus conclusiones finales sobre la hipótesis.\n",
    " * ¿Los datos apoyan la idea de que el comportamiento de los usuarios respecto a la música que escuchan varía según la ciudad y el día de la semana?\n",
    " * Indica si la hipótesis debe aceptarse o rechazarse, y justifica tu respuesta con base en los resultados obtenidos."
   ]
  },
  {
   "cell_type": "markdown",
   "metadata": {
    "id": "piRc-ATKFwZ3"
   },
   "source": [
    "Etapa 4. Detalla aquí tus conclusiones.\n",
    "\n",
    "Del análisis podemos observar que hay más usuarios de Springfield que de Shelbyville, que si consideraramos datos genéricos de la información hace que los usuarios de Springfield marquen tendencia, sin embargo al analizar por separado cada una de las ciudades vemos que el día que más actividad hay en Springfield es el viernes, sin embargo el día con más actividad para los usuarios de Shelbyville son los días miercoles, y así el día con menos actividad en Springfield es el miercoles y en Shelbyville es el lunes, confirmando así la hipótesis por lo que SI SE ACEPTA demostrando así que la actividad de los usuarios difiere según el día de la semana y dependiendo de la ciudad."
   ]
  },
  {
   "cell_type": "markdown",
   "metadata": {
    "id": "azLHu64yOIp7"
   },
   "source": [
    "### Nota\n",
    "En los proyectos de investigación reales, la prueba de hipótesis estadística es más precisa y cuantitativa. También ten en cuenta que no siempre se pueden sacar conclusiones sobre una ciudad entera a partir de datos de una sola fuente.\n",
    "\n",
    "Aprenderás más sobre la prueba de hipótesis en el sprint de análisis estadístico de datos."
   ]
  },
  {
   "cell_type": "markdown",
   "metadata": {
    "id": "Ju4AHDSgV1FE"
   },
   "source": [
    "[Volver a Contenidos](#back)"
   ]
  },
  {
   "cell_type": "markdown",
   "metadata": {},
   "source": [
    "<div class=\"alert alert-block alert-success\">\n",
    "<b>Comentario final</b> <a class=\"tocSkip\"></a><br>\n",
    "¡Buen trabajo, Adolfo! Tu proyecto destaca por una limpieza de datos sólida, un razonamiento claro durante la formulación y prueba de la hipótesis, y una ejecución muy organizada. Lograste identificar problemas comunes en datos reales y los resolviste con buenas prácticas.  ¡Sigue adelante con este excelente nivel de compromiso!\n",
    "</div>\n"
   ]
  }
 ],
 "metadata": {
  "ExecuteTimeLog": [
   {
    "duration": 324,
    "start_time": "2025-05-01T22:16:39.617Z"
   },
   {
    "duration": 6,
    "start_time": "2025-05-01T22:17:57.026Z"
   },
   {
    "duration": 111,
    "start_time": "2025-05-01T22:18:36.760Z"
   },
   {
    "duration": 7,
    "start_time": "2025-05-01T22:20:22.956Z"
   },
   {
    "duration": 21,
    "start_time": "2025-05-01T22:21:55.389Z"
   },
   {
    "duration": 44,
    "start_time": "2025-05-01T22:55:31.422Z"
   },
   {
    "duration": 602,
    "start_time": "2025-05-01T22:56:54.796Z"
   },
   {
    "duration": 5,
    "start_time": "2025-05-01T22:57:13.551Z"
   },
   {
    "duration": 96,
    "start_time": "2025-05-01T22:57:22.840Z"
   },
   {
    "duration": 58,
    "start_time": "2025-05-01T22:58:35.896Z"
   },
   {
    "duration": 172,
    "start_time": "2025-05-02T03:34:49.523Z"
   },
   {
    "duration": 14,
    "start_time": "2025-05-02T03:36:16.317Z"
   },
   {
    "duration": 13,
    "start_time": "2025-05-02T03:36:27.916Z"
   },
   {
    "duration": 347,
    "start_time": "2025-05-02T03:36:41.363Z"
   },
   {
    "duration": 133,
    "start_time": "2025-05-02T03:36:46.352Z"
   },
   {
    "duration": 10,
    "start_time": "2025-05-02T03:36:55.688Z"
   },
   {
    "duration": 28,
    "start_time": "2025-05-02T03:37:04.215Z"
   },
   {
    "duration": 62,
    "start_time": "2025-05-02T03:37:11.784Z"
   },
   {
    "duration": 5,
    "start_time": "2025-05-02T03:37:19.336Z"
   },
   {
    "duration": 3,
    "start_time": "2025-05-02T03:49:57.625Z"
   },
   {
    "duration": 2,
    "start_time": "2025-05-02T03:50:35.741Z"
   },
   {
    "duration": 588,
    "start_time": "2025-05-02T03:53:43.325Z"
   },
   {
    "duration": 41,
    "start_time": "2025-05-02T03:55:29.414Z"
   },
   {
    "duration": 4,
    "start_time": "2025-05-02T03:56:53.293Z"
   },
   {
    "duration": 8,
    "start_time": "2025-05-02T03:58:07.570Z"
   },
   {
    "duration": 4,
    "start_time": "2025-05-02T03:59:19.404Z"
   },
   {
    "duration": 37,
    "start_time": "2025-05-02T04:06:11.152Z"
   },
   {
    "duration": 4,
    "start_time": "2025-05-02T04:07:29.368Z"
   },
   {
    "duration": 12,
    "start_time": "2025-05-02T04:08:35.964Z"
   },
   {
    "duration": 4,
    "start_time": "2025-05-02T04:09:41.208Z"
   },
   {
    "duration": 4,
    "start_time": "2025-05-02T04:10:18.217Z"
   },
   {
    "duration": 5,
    "start_time": "2025-05-02T04:10:41.808Z"
   },
   {
    "duration": 9,
    "start_time": "2025-05-02T04:10:54.339Z"
   },
   {
    "duration": 22,
    "start_time": "2025-05-02T04:10:56.640Z"
   },
   {
    "duration": 11,
    "start_time": "2025-05-02T04:11:09.955Z"
   },
   {
    "duration": 3,
    "start_time": "2025-05-02T04:11:17.912Z"
   },
   {
    "duration": 50,
    "start_time": "2025-05-02T04:11:36.047Z"
   },
   {
    "duration": 4,
    "start_time": "2025-05-02T04:11:46.085Z"
   },
   {
    "duration": 210,
    "start_time": "2025-05-02T04:11:52.080Z"
   },
   {
    "duration": 8,
    "start_time": "2025-05-02T04:12:00.864Z"
   },
   {
    "duration": 36,
    "start_time": "2025-05-02T04:12:12.910Z"
   },
   {
    "duration": 61,
    "start_time": "2025-05-02T04:12:23.326Z"
   },
   {
    "duration": 16,
    "start_time": "2025-05-02T04:12:32.842Z"
   },
   {
    "duration": 7,
    "start_time": "2025-05-02T04:12:50.152Z"
   },
   {
    "duration": 5,
    "start_time": "2025-05-02T04:12:57.744Z"
   },
   {
    "duration": 5,
    "start_time": "2025-05-02T04:14:53.416Z"
   },
   {
    "duration": 9,
    "start_time": "2025-05-02T04:22:59.776Z"
   },
   {
    "duration": 5,
    "start_time": "2025-05-02T04:33:26.872Z"
   },
   {
    "duration": 5,
    "start_time": "2025-05-02T04:33:43.549Z"
   },
   {
    "duration": 7,
    "start_time": "2025-05-02T04:33:51.428Z"
   },
   {
    "duration": 4,
    "start_time": "2025-05-02T04:33:59.705Z"
   },
   {
    "duration": 114,
    "start_time": "2025-05-02T04:34:02.664Z"
   },
   {
    "duration": 3,
    "start_time": "2025-05-02T04:34:20.817Z"
   },
   {
    "duration": 4,
    "start_time": "2025-05-02T04:34:36.576Z"
   },
   {
    "duration": 18,
    "start_time": "2025-05-02T04:34:45.856Z"
   },
   {
    "duration": 5,
    "start_time": "2025-05-02T04:34:52.320Z"
   },
   {
    "duration": 4,
    "start_time": "2025-05-02T04:35:02.715Z"
   },
   {
    "duration": 3,
    "start_time": "2025-05-02T04:36:36.208Z"
   },
   {
    "duration": 19,
    "start_time": "2025-05-02T04:41:23.126Z"
   },
   {
    "duration": 17,
    "start_time": "2025-05-02T04:59:34.433Z"
   },
   {
    "duration": 18,
    "start_time": "2025-05-02T05:00:09.881Z"
   },
   {
    "duration": 157,
    "start_time": "2025-05-02T23:49:46.980Z"
   },
   {
    "duration": 271,
    "start_time": "2025-05-02T23:50:08.765Z"
   },
   {
    "duration": 107,
    "start_time": "2025-05-02T23:50:11.788Z"
   },
   {
    "duration": 6,
    "start_time": "2025-05-02T23:50:16.091Z"
   },
   {
    "duration": 21,
    "start_time": "2025-05-02T23:50:26.057Z"
   },
   {
    "duration": 45,
    "start_time": "2025-05-02T23:50:41.273Z"
   },
   {
    "duration": 4,
    "start_time": "2025-05-02T23:50:49.609Z"
   },
   {
    "duration": 4,
    "start_time": "2025-05-02T23:50:58.248Z"
   },
   {
    "duration": 4,
    "start_time": "2025-05-02T23:51:01.718Z"
   },
   {
    "duration": 3,
    "start_time": "2025-05-02T23:51:11.999Z"
   },
   {
    "duration": 4,
    "start_time": "2025-05-02T23:51:17.917Z"
   },
   {
    "duration": 19,
    "start_time": "2025-05-02T23:51:26.464Z"
   },
   {
    "duration": 12,
    "start_time": "2025-05-02T23:51:34.264Z"
   },
   {
    "duration": 20,
    "start_time": "2025-05-02T23:51:37.849Z"
   },
   {
    "duration": 43,
    "start_time": "2025-05-02T23:51:47.517Z"
   },
   {
    "duration": 53,
    "start_time": "2025-05-02T23:52:58.869Z"
   },
   {
    "duration": 46,
    "start_time": "2025-05-02T23:53:44.505Z"
   },
   {
    "duration": 46,
    "start_time": "2025-05-02T23:54:49.387Z"
   },
   {
    "duration": 41,
    "start_time": "2025-05-02T23:54:56.119Z"
   },
   {
    "duration": 6,
    "start_time": "2025-05-02T23:56:21.019Z"
   },
   {
    "duration": 3,
    "start_time": "2025-05-03T00:15:04.692Z"
   },
   {
    "duration": 9,
    "start_time": "2025-05-03T00:18:37.704Z"
   },
   {
    "duration": 35,
    "start_time": "2025-05-03T00:19:12.464Z"
   },
   {
    "duration": 18,
    "start_time": "2025-05-03T00:20:23.039Z"
   },
   {
    "duration": 12,
    "start_time": "2025-05-03T00:20:35.378Z"
   },
   {
    "duration": 2,
    "start_time": "2025-05-03T00:21:00.928Z"
   },
   {
    "duration": 91,
    "start_time": "2025-05-03T00:21:05.311Z"
   },
   {
    "duration": 5,
    "start_time": "2025-05-03T00:21:08.629Z"
   },
   {
    "duration": 21,
    "start_time": "2025-05-03T00:21:15.098Z"
   },
   {
    "duration": 37,
    "start_time": "2025-05-03T00:21:23.052Z"
   },
   {
    "duration": 3,
    "start_time": "2025-05-03T00:22:02.950Z"
   },
   {
    "duration": 4,
    "start_time": "2025-05-03T00:22:09.125Z"
   },
   {
    "duration": 4,
    "start_time": "2025-05-03T00:22:14.869Z"
   },
   {
    "duration": 3,
    "start_time": "2025-05-03T00:22:24.378Z"
   },
   {
    "duration": 3,
    "start_time": "2025-05-03T00:22:28.273Z"
   },
   {
    "duration": 19,
    "start_time": "2025-05-03T00:22:34.373Z"
   },
   {
    "duration": 12,
    "start_time": "2025-05-03T00:22:42.229Z"
   },
   {
    "duration": 17,
    "start_time": "2025-05-03T00:22:48.468Z"
   },
   {
    "duration": 41,
    "start_time": "2025-05-03T00:22:55.532Z"
   },
   {
    "duration": 42,
    "start_time": "2025-05-03T00:23:00.282Z"
   },
   {
    "duration": 38,
    "start_time": "2025-05-03T00:23:05.936Z"
   },
   {
    "duration": 6,
    "start_time": "2025-05-03T00:23:10.136Z"
   },
   {
    "duration": 3,
    "start_time": "2025-05-03T00:23:20.964Z"
   },
   {
    "duration": 10,
    "start_time": "2025-05-03T00:23:27.769Z"
   },
   {
    "duration": 12,
    "start_time": "2025-05-03T00:23:33.828Z"
   },
   {
    "duration": 11,
    "start_time": "2025-05-03T00:24:25.696Z"
   },
   {
    "duration": 12,
    "start_time": "2025-05-03T00:25:15.242Z"
   },
   {
    "duration": 18,
    "start_time": "2025-05-03T00:25:30.078Z"
   },
   {
    "duration": 3,
    "start_time": "2025-05-03T00:25:38.540Z"
   },
   {
    "duration": 17,
    "start_time": "2025-05-03T00:27:37.127Z"
   },
   {
    "duration": 16,
    "start_time": "2025-05-03T00:28:15.959Z"
   },
   {
    "duration": 3,
    "start_time": "2025-05-03T00:28:26.257Z"
   },
   {
    "duration": 16,
    "start_time": "2025-05-03T00:28:36.036Z"
   },
   {
    "duration": 14,
    "start_time": "2025-05-03T00:32:23.008Z"
   },
   {
    "duration": 12,
    "start_time": "2025-05-03T00:32:40.329Z"
   },
   {
    "duration": 3,
    "start_time": "2025-05-03T00:33:43.709Z"
   },
   {
    "duration": 87,
    "start_time": "2025-05-03T00:33:48.240Z"
   },
   {
    "duration": 5,
    "start_time": "2025-05-03T00:33:51.254Z"
   },
   {
    "duration": 20,
    "start_time": "2025-05-03T00:33:57.730Z"
   },
   {
    "duration": 41,
    "start_time": "2025-05-03T00:34:03.743Z"
   },
   {
    "duration": 3,
    "start_time": "2025-05-03T00:34:12.732Z"
   },
   {
    "duration": 4,
    "start_time": "2025-05-03T00:34:19.565Z"
   },
   {
    "duration": 4,
    "start_time": "2025-05-03T00:34:24.080Z"
   },
   {
    "duration": 3,
    "start_time": "2025-05-03T00:34:29.558Z"
   },
   {
    "duration": 3,
    "start_time": "2025-05-03T00:34:33.081Z"
   },
   {
    "duration": 16,
    "start_time": "2025-05-03T00:34:44.995Z"
   },
   {
    "duration": 18,
    "start_time": "2025-05-03T00:35:05.724Z"
   },
   {
    "duration": 11,
    "start_time": "2025-05-03T00:35:25.216Z"
   },
   {
    "duration": 18,
    "start_time": "2025-05-03T00:35:42.626Z"
   },
   {
    "duration": 40,
    "start_time": "2025-05-03T00:35:50.552Z"
   },
   {
    "duration": 44,
    "start_time": "2025-05-03T00:35:54.486Z"
   },
   {
    "duration": 40,
    "start_time": "2025-05-03T00:36:00.425Z"
   },
   {
    "duration": 6,
    "start_time": "2025-05-03T00:36:06.618Z"
   },
   {
    "duration": 6,
    "start_time": "2025-05-03T00:36:16.765Z"
   },
   {
    "duration": 3,
    "start_time": "2025-05-03T00:36:36.818Z"
   },
   {
    "duration": 10,
    "start_time": "2025-05-03T00:36:41.526Z"
   },
   {
    "duration": 13,
    "start_time": "2025-05-03T00:37:55.103Z"
   },
   {
    "duration": 12,
    "start_time": "2025-05-03T00:39:03.367Z"
   },
   {
    "duration": 14,
    "start_time": "2025-05-03T00:39:38.273Z"
   },
   {
    "duration": 12,
    "start_time": "2025-05-03T00:39:50.128Z"
   },
   {
    "duration": 3,
    "start_time": "2025-05-03T00:40:08.661Z"
   },
   {
    "duration": 87,
    "start_time": "2025-05-03T00:40:12.318Z"
   },
   {
    "duration": 6,
    "start_time": "2025-05-03T00:40:15.964Z"
   },
   {
    "duration": 39,
    "start_time": "2025-05-03T00:40:24.636Z"
   },
   {
    "duration": 156,
    "start_time": "2025-05-03T00:43:41.864Z"
   },
   {
    "duration": 328,
    "start_time": "2025-05-03T00:43:50.190Z"
   },
   {
    "duration": 97,
    "start_time": "2025-05-03T00:43:50.520Z"
   },
   {
    "duration": 7,
    "start_time": "2025-05-03T00:43:50.619Z"
   },
   {
    "duration": 20,
    "start_time": "2025-05-03T00:43:50.629Z"
   },
   {
    "duration": 63,
    "start_time": "2025-05-03T00:43:50.651Z"
   },
   {
    "duration": 3,
    "start_time": "2025-05-03T00:43:50.716Z"
   },
   {
    "duration": 4,
    "start_time": "2025-05-03T00:43:50.721Z"
   },
   {
    "duration": 4,
    "start_time": "2025-05-03T00:43:50.727Z"
   },
   {
    "duration": 4,
    "start_time": "2025-05-03T00:43:50.733Z"
   },
   {
    "duration": 2,
    "start_time": "2025-05-03T00:43:50.741Z"
   },
   {
    "duration": 51,
    "start_time": "2025-05-03T00:43:50.744Z"
   },
   {
    "duration": 12,
    "start_time": "2025-05-03T00:43:50.797Z"
   },
   {
    "duration": 16,
    "start_time": "2025-05-03T00:43:50.811Z"
   },
   {
    "duration": 59,
    "start_time": "2025-05-03T00:43:50.828Z"
   },
   {
    "duration": 48,
    "start_time": "2025-05-03T00:43:50.889Z"
   },
   {
    "duration": 54,
    "start_time": "2025-05-03T00:43:50.939Z"
   },
   {
    "duration": 7,
    "start_time": "2025-05-03T00:43:50.996Z"
   },
   {
    "duration": 6,
    "start_time": "2025-05-03T00:43:51.004Z"
   },
   {
    "duration": 11,
    "start_time": "2025-05-03T00:43:51.012Z"
   },
   {
    "duration": 204,
    "start_time": "2025-05-03T00:43:51.026Z"
   },
   {
    "duration": 0,
    "start_time": "2025-05-03T00:43:51.232Z"
   },
   {
    "duration": 0,
    "start_time": "2025-05-03T00:43:51.233Z"
   },
   {
    "duration": 0,
    "start_time": "2025-05-03T00:43:51.235Z"
   },
   {
    "duration": 0,
    "start_time": "2025-05-03T00:43:51.236Z"
   },
   {
    "duration": 0,
    "start_time": "2025-05-03T00:43:51.237Z"
   },
   {
    "duration": 0,
    "start_time": "2025-05-03T00:43:51.239Z"
   },
   {
    "duration": 0,
    "start_time": "2025-05-03T00:43:51.241Z"
   },
   {
    "duration": 0,
    "start_time": "2025-05-03T00:43:51.243Z"
   },
   {
    "duration": 0,
    "start_time": "2025-05-03T00:43:51.244Z"
   },
   {
    "duration": 12,
    "start_time": "2025-05-03T00:44:01.935Z"
   },
   {
    "duration": 13,
    "start_time": "2025-05-03T00:44:25.589Z"
   },
   {
    "duration": 306,
    "start_time": "2025-05-03T00:44:39.190Z"
   },
   {
    "duration": 98,
    "start_time": "2025-05-03T00:44:41.600Z"
   },
   {
    "duration": 7,
    "start_time": "2025-05-03T00:44:45.249Z"
   },
   {
    "duration": 20,
    "start_time": "2025-05-03T00:44:52.969Z"
   },
   {
    "duration": 42,
    "start_time": "2025-05-03T00:45:53.243Z"
   },
   {
    "duration": 3,
    "start_time": "2025-05-03T00:46:10.500Z"
   },
   {
    "duration": 5,
    "start_time": "2025-05-03T00:46:22.234Z"
   },
   {
    "duration": 4,
    "start_time": "2025-05-03T00:46:29.424Z"
   },
   {
    "duration": 4,
    "start_time": "2025-05-03T00:46:32.716Z"
   },
   {
    "duration": 2,
    "start_time": "2025-05-03T00:46:39.043Z"
   },
   {
    "duration": 17,
    "start_time": "2025-05-03T00:46:42.242Z"
   },
   {
    "duration": 11,
    "start_time": "2025-05-03T00:46:49.613Z"
   },
   {
    "duration": 17,
    "start_time": "2025-05-03T00:46:53.506Z"
   },
   {
    "duration": 44,
    "start_time": "2025-05-03T00:47:04.551Z"
   },
   {
    "duration": 46,
    "start_time": "2025-05-03T00:47:08.761Z"
   },
   {
    "duration": 38,
    "start_time": "2025-05-03T00:47:13.592Z"
   },
   {
    "duration": 6,
    "start_time": "2025-05-03T00:47:21.429Z"
   },
   {
    "duration": 6,
    "start_time": "2025-05-03T00:48:50.512Z"
   },
   {
    "duration": 6,
    "start_time": "2025-05-03T00:49:52.086Z"
   },
   {
    "duration": 6,
    "start_time": "2025-05-03T00:49:55.959Z"
   },
   {
    "duration": 3,
    "start_time": "2025-05-03T00:50:54.122Z"
   },
   {
    "duration": 4,
    "start_time": "2025-05-03T00:50:58.046Z"
   },
   {
    "duration": 6,
    "start_time": "2025-05-03T00:51:07.069Z"
   },
   {
    "duration": 158,
    "start_time": "2025-05-03T02:26:40.201Z"
   },
   {
    "duration": 324,
    "start_time": "2025-05-03T02:26:43.538Z"
   },
   {
    "duration": 131,
    "start_time": "2025-05-03T02:26:46.915Z"
   },
   {
    "duration": 8,
    "start_time": "2025-05-03T02:26:52.789Z"
   },
   {
    "duration": 22,
    "start_time": "2025-05-03T02:26:59.558Z"
   },
   {
    "duration": 42,
    "start_time": "2025-05-03T02:27:06.949Z"
   },
   {
    "duration": 3,
    "start_time": "2025-05-03T02:27:16.529Z"
   },
   {
    "duration": 3,
    "start_time": "2025-05-03T02:27:23.676Z"
   },
   {
    "duration": 4,
    "start_time": "2025-05-03T02:27:26.483Z"
   },
   {
    "duration": 3,
    "start_time": "2025-05-03T02:27:44.080Z"
   },
   {
    "duration": 17,
    "start_time": "2025-05-03T02:27:50.408Z"
   },
   {
    "duration": 16,
    "start_time": "2025-05-03T02:28:00.879Z"
   },
   {
    "duration": 18,
    "start_time": "2025-05-03T02:28:04.335Z"
   },
   {
    "duration": 46,
    "start_time": "2025-05-03T02:28:10.853Z"
   },
   {
    "duration": 48,
    "start_time": "2025-05-03T02:28:13.907Z"
   },
   {
    "duration": 40,
    "start_time": "2025-05-03T02:28:17.514Z"
   },
   {
    "duration": 6,
    "start_time": "2025-05-03T02:28:34.569Z"
   },
   {
    "duration": 3,
    "start_time": "2025-05-03T02:28:55.643Z"
   },
   {
    "duration": 5,
    "start_time": "2025-05-03T02:29:04.983Z"
   },
   {
    "duration": 8,
    "start_time": "2025-05-03T02:29:09.770Z"
   },
   {
    "duration": 12,
    "start_time": "2025-05-03T02:42:43.949Z"
   },
   {
    "duration": 11,
    "start_time": "2025-05-03T02:51:25.363Z"
   },
   {
    "duration": 12,
    "start_time": "2025-05-03T02:52:10.361Z"
   },
   {
    "duration": 3,
    "start_time": "2025-05-03T03:09:38.546Z"
   },
   {
    "duration": 614,
    "start_time": "2025-05-03T03:11:25.882Z"
   },
   {
    "duration": 4,
    "start_time": "2025-05-03T03:17:03.071Z"
   },
   {
    "duration": 80,
    "start_time": "2025-05-03T03:17:08.259Z"
   },
   {
    "duration": 20,
    "start_time": "2025-05-03T03:17:44.006Z"
   },
   {
    "duration": 58,
    "start_time": "2025-05-03T03:18:32.250Z"
   },
   {
    "duration": 12,
    "start_time": "2025-05-03T03:21:10.860Z"
   },
   {
    "duration": 73,
    "start_time": "2025-05-03T03:22:44.244Z"
   },
   {
    "duration": 5,
    "start_time": "2025-05-03T03:22:52.909Z"
   },
   {
    "duration": 14,
    "start_time": "2025-05-03T03:24:14.255Z"
   },
   {
    "duration": 3,
    "start_time": "2025-05-03T03:25:32.627Z"
   },
   {
    "duration": 52,
    "start_time": "2025-05-03T03:25:59.409Z"
   },
   {
    "duration": 70,
    "start_time": "2025-05-03T03:28:56.073Z"
   },
   {
    "duration": 4,
    "start_time": "2025-05-03T03:28:59.818Z"
   },
   {
    "duration": 52,
    "start_time": "2025-05-03T03:29:03.712Z"
   },
   {
    "duration": 11,
    "start_time": "2025-05-03T03:31:22.533Z"
   },
   {
    "duration": 2,
    "start_time": "2025-05-03T03:31:30.576Z"
   },
   {
    "duration": 51,
    "start_time": "2025-05-03T03:32:00.979Z"
   },
   {
    "duration": 57,
    "start_time": "2025-05-03T03:43:46.442Z"
   },
   {
    "duration": 20,
    "start_time": "2025-05-03T03:44:21.590Z"
   },
   {
    "duration": 4,
    "start_time": "2025-05-03T03:45:42.323Z"
   },
   {
    "duration": 341,
    "start_time": "2025-05-03T03:46:07.833Z"
   },
   {
    "duration": 90,
    "start_time": "2025-05-03T03:46:10.859Z"
   },
   {
    "duration": 9,
    "start_time": "2025-05-03T03:46:14.295Z"
   },
   {
    "duration": 40,
    "start_time": "2025-05-03T03:46:23.234Z"
   },
   {
    "duration": 42,
    "start_time": "2025-05-03T03:46:32.511Z"
   },
   {
    "duration": 2,
    "start_time": "2025-05-03T03:46:43.316Z"
   },
   {
    "duration": 6,
    "start_time": "2025-05-03T03:46:56.288Z"
   },
   {
    "duration": 4,
    "start_time": "2025-05-03T03:46:59.974Z"
   },
   {
    "duration": 3,
    "start_time": "2025-05-03T03:47:06.404Z"
   },
   {
    "duration": 3,
    "start_time": "2025-05-03T03:47:10.677Z"
   },
   {
    "duration": 17,
    "start_time": "2025-05-03T03:47:19.751Z"
   },
   {
    "duration": 17,
    "start_time": "2025-05-03T03:47:27.264Z"
   },
   {
    "duration": 17,
    "start_time": "2025-05-03T03:47:31.236Z"
   },
   {
    "duration": 43,
    "start_time": "2025-05-03T03:47:37.595Z"
   },
   {
    "duration": 48,
    "start_time": "2025-05-03T03:47:39.959Z"
   },
   {
    "duration": 38,
    "start_time": "2025-05-03T03:47:43.316Z"
   },
   {
    "duration": 6,
    "start_time": "2025-05-03T03:47:52.831Z"
   },
   {
    "duration": 3,
    "start_time": "2025-05-03T03:47:57.326Z"
   },
   {
    "duration": 5,
    "start_time": "2025-05-03T03:48:01.810Z"
   },
   {
    "duration": 11,
    "start_time": "2025-05-03T03:48:05.801Z"
   },
   {
    "duration": 9,
    "start_time": "2025-05-03T03:48:51.699Z"
   },
   {
    "duration": 9,
    "start_time": "2025-05-03T03:48:59.252Z"
   },
   {
    "duration": 3,
    "start_time": "2025-05-03T03:49:11.593Z"
   },
   {
    "duration": 15,
    "start_time": "2025-05-03T03:49:52.765Z"
   },
   {
    "duration": 14,
    "start_time": "2025-05-03T03:50:51.862Z"
   },
   {
    "duration": 14,
    "start_time": "2025-05-03T03:52:06.431Z"
   },
   {
    "duration": 14,
    "start_time": "2025-05-03T03:53:20.942Z"
   },
   {
    "duration": 13,
    "start_time": "2025-05-03T03:54:20.446Z"
   },
   {
    "duration": 15,
    "start_time": "2025-05-03T03:54:44.027Z"
   },
   {
    "duration": 305,
    "start_time": "2025-05-03T04:06:10.560Z"
   },
   {
    "duration": 117,
    "start_time": "2025-05-03T04:06:14.491Z"
   },
   {
    "duration": 8,
    "start_time": "2025-05-03T04:06:20.085Z"
   },
   {
    "duration": 23,
    "start_time": "2025-05-03T04:06:25.619Z"
   },
   {
    "duration": 58,
    "start_time": "2025-05-03T04:06:38.378Z"
   },
   {
    "duration": 3,
    "start_time": "2025-05-03T04:07:37.904Z"
   },
   {
    "duration": 5,
    "start_time": "2025-05-03T04:07:59.228Z"
   },
   {
    "duration": 3,
    "start_time": "2025-05-03T04:08:03.868Z"
   },
   {
    "duration": 4,
    "start_time": "2025-05-03T04:08:06.306Z"
   },
   {
    "duration": 3,
    "start_time": "2025-05-03T04:08:08.747Z"
   },
   {
    "duration": 24,
    "start_time": "2025-05-03T04:08:13.042Z"
   },
   {
    "duration": 15,
    "start_time": "2025-05-03T04:08:23.253Z"
   },
   {
    "duration": 18,
    "start_time": "2025-05-03T04:08:25.412Z"
   },
   {
    "duration": 49,
    "start_time": "2025-05-03T04:08:29.230Z"
   },
   {
    "duration": 45,
    "start_time": "2025-05-03T04:08:31.462Z"
   },
   {
    "duration": 40,
    "start_time": "2025-05-03T04:08:33.146Z"
   },
   {
    "duration": 5,
    "start_time": "2025-05-03T04:08:41.039Z"
   },
   {
    "duration": 5,
    "start_time": "2025-05-03T04:08:46.350Z"
   },
   {
    "duration": 6,
    "start_time": "2025-05-03T04:09:23.635Z"
   },
   {
    "duration": 7,
    "start_time": "2025-05-03T04:09:27.789Z"
   },
   {
    "duration": 13,
    "start_time": "2025-05-03T04:09:38.497Z"
   },
   {
    "duration": 9,
    "start_time": "2025-05-03T04:09:45.217Z"
   },
   {
    "duration": 4,
    "start_time": "2025-05-03T04:09:51.238Z"
   },
   {
    "duration": 13,
    "start_time": "2025-05-03T04:09:54.578Z"
   },
   {
    "duration": 13,
    "start_time": "2025-05-03T04:09:56.892Z"
   },
   {
    "duration": 15,
    "start_time": "2025-05-03T04:09:57.914Z"
   },
   {
    "duration": 12,
    "start_time": "2025-05-03T04:09:58.963Z"
   },
   {
    "duration": 17,
    "start_time": "2025-05-03T04:10:00.078Z"
   },
   {
    "duration": 14,
    "start_time": "2025-05-03T04:10:00.951Z"
   },
   {
    "duration": 338,
    "start_time": "2025-05-03T05:15:53.914Z"
   },
   {
    "duration": 118,
    "start_time": "2025-05-03T05:15:54.254Z"
   },
   {
    "duration": 6,
    "start_time": "2025-05-03T05:15:54.374Z"
   },
   {
    "duration": 31,
    "start_time": "2025-05-03T05:15:54.383Z"
   },
   {
    "duration": 43,
    "start_time": "2025-05-03T05:15:54.416Z"
   },
   {
    "duration": 3,
    "start_time": "2025-05-03T05:15:54.460Z"
   },
   {
    "duration": 4,
    "start_time": "2025-05-03T05:15:54.466Z"
   },
   {
    "duration": 4,
    "start_time": "2025-05-03T05:15:54.472Z"
   },
   {
    "duration": 33,
    "start_time": "2025-05-03T05:15:54.478Z"
   },
   {
    "duration": 3,
    "start_time": "2025-05-03T05:15:54.514Z"
   },
   {
    "duration": 18,
    "start_time": "2025-05-03T05:15:54.519Z"
   },
   {
    "duration": 13,
    "start_time": "2025-05-03T05:15:54.538Z"
   },
   {
    "duration": 17,
    "start_time": "2025-05-03T05:15:54.553Z"
   },
   {
    "duration": 77,
    "start_time": "2025-05-03T05:15:54.572Z"
   },
   {
    "duration": 47,
    "start_time": "2025-05-03T05:15:54.650Z"
   },
   {
    "duration": 47,
    "start_time": "2025-05-03T05:15:54.698Z"
   },
   {
    "duration": 6,
    "start_time": "2025-05-03T05:15:54.747Z"
   },
   {
    "duration": 3,
    "start_time": "2025-05-03T05:15:54.754Z"
   },
   {
    "duration": 4,
    "start_time": "2025-05-03T05:15:54.759Z"
   },
   {
    "duration": 6,
    "start_time": "2025-05-03T05:15:54.765Z"
   },
   {
    "duration": 41,
    "start_time": "2025-05-03T05:15:54.773Z"
   },
   {
    "duration": 9,
    "start_time": "2025-05-03T05:15:54.816Z"
   },
   {
    "duration": 2,
    "start_time": "2025-05-03T05:15:54.829Z"
   },
   {
    "duration": 13,
    "start_time": "2025-05-03T05:15:54.833Z"
   },
   {
    "duration": 11,
    "start_time": "2025-05-03T05:15:54.848Z"
   },
   {
    "duration": 13,
    "start_time": "2025-05-03T05:15:54.860Z"
   },
   {
    "duration": 41,
    "start_time": "2025-05-03T05:15:54.875Z"
   },
   {
    "duration": 11,
    "start_time": "2025-05-03T05:15:54.920Z"
   },
   {
    "duration": 10,
    "start_time": "2025-05-03T05:15:54.933Z"
   },
   {
    "duration": 8,
    "start_time": "2025-05-03T22:59:08.691Z"
   },
   {
    "duration": 0,
    "start_time": "2025-05-03T22:59:08.702Z"
   },
   {
    "duration": 0,
    "start_time": "2025-05-03T22:59:08.704Z"
   },
   {
    "duration": 0,
    "start_time": "2025-05-03T22:59:08.705Z"
   },
   {
    "duration": 0,
    "start_time": "2025-05-03T22:59:08.707Z"
   },
   {
    "duration": 0,
    "start_time": "2025-05-03T22:59:08.708Z"
   },
   {
    "duration": 0,
    "start_time": "2025-05-03T22:59:08.709Z"
   },
   {
    "duration": 0,
    "start_time": "2025-05-03T22:59:08.711Z"
   },
   {
    "duration": 0,
    "start_time": "2025-05-03T22:59:08.712Z"
   },
   {
    "duration": 0,
    "start_time": "2025-05-03T22:59:08.714Z"
   },
   {
    "duration": 196,
    "start_time": "2025-05-03T22:59:08.718Z"
   },
   {
    "duration": 0,
    "start_time": "2025-05-03T22:59:08.917Z"
   },
   {
    "duration": 0,
    "start_time": "2025-05-03T22:59:08.918Z"
   },
   {
    "duration": 0,
    "start_time": "2025-05-03T22:59:08.919Z"
   },
   {
    "duration": 0,
    "start_time": "2025-05-03T22:59:08.921Z"
   },
   {
    "duration": 0,
    "start_time": "2025-05-03T22:59:08.922Z"
   },
   {
    "duration": 0,
    "start_time": "2025-05-03T22:59:08.923Z"
   },
   {
    "duration": 0,
    "start_time": "2025-05-03T22:59:08.924Z"
   },
   {
    "duration": 0,
    "start_time": "2025-05-03T22:59:08.926Z"
   },
   {
    "duration": 0,
    "start_time": "2025-05-03T22:59:08.927Z"
   },
   {
    "duration": 0,
    "start_time": "2025-05-03T22:59:08.928Z"
   },
   {
    "duration": 0,
    "start_time": "2025-05-03T22:59:08.930Z"
   },
   {
    "duration": 0,
    "start_time": "2025-05-03T22:59:08.932Z"
   },
   {
    "duration": 0,
    "start_time": "2025-05-03T22:59:08.933Z"
   },
   {
    "duration": 0,
    "start_time": "2025-05-03T22:59:08.934Z"
   },
   {
    "duration": 0,
    "start_time": "2025-05-03T22:59:08.935Z"
   },
   {
    "duration": 0,
    "start_time": "2025-05-03T22:59:08.937Z"
   },
   {
    "duration": 0,
    "start_time": "2025-05-03T22:59:08.938Z"
   },
   {
    "duration": 0,
    "start_time": "2025-05-03T22:59:08.939Z"
   },
   {
    "duration": 0,
    "start_time": "2025-05-03T22:59:08.940Z"
   },
   {
    "duration": 277,
    "start_time": "2025-05-03T22:59:21.061Z"
   },
   {
    "duration": 94,
    "start_time": "2025-05-03T22:59:21.340Z"
   },
   {
    "duration": 6,
    "start_time": "2025-05-03T22:59:21.436Z"
   },
   {
    "duration": 20,
    "start_time": "2025-05-03T22:59:21.443Z"
   },
   {
    "duration": 53,
    "start_time": "2025-05-03T22:59:21.465Z"
   },
   {
    "duration": 4,
    "start_time": "2025-05-03T22:59:21.519Z"
   },
   {
    "duration": 5,
    "start_time": "2025-05-03T22:59:21.524Z"
   },
   {
    "duration": 4,
    "start_time": "2025-05-03T22:59:21.530Z"
   },
   {
    "duration": 4,
    "start_time": "2025-05-03T22:59:21.536Z"
   },
   {
    "duration": 3,
    "start_time": "2025-05-03T22:59:21.542Z"
   },
   {
    "duration": 50,
    "start_time": "2025-05-03T22:59:21.547Z"
   },
   {
    "duration": 11,
    "start_time": "2025-05-03T22:59:21.599Z"
   },
   {
    "duration": 15,
    "start_time": "2025-05-03T22:59:21.612Z"
   },
   {
    "duration": 61,
    "start_time": "2025-05-03T22:59:21.630Z"
   },
   {
    "duration": 45,
    "start_time": "2025-05-03T22:59:21.693Z"
   },
   {
    "duration": 48,
    "start_time": "2025-05-03T22:59:21.739Z"
   },
   {
    "duration": 6,
    "start_time": "2025-05-03T22:59:21.789Z"
   },
   {
    "duration": 3,
    "start_time": "2025-05-03T22:59:21.796Z"
   },
   {
    "duration": 5,
    "start_time": "2025-05-03T22:59:21.801Z"
   },
   {
    "duration": 6,
    "start_time": "2025-05-03T22:59:21.808Z"
   },
   {
    "duration": 9,
    "start_time": "2025-05-03T22:59:21.816Z"
   },
   {
    "duration": 7,
    "start_time": "2025-05-03T22:59:21.827Z"
   },
   {
    "duration": 3,
    "start_time": "2025-05-03T22:59:21.835Z"
   },
   {
    "duration": 52,
    "start_time": "2025-05-03T22:59:21.841Z"
   },
   {
    "duration": 10,
    "start_time": "2025-05-03T22:59:21.894Z"
   },
   {
    "duration": 10,
    "start_time": "2025-05-03T22:59:21.905Z"
   },
   {
    "duration": 8,
    "start_time": "2025-05-03T22:59:21.917Z"
   },
   {
    "duration": 10,
    "start_time": "2025-05-03T22:59:21.927Z"
   },
   {
    "duration": 9,
    "start_time": "2025-05-03T22:59:21.939Z"
   },
   {
    "duration": 8,
    "start_time": "2025-05-05T15:38:59.393Z"
   }
  ],
  "colab": {
   "collapsed_sections": [
    "E0vqbgi9ay0H",
    "VUC88oWjTJw2"
   ],
   "provenance": []
  },
  "kernelspec": {
   "display_name": "Python 3 (ipykernel)",
   "language": "python",
   "name": "python3"
  },
  "language_info": {
   "codemirror_mode": {
    "name": "ipython",
    "version": 3
   },
   "file_extension": ".py",
   "mimetype": "text/x-python",
   "name": "python",
   "nbconvert_exporter": "python",
   "pygments_lexer": "ipython3",
   "version": "3.9.19"
  },
  "toc": {
   "base_numbering": 1,
   "nav_menu": {},
   "number_sections": true,
   "sideBar": true,
   "skip_h1_title": true,
   "title_cell": "Table of Contents",
   "title_sidebar": "Contents",
   "toc_cell": false,
   "toc_position": {},
   "toc_section_display": true,
   "toc_window_display": false
  }
 },
 "nbformat": 4,
 "nbformat_minor": 1
}
