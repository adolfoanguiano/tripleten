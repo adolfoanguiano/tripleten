{
 "cells": [
  {
   "cell_type": "markdown",
   "id": "99a33aa3-6696-4eb2-97b2-d38fd71aafa1",
   "metadata": {},
   "source": [
    "Hola **Adolfo**!\n",
    "\n",
    "Soy **Patricio Requena** 👋. Es un placer ser el revisor de tu proyecto el día de hoy!\n",
    "\n",
    "Revisaré tu proyecto detenidamente con el objetivo de ayudarte a mejorar y perfeccionar tus habilidades. Durante mi revisión, identificaré áreas donde puedas hacer mejoras en tu código, señalando específicamente qué y cómo podrías ajustar para optimizar el rendimiento y la claridad de tu proyecto. Además, es importante para mí destacar los aspectos que has manejado excepcionalmente bien. Reconocer tus fortalezas te ayudará a entender qué técnicas y métodos están funcionando a tu favor y cómo puedes aplicarlos en futuras tareas. \n",
    "\n",
    "_**Recuerda que al final de este notebook encontrarás un comentario general de mi parte**_, empecemos!\n",
    "\n",
    "Encontrarás mis comentarios dentro de cajas verdes, amarillas o rojas, ⚠️ **por favor, no muevas, modifiques o borres mis comentarios** ⚠️:\n",
    "\n",
    "\n",
    "<div class=\"alert alert-block alert-success\">\n",
    "<b>Comentario del revisor</b> <a class=“tocSkip”></a>\n",
    "Si todo está perfecto.\n",
    "</div>\n",
    "\n",
    "<div class=\"alert alert-block alert-warning\">\n",
    "<b>Comentario del revisor</b> <a class=“tocSkip”></a>\n",
    "Si tu código está bien pero se puede mejorar o hay algún detalle que le hace falta.\n",
    "</div>\n",
    "\n",
    "<div class=\"alert alert-block alert-danger\">\n",
    "<b>Comentario del revisor</b> <a class=“tocSkip”></a>\n",
    "Si de pronto hace falta algo o existe algún problema con tu código o conclusiones.\n",
    "</div>\n",
    "\n",
    "Puedes responderme de esta forma:\n",
    "<div class=\"alert alert-block alert-info\">\n",
    "<b>Respuesta del estudiante</b> <a class=“tocSkip”></a>\n",
    "</div>"
   ]
  },
  {
   "cell_type": "markdown",
   "id": "3Xg_RQfnafXz",
   "metadata": {
    "id": "3Xg_RQfnafXz",
    "jp-MarkdownHeadingCollapsed": true
   },
   "source": [
    "# ¡Llena ese carrito!"
   ]
  },
  {
   "cell_type": "markdown",
   "id": "mhIvmmkW414q",
   "metadata": {
    "id": "mhIvmmkW414q"
   },
   "source": [
    "# Introducción\n",
    "\n",
    "Instacart es una plataforma de entregas de comestibles donde la clientela puede registrar un pedido y hacer que se lo entreguen, similar a Uber Eats y Door Dash.\n",
    "El conjunto de datos que te hemos proporcionado tiene modificaciones del original. Redujimos el tamaño del conjunto para que tus cálculos se hicieran más rápido e introdujimos valores ausentes y duplicados. Tuvimos cuidado de conservar las distribuciones de los datos originales cuando hicimos los cambios.\n",
    "\n",
    "Debes completar tres pasos. Para cada uno de ellos, escribe una breve introducción que refleje con claridad cómo pretendes resolver cada paso, y escribe párrafos explicatorios que justifiquen tus decisiones al tiempo que avanzas en tu solución.  También escribe una conclusión que resuma tus hallazgos y elecciones.\n"
   ]
  },
  {
   "cell_type": "markdown",
   "id": "3MbyzpOQZ5Or",
   "metadata": {
    "id": "3MbyzpOQZ5Or"
   },
   "source": [
    "## Diccionario de datos\n",
    "\n",
    "Hay cinco tablas en el conjunto de datos, y tendrás que usarlas todas para hacer el preprocesamiento de datos y el análisis exploratorio de datos. A continuación se muestra un diccionario de datos que enumera las columnas de cada tabla y describe los datos que contienen.\n",
    "\n",
    "- `instacart_orders.csv`: cada fila corresponde a un pedido en la aplicación Instacart.\n",
    "    - `'order_id'`: número de ID que identifica de manera única cada pedido.\n",
    "    - `'user_id'`: número de ID que identifica de manera única la cuenta de cada cliente.\n",
    "    - `'order_number'`: el número de veces que este cliente ha hecho un pedido.\n",
    "    - `'order_dow'`: día de la semana en que se hizo el pedido (0 si es domingo).\n",
    "    - `'order_hour_of_day'`: hora del día en que se hizo el pedido.\n",
    "    - `'days_since_prior_order'`: número de días transcurridos desde que este cliente hizo su pedido anterior.\n",
    "- `products.csv`: cada fila corresponde a un producto único que pueden comprar los clientes.\n",
    "    - `'product_id'`: número ID que identifica de manera única cada producto.\n",
    "    - `'product_name'`: nombre del producto.\n",
    "    - `'aisle_id'`: número ID que identifica de manera única cada categoría de pasillo de víveres.\n",
    "    - `'department_id'`: número ID que identifica de manera única cada departamento de víveres.\n",
    "- `order_products.csv`: cada fila corresponde a un artículo pedido en un pedido.\n",
    "    - `'order_id'`: número de ID que identifica de manera única cada pedido.\n",
    "    - `'product_id'`: número ID que identifica de manera única cada producto.\n",
    "    - `'add_to_cart_order'`: el orden secuencial en el que se añadió cada artículo en el carrito.\n",
    "    - `'reordered'`: 0 si el cliente nunca ha pedido este producto antes, 1 si lo ha pedido.\n",
    "- `aisles.csv`\n",
    "    - `'aisle_id'`: número ID que identifica de manera única cada categoría de pasillo de víveres.\n",
    "    - `'aisle'`: nombre del pasillo.\n",
    "- `departments.csv`\n",
    "    - `'department_id'`: número ID que identifica de manera única cada departamento de víveres.\n",
    "    - `'department'`: nombre del departamento."
   ]
  },
  {
   "cell_type": "markdown",
   "id": "n3Ha_cNSZ8lK",
   "metadata": {
    "id": "n3Ha_cNSZ8lK"
   },
   "source": [
    "# Paso 1. Descripción de los datos\n",
    "\n",
    "Lee los archivos de datos (`/datasets/instacart_orders.csv`, `/datasets/products.csv`, `/datasets/aisles.csv`, `/datasets/departments.csv` y `/datasets/order_products.csv`) con `pd.read_csv()` usando los parámetros adecuados para leer los datos correctamente. Verifica la información para cada DataFrame creado.\n"
   ]
  },
  {
   "cell_type": "markdown",
   "id": "OmlQPLlyaAfR",
   "metadata": {
    "id": "OmlQPLlyaAfR"
   },
   "source": [
    "## Plan de solución\n",
    "\n",
    "Escribe aquí tu plan de solución para el Paso 1. Descripción de los datos."
   ]
  },
  {
   "cell_type": "code",
   "execution_count": 43,
   "id": "fbf1adab",
   "metadata": {
    "id": "fbf1adab"
   },
   "outputs": [],
   "source": [
    "import pandas as pd \n",
    "from matplotlib import pyplot as plt # importar librerías"
   ]
  },
  {
   "cell_type": "code",
   "execution_count": 44,
   "id": "ad36396d",
   "metadata": {
    "id": "ad36396d"
   },
   "outputs": [],
   "source": [
    "df_orders = pd.read_csv('/datasets/instacart_orders.csv', sep=';')\n",
    "df_products = pd.read_csv('/datasets/products.csv', sep=';') # leer conjuntos de datos en los DataFrames\n",
    "df_aisles = pd.read_csv('/datasets/aisles.csv', sep=';')\n",
    "df_departments = pd.read_csv('/datasets/departments.csv', sep=';')\n",
    "df_ord_products = pd.read_csv('/datasets/order_products.csv', sep=';')"
   ]
  },
  {
   "cell_type": "markdown",
   "id": "0dd14479-6565-4581-a607-c445076b107d",
   "metadata": {},
   "source": [
    "<div class=\"alert alert-block alert-success\">\n",
    "<b>Comentario del revisor (1ra Iteracion)</b> <a class=“tocSkip”></a>\n",
    "\n",
    "Buen trabajo importando las librerías y cargando tus datos en celdas diferentes.\n",
    "</div>"
   ]
  },
  {
   "cell_type": "code",
   "execution_count": 45,
   "id": "ad6a1efa",
   "metadata": {
    "id": "ad6a1efa"
   },
   "outputs": [
    {
     "name": "stdout",
     "output_type": "stream",
     "text": [
      "<class 'pandas.core.frame.DataFrame'>\n",
      "RangeIndex: 478967 entries, 0 to 478966\n",
      "Data columns (total 6 columns):\n",
      " #   Column                  Non-Null Count   Dtype  \n",
      "---  ------                  --------------   -----  \n",
      " 0   order_id                478967 non-null  int64  \n",
      " 1   user_id                 478967 non-null  int64  \n",
      " 2   order_number            478967 non-null  int64  \n",
      " 3   order_dow               478967 non-null  int64  \n",
      " 4   order_hour_of_day       478967 non-null  int64  \n",
      " 5   days_since_prior_order  450148 non-null  float64\n",
      "dtypes: float64(1), int64(5)\n",
      "memory usage: 21.9 MB\n",
      "None\n"
     ]
    },
    {
     "data": {
      "text/html": [
       "<div>\n",
       "<style scoped>\n",
       "    .dataframe tbody tr th:only-of-type {\n",
       "        vertical-align: middle;\n",
       "    }\n",
       "\n",
       "    .dataframe tbody tr th {\n",
       "        vertical-align: top;\n",
       "    }\n",
       "\n",
       "    .dataframe thead th {\n",
       "        text-align: right;\n",
       "    }\n",
       "</style>\n",
       "<table border=\"1\" class=\"dataframe\">\n",
       "  <thead>\n",
       "    <tr style=\"text-align: right;\">\n",
       "      <th></th>\n",
       "      <th>order_id</th>\n",
       "      <th>user_id</th>\n",
       "      <th>order_number</th>\n",
       "      <th>order_dow</th>\n",
       "      <th>order_hour_of_day</th>\n",
       "      <th>days_since_prior_order</th>\n",
       "    </tr>\n",
       "  </thead>\n",
       "  <tbody>\n",
       "    <tr>\n",
       "      <th>0</th>\n",
       "      <td>1515936</td>\n",
       "      <td>183418</td>\n",
       "      <td>11</td>\n",
       "      <td>6</td>\n",
       "      <td>13</td>\n",
       "      <td>30.0</td>\n",
       "    </tr>\n",
       "    <tr>\n",
       "      <th>1</th>\n",
       "      <td>1690866</td>\n",
       "      <td>163593</td>\n",
       "      <td>5</td>\n",
       "      <td>5</td>\n",
       "      <td>12</td>\n",
       "      <td>9.0</td>\n",
       "    </tr>\n",
       "    <tr>\n",
       "      <th>2</th>\n",
       "      <td>1454967</td>\n",
       "      <td>39980</td>\n",
       "      <td>4</td>\n",
       "      <td>5</td>\n",
       "      <td>19</td>\n",
       "      <td>2.0</td>\n",
       "    </tr>\n",
       "    <tr>\n",
       "      <th>3</th>\n",
       "      <td>1768857</td>\n",
       "      <td>82516</td>\n",
       "      <td>56</td>\n",
       "      <td>0</td>\n",
       "      <td>20</td>\n",
       "      <td>10.0</td>\n",
       "    </tr>\n",
       "    <tr>\n",
       "      <th>4</th>\n",
       "      <td>3007858</td>\n",
       "      <td>196724</td>\n",
       "      <td>2</td>\n",
       "      <td>4</td>\n",
       "      <td>12</td>\n",
       "      <td>17.0</td>\n",
       "    </tr>\n",
       "  </tbody>\n",
       "</table>\n",
       "</div>"
      ],
      "text/plain": [
       "   order_id  user_id  order_number  order_dow  order_hour_of_day  \\\n",
       "0   1515936   183418            11          6                 13   \n",
       "1   1690866   163593             5          5                 12   \n",
       "2   1454967    39980             4          5                 19   \n",
       "3   1768857    82516            56          0                 20   \n",
       "4   3007858   196724             2          4                 12   \n",
       "\n",
       "   days_since_prior_order  \n",
       "0                    30.0  \n",
       "1                     9.0  \n",
       "2                     2.0  \n",
       "3                    10.0  \n",
       "4                    17.0  "
      ]
     },
     "metadata": {},
     "output_type": "display_data"
    }
   ],
   "source": [
    "print(df_orders.info())\n",
    "display(df_orders.head())# mostrar información del DataFrame"
   ]
  },
  {
   "cell_type": "code",
   "execution_count": 46,
   "id": "5130e05e",
   "metadata": {
    "id": "5130e05e"
   },
   "outputs": [
    {
     "name": "stdout",
     "output_type": "stream",
     "text": [
      "<class 'pandas.core.frame.DataFrame'>\n",
      "RangeIndex: 49694 entries, 0 to 49693\n",
      "Data columns (total 4 columns):\n",
      " #   Column         Non-Null Count  Dtype \n",
      "---  ------         --------------  ----- \n",
      " 0   product_id     49694 non-null  int64 \n",
      " 1   product_name   48436 non-null  object\n",
      " 2   aisle_id       49694 non-null  int64 \n",
      " 3   department_id  49694 non-null  int64 \n",
      "dtypes: int64(3), object(1)\n",
      "memory usage: 1.5+ MB\n",
      "None\n"
     ]
    },
    {
     "data": {
      "text/html": [
       "<div>\n",
       "<style scoped>\n",
       "    .dataframe tbody tr th:only-of-type {\n",
       "        vertical-align: middle;\n",
       "    }\n",
       "\n",
       "    .dataframe tbody tr th {\n",
       "        vertical-align: top;\n",
       "    }\n",
       "\n",
       "    .dataframe thead th {\n",
       "        text-align: right;\n",
       "    }\n",
       "</style>\n",
       "<table border=\"1\" class=\"dataframe\">\n",
       "  <thead>\n",
       "    <tr style=\"text-align: right;\">\n",
       "      <th></th>\n",
       "      <th>product_id</th>\n",
       "      <th>product_name</th>\n",
       "      <th>aisle_id</th>\n",
       "      <th>department_id</th>\n",
       "    </tr>\n",
       "  </thead>\n",
       "  <tbody>\n",
       "    <tr>\n",
       "      <th>0</th>\n",
       "      <td>1</td>\n",
       "      <td>Chocolate Sandwich Cookies</td>\n",
       "      <td>61</td>\n",
       "      <td>19</td>\n",
       "    </tr>\n",
       "    <tr>\n",
       "      <th>1</th>\n",
       "      <td>2</td>\n",
       "      <td>All-Seasons Salt</td>\n",
       "      <td>104</td>\n",
       "      <td>13</td>\n",
       "    </tr>\n",
       "    <tr>\n",
       "      <th>2</th>\n",
       "      <td>3</td>\n",
       "      <td>Robust Golden Unsweetened Oolong Tea</td>\n",
       "      <td>94</td>\n",
       "      <td>7</td>\n",
       "    </tr>\n",
       "    <tr>\n",
       "      <th>3</th>\n",
       "      <td>4</td>\n",
       "      <td>Smart Ones Classic Favorites Mini Rigatoni Wit...</td>\n",
       "      <td>38</td>\n",
       "      <td>1</td>\n",
       "    </tr>\n",
       "    <tr>\n",
       "      <th>4</th>\n",
       "      <td>5</td>\n",
       "      <td>Green Chile Anytime Sauce</td>\n",
       "      <td>5</td>\n",
       "      <td>13</td>\n",
       "    </tr>\n",
       "  </tbody>\n",
       "</table>\n",
       "</div>"
      ],
      "text/plain": [
       "   product_id                                       product_name  aisle_id  \\\n",
       "0           1                         Chocolate Sandwich Cookies        61   \n",
       "1           2                                   All-Seasons Salt       104   \n",
       "2           3               Robust Golden Unsweetened Oolong Tea        94   \n",
       "3           4  Smart Ones Classic Favorites Mini Rigatoni Wit...        38   \n",
       "4           5                          Green Chile Anytime Sauce         5   \n",
       "\n",
       "   department_id  \n",
       "0             19  \n",
       "1             13  \n",
       "2              7  \n",
       "3              1  \n",
       "4             13  "
      ]
     },
     "metadata": {},
     "output_type": "display_data"
    }
   ],
   "source": [
    "print(df_products.info())# mostrar información del DataFrame\n",
    "display(df_products.head())"
   ]
  },
  {
   "cell_type": "code",
   "execution_count": 47,
   "id": "d8370c05",
   "metadata": {
    "id": "d8370c05"
   },
   "outputs": [
    {
     "name": "stdout",
     "output_type": "stream",
     "text": [
      "<class 'pandas.core.frame.DataFrame'>\n",
      "RangeIndex: 134 entries, 0 to 133\n",
      "Data columns (total 2 columns):\n",
      " #   Column    Non-Null Count  Dtype \n",
      "---  ------    --------------  ----- \n",
      " 0   aisle_id  134 non-null    int64 \n",
      " 1   aisle     134 non-null    object\n",
      "dtypes: int64(1), object(1)\n",
      "memory usage: 2.2+ KB\n",
      "None\n"
     ]
    },
    {
     "data": {
      "text/html": [
       "<div>\n",
       "<style scoped>\n",
       "    .dataframe tbody tr th:only-of-type {\n",
       "        vertical-align: middle;\n",
       "    }\n",
       "\n",
       "    .dataframe tbody tr th {\n",
       "        vertical-align: top;\n",
       "    }\n",
       "\n",
       "    .dataframe thead th {\n",
       "        text-align: right;\n",
       "    }\n",
       "</style>\n",
       "<table border=\"1\" class=\"dataframe\">\n",
       "  <thead>\n",
       "    <tr style=\"text-align: right;\">\n",
       "      <th></th>\n",
       "      <th>aisle_id</th>\n",
       "      <th>aisle</th>\n",
       "    </tr>\n",
       "  </thead>\n",
       "  <tbody>\n",
       "    <tr>\n",
       "      <th>0</th>\n",
       "      <td>1</td>\n",
       "      <td>prepared soups salads</td>\n",
       "    </tr>\n",
       "    <tr>\n",
       "      <th>1</th>\n",
       "      <td>2</td>\n",
       "      <td>specialty cheeses</td>\n",
       "    </tr>\n",
       "    <tr>\n",
       "      <th>2</th>\n",
       "      <td>3</td>\n",
       "      <td>energy granola bars</td>\n",
       "    </tr>\n",
       "    <tr>\n",
       "      <th>3</th>\n",
       "      <td>4</td>\n",
       "      <td>instant foods</td>\n",
       "    </tr>\n",
       "    <tr>\n",
       "      <th>4</th>\n",
       "      <td>5</td>\n",
       "      <td>marinades meat preparation</td>\n",
       "    </tr>\n",
       "  </tbody>\n",
       "</table>\n",
       "</div>"
      ],
      "text/plain": [
       "   aisle_id                       aisle\n",
       "0         1       prepared soups salads\n",
       "1         2           specialty cheeses\n",
       "2         3         energy granola bars\n",
       "3         4               instant foods\n",
       "4         5  marinades meat preparation"
      ]
     },
     "metadata": {},
     "output_type": "display_data"
    }
   ],
   "source": [
    "print(df_aisles.info())\n",
    "display(df_aisles.head())# mostrar información del DataFrame"
   ]
  },
  {
   "cell_type": "code",
   "execution_count": 48,
   "id": "59e2090f",
   "metadata": {
    "id": "59e2090f"
   },
   "outputs": [
    {
     "name": "stdout",
     "output_type": "stream",
     "text": [
      "<class 'pandas.core.frame.DataFrame'>\n",
      "RangeIndex: 21 entries, 0 to 20\n",
      "Data columns (total 2 columns):\n",
      " #   Column         Non-Null Count  Dtype \n",
      "---  ------         --------------  ----- \n",
      " 0   department_id  21 non-null     int64 \n",
      " 1   department     21 non-null     object\n",
      "dtypes: int64(1), object(1)\n",
      "memory usage: 464.0+ bytes\n",
      "None\n"
     ]
    },
    {
     "data": {
      "text/html": [
       "<div>\n",
       "<style scoped>\n",
       "    .dataframe tbody tr th:only-of-type {\n",
       "        vertical-align: middle;\n",
       "    }\n",
       "\n",
       "    .dataframe tbody tr th {\n",
       "        vertical-align: top;\n",
       "    }\n",
       "\n",
       "    .dataframe thead th {\n",
       "        text-align: right;\n",
       "    }\n",
       "</style>\n",
       "<table border=\"1\" class=\"dataframe\">\n",
       "  <thead>\n",
       "    <tr style=\"text-align: right;\">\n",
       "      <th></th>\n",
       "      <th>department_id</th>\n",
       "      <th>department</th>\n",
       "    </tr>\n",
       "  </thead>\n",
       "  <tbody>\n",
       "    <tr>\n",
       "      <th>0</th>\n",
       "      <td>1</td>\n",
       "      <td>frozen</td>\n",
       "    </tr>\n",
       "    <tr>\n",
       "      <th>1</th>\n",
       "      <td>2</td>\n",
       "      <td>other</td>\n",
       "    </tr>\n",
       "    <tr>\n",
       "      <th>2</th>\n",
       "      <td>3</td>\n",
       "      <td>bakery</td>\n",
       "    </tr>\n",
       "    <tr>\n",
       "      <th>3</th>\n",
       "      <td>4</td>\n",
       "      <td>produce</td>\n",
       "    </tr>\n",
       "    <tr>\n",
       "      <th>4</th>\n",
       "      <td>5</td>\n",
       "      <td>alcohol</td>\n",
       "    </tr>\n",
       "  </tbody>\n",
       "</table>\n",
       "</div>"
      ],
      "text/plain": [
       "   department_id department\n",
       "0              1     frozen\n",
       "1              2      other\n",
       "2              3     bakery\n",
       "3              4    produce\n",
       "4              5    alcohol"
      ]
     },
     "metadata": {},
     "output_type": "display_data"
    }
   ],
   "source": [
    "print(df_departments.info())# mostrar información del DataFrame\n",
    "display(df_departments.head())"
   ]
  },
  {
   "cell_type": "code",
   "execution_count": 49,
   "id": "6fc81694",
   "metadata": {
    "id": "6fc81694"
   },
   "outputs": [
    {
     "name": "stdout",
     "output_type": "stream",
     "text": [
      "<class 'pandas.core.frame.DataFrame'>\n",
      "RangeIndex: 4545007 entries, 0 to 4545006\n",
      "Data columns (total 4 columns):\n",
      " #   Column             Non-Null Count    Dtype  \n",
      "---  ------             --------------    -----  \n",
      " 0   order_id           4545007 non-null  int64  \n",
      " 1   product_id         4545007 non-null  int64  \n",
      " 2   add_to_cart_order  4544171 non-null  float64\n",
      " 3   reordered          4545007 non-null  int64  \n",
      "dtypes: float64(1), int64(3)\n",
      "memory usage: 138.7 MB\n",
      "None\n"
     ]
    },
    {
     "data": {
      "text/html": [
       "<div>\n",
       "<style scoped>\n",
       "    .dataframe tbody tr th:only-of-type {\n",
       "        vertical-align: middle;\n",
       "    }\n",
       "\n",
       "    .dataframe tbody tr th {\n",
       "        vertical-align: top;\n",
       "    }\n",
       "\n",
       "    .dataframe thead th {\n",
       "        text-align: right;\n",
       "    }\n",
       "</style>\n",
       "<table border=\"1\" class=\"dataframe\">\n",
       "  <thead>\n",
       "    <tr style=\"text-align: right;\">\n",
       "      <th></th>\n",
       "      <th>order_id</th>\n",
       "      <th>product_id</th>\n",
       "      <th>add_to_cart_order</th>\n",
       "      <th>reordered</th>\n",
       "    </tr>\n",
       "  </thead>\n",
       "  <tbody>\n",
       "    <tr>\n",
       "      <th>0</th>\n",
       "      <td>2141543</td>\n",
       "      <td>11440</td>\n",
       "      <td>17.0</td>\n",
       "      <td>0</td>\n",
       "    </tr>\n",
       "    <tr>\n",
       "      <th>1</th>\n",
       "      <td>567889</td>\n",
       "      <td>1560</td>\n",
       "      <td>1.0</td>\n",
       "      <td>1</td>\n",
       "    </tr>\n",
       "    <tr>\n",
       "      <th>2</th>\n",
       "      <td>2261212</td>\n",
       "      <td>26683</td>\n",
       "      <td>1.0</td>\n",
       "      <td>1</td>\n",
       "    </tr>\n",
       "    <tr>\n",
       "      <th>3</th>\n",
       "      <td>491251</td>\n",
       "      <td>8670</td>\n",
       "      <td>35.0</td>\n",
       "      <td>1</td>\n",
       "    </tr>\n",
       "    <tr>\n",
       "      <th>4</th>\n",
       "      <td>2571142</td>\n",
       "      <td>1940</td>\n",
       "      <td>5.0</td>\n",
       "      <td>1</td>\n",
       "    </tr>\n",
       "  </tbody>\n",
       "</table>\n",
       "</div>"
      ],
      "text/plain": [
       "   order_id  product_id  add_to_cart_order  reordered\n",
       "0   2141543       11440               17.0          0\n",
       "1    567889        1560                1.0          1\n",
       "2   2261212       26683                1.0          1\n",
       "3    491251        8670               35.0          1\n",
       "4   2571142        1940                5.0          1"
      ]
     },
     "metadata": {},
     "output_type": "display_data"
    }
   ],
   "source": [
    "print(df_ord_products.info(show_counts= True)) # mostrar información del DataFrame\n",
    "display(df_ord_products.head())"
   ]
  },
  {
   "cell_type": "markdown",
   "id": "t75BD19oaR5f",
   "metadata": {
    "id": "t75BD19oaR5f"
   },
   "source": [
    "## Conclusiones\n",
    "\n",
    "Escribe aquí tus conclusiones intermedias sobre el Paso 1. Descripción de los datos.\n"
   ]
  },
  {
   "cell_type": "markdown",
   "id": "bc2e19c3",
   "metadata": {},
   "source": [
    "Al empezar a subir todos los archivos para leerlos con pandas como DataFrames, me percate que la separación no fue con ',' sino con ';' por lo que tuve que agregar el método sep= para especificar que la separación era diferente. Después de eso volvi a cargar los archivos y llamar info para ver su información general y ya me aparecieron todas las columnas de cada uno de ellos.\n",
    "\n",
    "Por otro lado, ya visualizando info() en cada uno de los DataFrames se ve que hay columnas que contienen datos ausentes, y a simple vista podemos ver que el nombre de cada una de las columnas se encuentra en minúsculas y en 'snake_case'.\n",
    "\n",
    "Adentrandonos un poco más, se nos dió al principio el contenido de cada una de las columnas por archivo, y se puede ver que se identificaron con tipo de datos incorrectos, y que se pudieran modificar para poder trabajar mejor con ellos.\n",
    "\n",
    "También además de info() imprimi las primeras filas de cada uno de los Dataframe para poder darme una idea más clara de cada uno de ellos."
   ]
  },
  {
   "cell_type": "markdown",
   "id": "84476742-2190-47ba-a869-4ce3f1b01e0f",
   "metadata": {},
   "source": [
    "<div class=\"alert alert-block alert-success\">\n",
    "<b>Comentario del revisor (1ra Iteracion)</b> <a class=“tocSkip”></a>\n",
    "\n",
    "Muy bien! Mostraste los datos completos de cada dataset y redactaste conclusiones adecuadas\n",
    "</div>"
   ]
  },
  {
   "cell_type": "markdown",
   "id": "8RJHqxVmaVsF",
   "metadata": {
    "id": "8RJHqxVmaVsF"
   },
   "source": [
    "# Paso 2. Preprocesamiento de los datos\n",
    "\n",
    "Preprocesa los datos de la siguiente manera:\n",
    "\n",
    "- Verifica y corrige los tipos de datos (por ejemplo, asegúrate de que las columnas de ID sean números enteros).\n",
    "- Identifica y completa los valores ausentes.\n",
    "- Identifica y elimina los valores duplicados.\n",
    "\n",
    "Asegúrate de explicar qué tipos de valores ausentes y duplicados encontraste, cómo los completaste o eliminaste y por qué usaste esos métodos. ¿Por qué crees que estos valores ausentes y duplicados pueden haber estado presentes en el conjunto de datos?"
   ]
  },
  {
   "cell_type": "markdown",
   "id": "p6poABZQaZYb",
   "metadata": {
    "id": "p6poABZQaZYb"
   },
   "source": [
    "## Plan de solución\n",
    "\n",
    "Escribe aquí tu plan para el Paso 2. Preprocesamiento de los datos."
   ]
  },
  {
   "cell_type": "markdown",
   "id": "8db9c7ae",
   "metadata": {},
   "source": [
    "La verificación para asegurarnos de que todas las columnas 'id' son números enteros se pudo lograr con el método info() en donde nos despliega tambien el tipo de datos de cada columna, siendo todas las 'id' clasificadas como int64 que son números enteros, sin embargo también hay columnas que se ve que se clasificaron como float y son enteros.\n",
    "\n",
    "También visualice las primeras 5 filas de cada DataFrame para analizar un poco más su contenido.\n",
    "Visualmente las columnas están bien escritas, todas estan homologadas escritas con minúsculas y en 'snake_case', pero en el dataframe de 'df_products' la descripción de los productos esta en mayúsculas y minúsculas, pudiendo complicar un poco si quisieramos trabajar con esa columna.\n",
    "\n",
    "El siguiente paso sería seguir limpiando cada DataFrame y localizar datos que nos puedan entorpecer nuestro análisis como lo son los datos ausentes y los datos duplicados."
   ]
  },
  {
   "cell_type": "markdown",
   "id": "07357848-dc64-4156-9cc3-01ff4365226d",
   "metadata": {
    "id": "07357848-dc64-4156-9cc3-01ff4365226d"
   },
   "source": [
    "## Encuentra y elimina los valores duplicados (y describe cómo tomaste tus decisiones)."
   ]
  },
  {
   "cell_type": "markdown",
   "id": "f179f0a9",
   "metadata": {
    "id": "f179f0a9"
   },
   "source": [
    "### `orders` data frame"
   ]
  },
  {
   "cell_type": "code",
   "execution_count": 50,
   "id": "b99297a5-405a-463d-8535-9adc3da4ad74",
   "metadata": {
    "id": "b99297a5-405a-463d-8535-9adc3da4ad74"
   },
   "outputs": [
    {
     "name": "stdout",
     "output_type": "stream",
     "text": [
      "duplicados lista orders: 15\n",
      "pedidos duplicados: 15\n"
     ]
    }
   ],
   "source": [
    "# Revisa si hay pedidos duplicados\n",
    "\n",
    "print('duplicados lista orders:', df_orders.duplicated().sum())\n",
    "\n",
    "print('pedidos duplicados:', df_orders['order_id'].duplicated().sum())"
   ]
  },
  {
   "cell_type": "markdown",
   "id": "PEkwUX_gvt5A",
   "metadata": {
    "id": "PEkwUX_gvt5A"
   },
   "source": [
    "¿Tienes líneas duplicadas? Si sí, ¿qué tienen en común?"
   ]
  },
  {
   "cell_type": "markdown",
   "id": "831399ec",
   "metadata": {},
   "source": [
    "Al pasar la función duplicates tanto en el lista completa como en la columna de pedidos, coincide que hay 15 filas duplicadas que podemos eliminar. Es importante la columna order_id ya que debe contener valores unicos y si se repite es mejor eliminar esos duplicados"
   ]
  },
  {
   "cell_type": "code",
   "execution_count": 51,
   "id": "0d44de5d",
   "metadata": {
    "id": "0d44de5d"
   },
   "outputs": [
    {
     "data": {
      "text/html": [
       "<div>\n",
       "<style scoped>\n",
       "    .dataframe tbody tr th:only-of-type {\n",
       "        vertical-align: middle;\n",
       "    }\n",
       "\n",
       "    .dataframe tbody tr th {\n",
       "        vertical-align: top;\n",
       "    }\n",
       "\n",
       "    .dataframe thead th {\n",
       "        text-align: right;\n",
       "    }\n",
       "</style>\n",
       "<table border=\"1\" class=\"dataframe\">\n",
       "  <thead>\n",
       "    <tr style=\"text-align: right;\">\n",
       "      <th></th>\n",
       "      <th>order_id</th>\n",
       "      <th>user_id</th>\n",
       "      <th>order_number</th>\n",
       "      <th>order_dow</th>\n",
       "      <th>order_hour_of_day</th>\n",
       "      <th>days_since_prior_order</th>\n",
       "    </tr>\n",
       "  </thead>\n",
       "  <tbody>\n",
       "    <tr>\n",
       "      <th>4838</th>\n",
       "      <td>2766110</td>\n",
       "      <td>162084</td>\n",
       "      <td>41</td>\n",
       "      <td>3</td>\n",
       "      <td>2</td>\n",
       "      <td>16.0</td>\n",
       "    </tr>\n",
       "    <tr>\n",
       "      <th>5156</th>\n",
       "      <td>2190225</td>\n",
       "      <td>138285</td>\n",
       "      <td>18</td>\n",
       "      <td>3</td>\n",
       "      <td>2</td>\n",
       "      <td>11.0</td>\n",
       "    </tr>\n",
       "    <tr>\n",
       "      <th>15506</th>\n",
       "      <td>553049</td>\n",
       "      <td>58599</td>\n",
       "      <td>13</td>\n",
       "      <td>3</td>\n",
       "      <td>2</td>\n",
       "      <td>7.0</td>\n",
       "    </tr>\n",
       "    <tr>\n",
       "      <th>18420</th>\n",
       "      <td>382357</td>\n",
       "      <td>120200</td>\n",
       "      <td>19</td>\n",
       "      <td>3</td>\n",
       "      <td>2</td>\n",
       "      <td>11.0</td>\n",
       "    </tr>\n",
       "    <tr>\n",
       "      <th>24691</th>\n",
       "      <td>690242</td>\n",
       "      <td>77357</td>\n",
       "      <td>2</td>\n",
       "      <td>3</td>\n",
       "      <td>2</td>\n",
       "      <td>9.0</td>\n",
       "    </tr>\n",
       "    <tr>\n",
       "      <th>...</th>\n",
       "      <td>...</td>\n",
       "      <td>...</td>\n",
       "      <td>...</td>\n",
       "      <td>...</td>\n",
       "      <td>...</td>\n",
       "      <td>...</td>\n",
       "    </tr>\n",
       "    <tr>\n",
       "      <th>457013</th>\n",
       "      <td>3384021</td>\n",
       "      <td>14881</td>\n",
       "      <td>6</td>\n",
       "      <td>3</td>\n",
       "      <td>2</td>\n",
       "      <td>30.0</td>\n",
       "    </tr>\n",
       "    <tr>\n",
       "      <th>458816</th>\n",
       "      <td>910166</td>\n",
       "      <td>164782</td>\n",
       "      <td>18</td>\n",
       "      <td>3</td>\n",
       "      <td>2</td>\n",
       "      <td>4.0</td>\n",
       "    </tr>\n",
       "    <tr>\n",
       "      <th>459635</th>\n",
       "      <td>1680532</td>\n",
       "      <td>106435</td>\n",
       "      <td>6</td>\n",
       "      <td>3</td>\n",
       "      <td>2</td>\n",
       "      <td>21.0</td>\n",
       "    </tr>\n",
       "    <tr>\n",
       "      <th>468324</th>\n",
       "      <td>222962</td>\n",
       "      <td>54979</td>\n",
       "      <td>59</td>\n",
       "      <td>3</td>\n",
       "      <td>2</td>\n",
       "      <td>3.0</td>\n",
       "    </tr>\n",
       "    <tr>\n",
       "      <th>477526</th>\n",
       "      <td>2592344</td>\n",
       "      <td>46860</td>\n",
       "      <td>38</td>\n",
       "      <td>3</td>\n",
       "      <td>2</td>\n",
       "      <td>3.0</td>\n",
       "    </tr>\n",
       "  </tbody>\n",
       "</table>\n",
       "<p>121 rows × 6 columns</p>\n",
       "</div>"
      ],
      "text/plain": [
       "        order_id  user_id  order_number  order_dow  order_hour_of_day  \\\n",
       "4838     2766110   162084            41          3                  2   \n",
       "5156     2190225   138285            18          3                  2   \n",
       "15506     553049    58599            13          3                  2   \n",
       "18420     382357   120200            19          3                  2   \n",
       "24691     690242    77357             2          3                  2   \n",
       "...          ...      ...           ...        ...                ...   \n",
       "457013   3384021    14881             6          3                  2   \n",
       "458816    910166   164782            18          3                  2   \n",
       "459635   1680532   106435             6          3                  2   \n",
       "468324    222962    54979            59          3                  2   \n",
       "477526   2592344    46860            38          3                  2   \n",
       "\n",
       "        days_since_prior_order  \n",
       "4838                      16.0  \n",
       "5156                      11.0  \n",
       "15506                      7.0  \n",
       "18420                     11.0  \n",
       "24691                      9.0  \n",
       "...                        ...  \n",
       "457013                    30.0  \n",
       "458816                     4.0  \n",
       "459635                    21.0  \n",
       "468324                     3.0  \n",
       "477526                     3.0  \n",
       "\n",
       "[121 rows x 6 columns]"
      ]
     },
     "metadata": {},
     "output_type": "display_data"
    }
   ],
   "source": [
    "# Basándote en tus hallazgos,\n",
    "# Verifica todos los pedidos que se hicieron el miércoles a las 2:00 a.m.\n",
    "display(df_orders[(df_orders['order_dow'] == 3) & (df_orders['order_hour_of_day'] == 2)])"
   ]
  },
  {
   "cell_type": "markdown",
   "id": "vu2OWyoqwOx5",
   "metadata": {
    "id": "vu2OWyoqwOx5"
   },
   "source": [
    "¿Qué sugiere este resultado?"
   ]
  },
  {
   "cell_type": "markdown",
   "id": "db7b190b",
   "metadata": {},
   "source": [
    "Ya habiamos detectado que la lista contiene 15 duplicados, y el visualizar todos los pedidos hechos el miercoles a las 2:00 am, son muchos para esa hora, pero con esa visualización no nos ayuda a ver los duplicados"
   ]
  },
  {
   "cell_type": "markdown",
   "id": "3164b286-8990-41fe-8d34-242c1cd2d1ce",
   "metadata": {},
   "source": [
    "<div class=\"alert alert-block alert-warning\">\n",
    "<b>Comentario del revisor (1ra Iteracion)</b> <a class=“tocSkip”></a>\n",
    "\n",
    "Buen trabajo con el filtro aplicado y la revisión de duplicados! Te recomiendo no usar `print()` para mostrar resultados de DataFrame ya que como puedes observar se muestran como strings, en su lugar puedes usar `display()` y esto mostrará los resultados en formato de tabla. Te pediría ese ajuste para el resto de casos donde usas print para los dataframes\n",
    "</div>"
   ]
  },
  {
   "cell_type": "markdown",
   "id": "73e3894c-8b63-40da-8a0d-ecd05ca06d53",
   "metadata": {},
   "source": [
    "<div class=\"alert alert-block alert-info\">\n",
    "<b>No conocia display(), ya estoy sustituyendo todos los print() por display() y si sale un resultado más ordenado y mejor formato de salida. Muchas gracias.</b> <a class=“tocSkip”></a>\n",
    "</div>"
   ]
  },
  {
   "cell_type": "markdown",
   "id": "38200b6e",
   "metadata": {},
   "source": [
    "<div class=\"alert alert-block alert-success\">\n",
    "<b>Comentario del revisor (2da Iteracion)</b> <a class=“tocSkip”></a>\n",
    "\n",
    "Me alegro que te sirvió esa recomendación! Siempre hay que buscar la forma de dejar bien presentado nuestros proyectos\n",
    "</div>"
   ]
  },
  {
   "cell_type": "code",
   "execution_count": 52,
   "id": "480563c7",
   "metadata": {
    "id": "480563c7"
   },
   "outputs": [],
   "source": [
    "# Elimina los pedidos duplicados\n",
    "df_orders = df_orders.drop_duplicates()"
   ]
  },
  {
   "cell_type": "code",
   "execution_count": 53,
   "id": "0b2396a2",
   "metadata": {
    "id": "0b2396a2"
   },
   "outputs": [
    {
     "name": "stdout",
     "output_type": "stream",
     "text": [
      "0\n"
     ]
    }
   ],
   "source": [
    "# Vuelve a verificar si hay filas duplicadas\n",
    "print(df_orders.duplicated().sum())"
   ]
  },
  {
   "cell_type": "code",
   "execution_count": 54,
   "id": "f6113ef1",
   "metadata": {
    "id": "f6113ef1"
   },
   "outputs": [
    {
     "name": "stdout",
     "output_type": "stream",
     "text": [
      "0\n"
     ]
    }
   ],
   "source": [
    "# Vuelve a verificar únicamente si hay IDs duplicados de pedidos\n",
    "print(df_orders['order_id'].duplicated().sum())"
   ]
  },
  {
   "cell_type": "markdown",
   "id": "5e8905ae",
   "metadata": {
    "id": "5e8905ae"
   },
   "source": [
    "Describe brevemente tus hallazgos y lo que hiciste con ellos"
   ]
  },
  {
   "cell_type": "markdown",
   "id": "ff7336b1",
   "metadata": {},
   "source": [
    "En el primer análisis hecho, me percate que la lista contenía 15 duplicados en la lista 'orders', corroborandolo cuando también busque si había los Ids de las Ordenes duplicados y salio el mismo número de duplicados, pero se eliminaron de manera fácil con el método drop_duplicates()"
   ]
  },
  {
   "cell_type": "markdown",
   "id": "45e6bc46",
   "metadata": {
    "id": "45e6bc46"
   },
   "source": [
    "### `products` data frame"
   ]
  },
  {
   "cell_type": "code",
   "execution_count": 55,
   "id": "5f526b5b-8175-46fa-a0fd-441767d50e64",
   "metadata": {
    "id": "5f526b5b-8175-46fa-a0fd-441767d50e64"
   },
   "outputs": [
    {
     "name": "stdout",
     "output_type": "stream",
     "text": [
      "0\n"
     ]
    }
   ],
   "source": [
    "# Verifica si hay filas totalmente duplicadas\n",
    "print(df_products.duplicated().sum())"
   ]
  },
  {
   "cell_type": "code",
   "execution_count": 56,
   "id": "88daa4f4",
   "metadata": {
    "id": "88daa4f4"
   },
   "outputs": [
    {
     "name": "stdout",
     "output_type": "stream",
     "text": [
      "0\n"
     ]
    }
   ],
   "source": [
    "# Revisa únicamente si hay ID de productos duplicados\n",
    "print(df_products['product_id'].duplicated().sum())"
   ]
  },
  {
   "cell_type": "code",
   "execution_count": 57,
   "id": "c773f0bf",
   "metadata": {
    "id": "c773f0bf"
   },
   "outputs": [],
   "source": [
    "# Revisa únicamente si hay nombres duplicados de productos (convierte los nombres a letras mayúsculas para compararlos mejor)\n",
    "\n",
    "df_products['product_name'] = df_products['product_name'].str.upper()"
   ]
  },
  {
   "cell_type": "markdown",
   "id": "37f6995d-eb92-4265-8d5b-3432e7e3fb0f",
   "metadata": {},
   "source": [
    "<div class=\"alert alert-block alert-success\">\n",
    "<b>Comentario del revisor (1ra Iteracion)</b> <a class=“tocSkip”></a>\n",
    "\n",
    "Muy bien! Al guardar sobre la misma columna la transformación dejas estandarizados la escritura y evitas problemas más adelante\n",
    "</div>"
   ]
  },
  {
   "cell_type": "code",
   "execution_count": 58,
   "id": "01efd02e",
   "metadata": {
    "id": "01efd02e"
   },
   "outputs": [
    {
     "name": "stdout",
     "output_type": "stream",
     "text": [
      "1361\n"
     ]
    }
   ],
   "source": [
    "# Revisa si hay nombres duplicados de productos no faltantes\n",
    "\n",
    "print(df_products['product_name'].duplicated().sum())"
   ]
  },
  {
   "cell_type": "markdown",
   "id": "9da8d293",
   "metadata": {
    "id": "9da8d293"
   },
   "source": [
    "Describe brevemente tus hallazgos y lo que hiciste con ellos."
   ]
  },
  {
   "cell_type": "markdown",
   "id": "c246f0b5",
   "metadata": {},
   "source": [
    "En la lista de 'products' podemos ver que no hay filas duplicadas, al igual que en la columna de 'product_id' y es importante esta columna porque sus valores son únicos, por lo que no puede haber duplicados. En la columna de 'product_name' contiene el nombre del producto que aunuque en la presentación del proyecto no esta descrito como un valor único, este si debe de serlo ya que debe coincidir con su 'product_id', tenemos que seguir analizando más esta columna que aparecen duplicados ya que puede ser que la clasificación sea más generica en donde caben varios 'product_id' o existan ciertas categorias de algún producto."
   ]
  },
  {
   "cell_type": "markdown",
   "id": "60f30db1",
   "metadata": {
    "id": "60f30db1"
   },
   "source": [
    "### `departments` data frame"
   ]
  },
  {
   "cell_type": "code",
   "execution_count": 59,
   "id": "fb410ad4-0fbf-4b80-bb09-23fdea79afe3",
   "metadata": {
    "id": "fb410ad4-0fbf-4b80-bb09-23fdea79afe3"
   },
   "outputs": [
    {
     "name": "stdout",
     "output_type": "stream",
     "text": [
      "0\n"
     ]
    }
   ],
   "source": [
    "# Revisa si hay filas totalmente duplicadas\n",
    "print(df_departments.duplicated().sum())"
   ]
  },
  {
   "cell_type": "code",
   "execution_count": 60,
   "id": "332b12bb",
   "metadata": {
    "id": "332b12bb"
   },
   "outputs": [
    {
     "name": "stdout",
     "output_type": "stream",
     "text": [
      "0\n"
     ]
    }
   ],
   "source": [
    "# Revisa únicamente si hay IDs duplicadas de departamentos\n",
    "print(df_departments['department_id'].duplicated().sum())"
   ]
  },
  {
   "cell_type": "markdown",
   "id": "bd30d78e",
   "metadata": {
    "id": "bd30d78e"
   },
   "source": [
    "Describe brevemente tus hallazgos y lo que hiciste con ellos."
   ]
  },
  {
   "cell_type": "markdown",
   "id": "eb8ae376",
   "metadata": {},
   "source": [
    "En esta lista de 'departments' observamos que no hay ni filas ni sus IDs duplicados"
   ]
  },
  {
   "cell_type": "markdown",
   "id": "889349c1",
   "metadata": {
    "id": "889349c1"
   },
   "source": [
    "### `aisles` data frame"
   ]
  },
  {
   "cell_type": "code",
   "execution_count": 61,
   "id": "9da89fb9-4679-40f5-ad0d-c34df753a3f8",
   "metadata": {
    "id": "9da89fb9-4679-40f5-ad0d-c34df753a3f8"
   },
   "outputs": [
    {
     "name": "stdout",
     "output_type": "stream",
     "text": [
      "0\n"
     ]
    }
   ],
   "source": [
    "# Revisa si hay filas totalmente duplicadas\n",
    "print(df_aisles.duplicated().sum())"
   ]
  },
  {
   "cell_type": "code",
   "execution_count": 62,
   "id": "da7c2822",
   "metadata": {
    "id": "da7c2822"
   },
   "outputs": [
    {
     "name": "stdout",
     "output_type": "stream",
     "text": [
      "0\n"
     ]
    }
   ],
   "source": [
    "# Revisa únicamente si hay IDs duplicadas de pasillos\n",
    "print(df_aisles['aisle_id'].duplicated().sum())"
   ]
  },
  {
   "cell_type": "markdown",
   "id": "ac63826f",
   "metadata": {
    "id": "ac63826f"
   },
   "source": [
    "Describe brevemente tus hallazgos y lo que hiciste con ellos."
   ]
  },
  {
   "cell_type": "markdown",
   "id": "98267787",
   "metadata": {},
   "source": [
    "Al igual que la lista de 'departments' esta lista de 'aisles' tampoco tiene filas ni IDs duplicadas."
   ]
  },
  {
   "cell_type": "markdown",
   "id": "274cd06a",
   "metadata": {
    "id": "274cd06a"
   },
   "source": [
    "### `order_products` data frame"
   ]
  },
  {
   "cell_type": "code",
   "execution_count": 63,
   "id": "52326689-84a8-4b8f-a881-7c68780f62c9",
   "metadata": {
    "id": "52326689-84a8-4b8f-a881-7c68780f62c9"
   },
   "outputs": [
    {
     "name": "stdout",
     "output_type": "stream",
     "text": [
      "0\n"
     ]
    }
   ],
   "source": [
    "# Revisa si hay filas totalmente duplicadas\n",
    "print(df_ord_products.duplicated().sum())"
   ]
  },
  {
   "cell_type": "code",
   "execution_count": 64,
   "id": "7b861391",
   "metadata": {
    "id": "7b861391"
   },
   "outputs": [
    {
     "name": "stdout",
     "output_type": "stream",
     "text": [
      "4094961\n"
     ]
    },
    {
     "data": {
      "text/html": [
       "<div>\n",
       "<style scoped>\n",
       "    .dataframe tbody tr th:only-of-type {\n",
       "        vertical-align: middle;\n",
       "    }\n",
       "\n",
       "    .dataframe tbody tr th {\n",
       "        vertical-align: top;\n",
       "    }\n",
       "\n",
       "    .dataframe thead th {\n",
       "        text-align: right;\n",
       "    }\n",
       "</style>\n",
       "<table border=\"1\" class=\"dataframe\">\n",
       "  <thead>\n",
       "    <tr style=\"text-align: right;\">\n",
       "      <th></th>\n",
       "      <th>order_id</th>\n",
       "      <th>product_id</th>\n",
       "      <th>add_to_cart_order</th>\n",
       "      <th>reordered</th>\n",
       "    </tr>\n",
       "  </thead>\n",
       "  <tbody>\n",
       "    <tr>\n",
       "      <th>0.0</th>\n",
       "      <td>NaN</td>\n",
       "      <td>NaN</td>\n",
       "      <td>NaN</td>\n",
       "      <td>1861169.0</td>\n",
       "    </tr>\n",
       "    <tr>\n",
       "      <th>1.0</th>\n",
       "      <td>NaN</td>\n",
       "      <td>280.0</td>\n",
       "      <td>450046.0</td>\n",
       "      <td>2683838.0</td>\n",
       "    </tr>\n",
       "    <tr>\n",
       "      <th>2.0</th>\n",
       "      <td>NaN</td>\n",
       "      <td>11.0</td>\n",
       "      <td>428199.0</td>\n",
       "      <td>NaN</td>\n",
       "    </tr>\n",
       "    <tr>\n",
       "      <th>3.0</th>\n",
       "      <td>NaN</td>\n",
       "      <td>42.0</td>\n",
       "      <td>401907.0</td>\n",
       "      <td>NaN</td>\n",
       "    </tr>\n",
       "    <tr>\n",
       "      <th>4.0</th>\n",
       "      <td>13.0</td>\n",
       "      <td>49.0</td>\n",
       "      <td>372861.0</td>\n",
       "      <td>NaN</td>\n",
       "    </tr>\n",
       "    <tr>\n",
       "      <th>...</th>\n",
       "      <td>...</td>\n",
       "      <td>...</td>\n",
       "      <td>...</td>\n",
       "      <td>...</td>\n",
       "    </tr>\n",
       "    <tr>\n",
       "      <th>3421034.0</th>\n",
       "      <td>17.0</td>\n",
       "      <td>NaN</td>\n",
       "      <td>NaN</td>\n",
       "      <td>NaN</td>\n",
       "    </tr>\n",
       "    <tr>\n",
       "      <th>3421053.0</th>\n",
       "      <td>9.0</td>\n",
       "      <td>NaN</td>\n",
       "      <td>NaN</td>\n",
       "      <td>NaN</td>\n",
       "    </tr>\n",
       "    <tr>\n",
       "      <th>3421071.0</th>\n",
       "      <td>5.0</td>\n",
       "      <td>NaN</td>\n",
       "      <td>NaN</td>\n",
       "      <td>NaN</td>\n",
       "    </tr>\n",
       "    <tr>\n",
       "      <th>3421077.0</th>\n",
       "      <td>4.0</td>\n",
       "      <td>NaN</td>\n",
       "      <td>NaN</td>\n",
       "      <td>NaN</td>\n",
       "    </tr>\n",
       "    <tr>\n",
       "      <th>3421079.0</th>\n",
       "      <td>1.0</td>\n",
       "      <td>NaN</td>\n",
       "      <td>NaN</td>\n",
       "      <td>NaN</td>\n",
       "    </tr>\n",
       "  </tbody>\n",
       "</table>\n",
       "<p>489583 rows × 4 columns</p>\n",
       "</div>"
      ],
      "text/plain": [
       "           order_id  product_id  add_to_cart_order  reordered\n",
       "0.0             NaN         NaN                NaN  1861169.0\n",
       "1.0             NaN       280.0           450046.0  2683838.0\n",
       "2.0             NaN        11.0           428199.0        NaN\n",
       "3.0             NaN        42.0           401907.0        NaN\n",
       "4.0            13.0        49.0           372861.0        NaN\n",
       "...             ...         ...                ...        ...\n",
       "3421034.0      17.0         NaN                NaN        NaN\n",
       "3421053.0       9.0         NaN                NaN        NaN\n",
       "3421071.0       5.0         NaN                NaN        NaN\n",
       "3421077.0       4.0         NaN                NaN        NaN\n",
       "3421079.0       1.0         NaN                NaN        NaN\n",
       "\n",
       "[489583 rows x 4 columns]"
      ]
     },
     "metadata": {},
     "output_type": "display_data"
    }
   ],
   "source": [
    "# Vuelve a verificar si hay cualquier otro duplicado engañoso\n",
    "print(df_ord_products['order_id'].duplicated().sum())\n",
    "display(df_ord_products.apply(pd.value_counts))"
   ]
  },
  {
   "cell_type": "markdown",
   "id": "0b890492",
   "metadata": {
    "id": "0b890492"
   },
   "source": [
    "Describe brevemente tus hallazgos y lo que hiciste con ellos."
   ]
  },
  {
   "cell_type": "markdown",
   "id": "34526bff",
   "metadata": {},
   "source": [
    "Podemos ver que al parecer no hay dulplicados en esta lista, y anteriormente, ya habia pasado los duplicados de la columna 'order_id' pareciendo que tiene muchos valores duplicados y esta columna debe tener valores únicos, sin embargo, aqui aplicamos el método value_counts para toda la tabla, apareciendo que existen valores que se repiten varias veces y también hay muchos datos ausente en la tabla que podrían estar pasando engañosamente como duplicados."
   ]
  },
  {
   "cell_type": "markdown",
   "id": "1e46de76",
   "metadata": {
    "id": "1e46de76"
   },
   "source": [
    "## Encuentra y elimina los valores ausentes\n",
    "\n",
    "Al trabajar con valores duplicados, pudimos observar que también nos falta investigar valores ausentes:\n",
    "\n",
    "* La columna `'product_name'` de la tabla products.\n",
    "* La columna `'days_since_prior_order'` de la tabla orders.\n",
    "* La columna `'add_to_cart_order'` de la tabla order_productos."
   ]
  },
  {
   "cell_type": "markdown",
   "id": "c0aebd78",
   "metadata": {
    "id": "c0aebd78"
   },
   "source": [
    "### `products` data frame"
   ]
  },
  {
   "cell_type": "code",
   "execution_count": 65,
   "id": "fe4a8b0f",
   "metadata": {
    "id": "fe4a8b0f"
   },
   "outputs": [
    {
     "name": "stdout",
     "output_type": "stream",
     "text": [
      "1258\n"
     ]
    }
   ],
   "source": [
    "print(df_products['product_name'].isna().sum())# Encuentra los valores ausentes en la columna 'product_name'"
   ]
  },
  {
   "cell_type": "markdown",
   "id": "-A6x1AbJhjkp",
   "metadata": {
    "id": "-A6x1AbJhjkp"
   },
   "source": [
    "Describe brevemente cuáles son tus hallazgos."
   ]
  },
  {
   "cell_type": "markdown",
   "id": "da5dc798",
   "metadata": {},
   "source": [
    "En la columna 'product_name' encontramos 1258 valores ausentes"
   ]
  },
  {
   "cell_type": "code",
   "execution_count": 66,
   "id": "e96167bc",
   "metadata": {
    "id": "e96167bc"
   },
   "outputs": [
    {
     "data": {
      "text/html": [
       "<div>\n",
       "<style scoped>\n",
       "    .dataframe tbody tr th:only-of-type {\n",
       "        vertical-align: middle;\n",
       "    }\n",
       "\n",
       "    .dataframe tbody tr th {\n",
       "        vertical-align: top;\n",
       "    }\n",
       "\n",
       "    .dataframe thead th {\n",
       "        text-align: right;\n",
       "    }\n",
       "</style>\n",
       "<table border=\"1\" class=\"dataframe\">\n",
       "  <thead>\n",
       "    <tr style=\"text-align: right;\">\n",
       "      <th></th>\n",
       "      <th>product_id</th>\n",
       "      <th>product_name</th>\n",
       "      <th>aisle_id</th>\n",
       "      <th>department_id</th>\n",
       "    </tr>\n",
       "  </thead>\n",
       "  <tbody>\n",
       "    <tr>\n",
       "      <th>37</th>\n",
       "      <td>38</td>\n",
       "      <td>NaN</td>\n",
       "      <td>100</td>\n",
       "      <td>21</td>\n",
       "    </tr>\n",
       "    <tr>\n",
       "      <th>71</th>\n",
       "      <td>72</td>\n",
       "      <td>NaN</td>\n",
       "      <td>100</td>\n",
       "      <td>21</td>\n",
       "    </tr>\n",
       "    <tr>\n",
       "      <th>109</th>\n",
       "      <td>110</td>\n",
       "      <td>NaN</td>\n",
       "      <td>100</td>\n",
       "      <td>21</td>\n",
       "    </tr>\n",
       "    <tr>\n",
       "      <th>296</th>\n",
       "      <td>297</td>\n",
       "      <td>NaN</td>\n",
       "      <td>100</td>\n",
       "      <td>21</td>\n",
       "    </tr>\n",
       "    <tr>\n",
       "      <th>416</th>\n",
       "      <td>417</td>\n",
       "      <td>NaN</td>\n",
       "      <td>100</td>\n",
       "      <td>21</td>\n",
       "    </tr>\n",
       "    <tr>\n",
       "      <th>...</th>\n",
       "      <td>...</td>\n",
       "      <td>...</td>\n",
       "      <td>...</td>\n",
       "      <td>...</td>\n",
       "    </tr>\n",
       "    <tr>\n",
       "      <th>49552</th>\n",
       "      <td>49553</td>\n",
       "      <td>NaN</td>\n",
       "      <td>100</td>\n",
       "      <td>21</td>\n",
       "    </tr>\n",
       "    <tr>\n",
       "      <th>49574</th>\n",
       "      <td>49575</td>\n",
       "      <td>NaN</td>\n",
       "      <td>100</td>\n",
       "      <td>21</td>\n",
       "    </tr>\n",
       "    <tr>\n",
       "      <th>49640</th>\n",
       "      <td>49641</td>\n",
       "      <td>NaN</td>\n",
       "      <td>100</td>\n",
       "      <td>21</td>\n",
       "    </tr>\n",
       "    <tr>\n",
       "      <th>49663</th>\n",
       "      <td>49664</td>\n",
       "      <td>NaN</td>\n",
       "      <td>100</td>\n",
       "      <td>21</td>\n",
       "    </tr>\n",
       "    <tr>\n",
       "      <th>49668</th>\n",
       "      <td>49669</td>\n",
       "      <td>NaN</td>\n",
       "      <td>100</td>\n",
       "      <td>21</td>\n",
       "    </tr>\n",
       "  </tbody>\n",
       "</table>\n",
       "<p>1258 rows × 4 columns</p>\n",
       "</div>"
      ],
      "text/plain": [
       "       product_id product_name  aisle_id  department_id\n",
       "37             38          NaN       100             21\n",
       "71             72          NaN       100             21\n",
       "109           110          NaN       100             21\n",
       "296           297          NaN       100             21\n",
       "416           417          NaN       100             21\n",
       "...           ...          ...       ...            ...\n",
       "49552       49553          NaN       100             21\n",
       "49574       49575          NaN       100             21\n",
       "49640       49641          NaN       100             21\n",
       "49663       49664          NaN       100             21\n",
       "49668       49669          NaN       100             21\n",
       "\n",
       "[1258 rows x 4 columns]"
      ]
     },
     "metadata": {},
     "output_type": "display_data"
    }
   ],
   "source": [
    "#  ¿Todos los nombres de productos ausentes están relacionados con el pasillo con ID 100?\n",
    "display(df_products[df_products['aisle_id'] == 100])"
   ]
  },
  {
   "cell_type": "markdown",
   "id": "WRpIfXRphpSL",
   "metadata": {
    "id": "WRpIfXRphpSL"
   },
   "source": [
    "Describe brevemente cuáles son tus hallazgos."
   ]
  },
  {
   "cell_type": "markdown",
   "id": "d35c1905",
   "metadata": {},
   "source": [
    "Haciendo el filtro para ver todas las filas que tienen el ID del pasillo 100 son 1258 que es la misma cantidad de los valores ausentes, por lo que si hay una relación con el número de ID del pasillo 100."
   ]
  },
  {
   "cell_type": "code",
   "execution_count": 67,
   "id": "8fd0a541",
   "metadata": {
    "id": "8fd0a541"
   },
   "outputs": [
    {
     "data": {
      "text/html": [
       "<div>\n",
       "<style scoped>\n",
       "    .dataframe tbody tr th:only-of-type {\n",
       "        vertical-align: middle;\n",
       "    }\n",
       "\n",
       "    .dataframe tbody tr th {\n",
       "        vertical-align: top;\n",
       "    }\n",
       "\n",
       "    .dataframe thead th {\n",
       "        text-align: right;\n",
       "    }\n",
       "</style>\n",
       "<table border=\"1\" class=\"dataframe\">\n",
       "  <thead>\n",
       "    <tr style=\"text-align: right;\">\n",
       "      <th></th>\n",
       "      <th>product_id</th>\n",
       "      <th>product_name</th>\n",
       "      <th>aisle_id</th>\n",
       "      <th>department_id</th>\n",
       "    </tr>\n",
       "  </thead>\n",
       "  <tbody>\n",
       "    <tr>\n",
       "      <th>37</th>\n",
       "      <td>38</td>\n",
       "      <td>NaN</td>\n",
       "      <td>100</td>\n",
       "      <td>21</td>\n",
       "    </tr>\n",
       "    <tr>\n",
       "      <th>71</th>\n",
       "      <td>72</td>\n",
       "      <td>NaN</td>\n",
       "      <td>100</td>\n",
       "      <td>21</td>\n",
       "    </tr>\n",
       "    <tr>\n",
       "      <th>109</th>\n",
       "      <td>110</td>\n",
       "      <td>NaN</td>\n",
       "      <td>100</td>\n",
       "      <td>21</td>\n",
       "    </tr>\n",
       "    <tr>\n",
       "      <th>296</th>\n",
       "      <td>297</td>\n",
       "      <td>NaN</td>\n",
       "      <td>100</td>\n",
       "      <td>21</td>\n",
       "    </tr>\n",
       "    <tr>\n",
       "      <th>416</th>\n",
       "      <td>417</td>\n",
       "      <td>NaN</td>\n",
       "      <td>100</td>\n",
       "      <td>21</td>\n",
       "    </tr>\n",
       "    <tr>\n",
       "      <th>...</th>\n",
       "      <td>...</td>\n",
       "      <td>...</td>\n",
       "      <td>...</td>\n",
       "      <td>...</td>\n",
       "    </tr>\n",
       "    <tr>\n",
       "      <th>49552</th>\n",
       "      <td>49553</td>\n",
       "      <td>NaN</td>\n",
       "      <td>100</td>\n",
       "      <td>21</td>\n",
       "    </tr>\n",
       "    <tr>\n",
       "      <th>49574</th>\n",
       "      <td>49575</td>\n",
       "      <td>NaN</td>\n",
       "      <td>100</td>\n",
       "      <td>21</td>\n",
       "    </tr>\n",
       "    <tr>\n",
       "      <th>49640</th>\n",
       "      <td>49641</td>\n",
       "      <td>NaN</td>\n",
       "      <td>100</td>\n",
       "      <td>21</td>\n",
       "    </tr>\n",
       "    <tr>\n",
       "      <th>49663</th>\n",
       "      <td>49664</td>\n",
       "      <td>NaN</td>\n",
       "      <td>100</td>\n",
       "      <td>21</td>\n",
       "    </tr>\n",
       "    <tr>\n",
       "      <th>49668</th>\n",
       "      <td>49669</td>\n",
       "      <td>NaN</td>\n",
       "      <td>100</td>\n",
       "      <td>21</td>\n",
       "    </tr>\n",
       "  </tbody>\n",
       "</table>\n",
       "<p>1258 rows × 4 columns</p>\n",
       "</div>"
      ],
      "text/plain": [
       "       product_id product_name  aisle_id  department_id\n",
       "37             38          NaN       100             21\n",
       "71             72          NaN       100             21\n",
       "109           110          NaN       100             21\n",
       "296           297          NaN       100             21\n",
       "416           417          NaN       100             21\n",
       "...           ...          ...       ...            ...\n",
       "49552       49553          NaN       100             21\n",
       "49574       49575          NaN       100             21\n",
       "49640       49641          NaN       100             21\n",
       "49663       49664          NaN       100             21\n",
       "49668       49669          NaN       100             21\n",
       "\n",
       "[1258 rows x 4 columns]"
      ]
     },
     "metadata": {},
     "output_type": "display_data"
    }
   ],
   "source": [
    "# ¿Todos los nombres de productos ausentes están relacionados con el departamento con ID 21?\n",
    "display(df_products[df_products['department_id'] == 21])"
   ]
  },
  {
   "cell_type": "markdown",
   "id": "qDpdYn1Fht_I",
   "metadata": {
    "id": "qDpdYn1Fht_I"
   },
   "source": [
    "Describe brevemente cuáles son tus hallazgos."
   ]
  },
  {
   "cell_type": "markdown",
   "id": "5e57ed28",
   "metadata": {},
   "source": [
    "Al hacer el filtrado para ver todas las filas con id de departamento número 21, aparece la misma lista filtrada con el pasillo de identificación 100 y coincide con el número total de valores ausentes, por lo que si existe una relación entre los valores ausentes el id de pasillo 100 y el id de departamento 21."
   ]
  },
  {
   "cell_type": "code",
   "execution_count": 68,
   "id": "325c3464",
   "metadata": {
    "id": "325c3464"
   },
   "outputs": [
    {
     "name": "stdout",
     "output_type": "stream",
     "text": [
      "    aisle_id    aisle\n",
      "99       100  missing\n",
      "\n",
      "    department_id department\n",
      "20             21    missing\n"
     ]
    }
   ],
   "source": [
    "# Usa las tablas department y aisle para revisar los datos del pasillo con ID 100 y el departamento con ID 21.\n",
    "print(df_aisles[df_aisles['aisle_id']== 100])\n",
    "print()\n",
    "print(df_departments[df_departments['department_id'] == 21])"
   ]
  },
  {
   "cell_type": "markdown",
   "id": "nqhSTUPhhvEJ",
   "metadata": {
    "id": "nqhSTUPhhvEJ"
   },
   "source": [
    "Describe brevemente cuáles son tus hallazgos."
   ]
  },
  {
   "cell_type": "markdown",
   "id": "546d9bb4",
   "metadata": {},
   "source": [
    "podemos ver que el pasillo identificado con el 100  y el departamento con id 21 tienen la palabra en ingles 'missing' que es desaparecido o no se encuentra."
   ]
  },
  {
   "cell_type": "markdown",
   "id": "2556c277-c621-4697-92f2-f2a8492dd0e4",
   "metadata": {},
   "source": [
    "<div class=\"alert alert-block alert-success\">\n",
    "<b>Comentario del revisor (1ra Iteracion)</b> <a class=“tocSkip”></a>\n",
    "\n",
    "Perfecto, utilizaste los datasets correctos y ahora es más el por qué se tiene datos ausentes de esos ID\n",
    "</div>"
   ]
  },
  {
   "cell_type": "code",
   "execution_count": 69,
   "id": "6b295120",
   "metadata": {
    "id": "6b295120"
   },
   "outputs": [
    {
     "name": "stdout",
     "output_type": "stream",
     "text": [
      "0\n"
     ]
    }
   ],
   "source": [
    "# Completa los nombres de productos ausentes con 'Unknown'\n",
    "df_products['product_name'] = df_products['product_name'].fillna('Unknown')\n",
    "\n",
    "print(df_products['product_name'].isna().sum())"
   ]
  },
  {
   "cell_type": "markdown",
   "id": "fc70e5ad",
   "metadata": {
    "id": "fc70e5ad"
   },
   "source": [
    "Describe brevemente tus hallazgos y lo que hiciste con ellos."
   ]
  },
  {
   "cell_type": "markdown",
   "id": "7185b11e",
   "metadata": {},
   "source": [
    "Al ver o tratar de rastrear el significado de los valores ausentes, se tomo la decisión de cambiar esos datos ausentes por la palabra 'Unknown' de esa manera vamos a poder trabajar mejor con ese Dataframe."
   ]
  },
  {
   "cell_type": "markdown",
   "id": "7eb45c86",
   "metadata": {
    "id": "7eb45c86"
   },
   "source": [
    "### `orders` data frame"
   ]
  },
  {
   "cell_type": "code",
   "execution_count": 70,
   "id": "93e41d96",
   "metadata": {
    "id": "93e41d96"
   },
   "outputs": [
    {
     "data": {
      "text/plain": [
       "order_id                      0\n",
       "user_id                       0\n",
       "order_number                  0\n",
       "order_dow                     0\n",
       "order_hour_of_day             0\n",
       "days_since_prior_order    28817\n",
       "dtype: int64"
      ]
     },
     "metadata": {},
     "output_type": "display_data"
    }
   ],
   "source": [
    "# Encuentra los valores ausentes\n",
    "display(df_orders.isna().sum())"
   ]
  },
  {
   "cell_type": "code",
   "execution_count": 71,
   "id": "166e5a86",
   "metadata": {
    "id": "166e5a86"
   },
   "outputs": [
    {
     "data": {
      "text/html": [
       "<div>\n",
       "<style scoped>\n",
       "    .dataframe tbody tr th:only-of-type {\n",
       "        vertical-align: middle;\n",
       "    }\n",
       "\n",
       "    .dataframe tbody tr th {\n",
       "        vertical-align: top;\n",
       "    }\n",
       "\n",
       "    .dataframe thead th {\n",
       "        text-align: right;\n",
       "    }\n",
       "</style>\n",
       "<table border=\"1\" class=\"dataframe\">\n",
       "  <thead>\n",
       "    <tr style=\"text-align: right;\">\n",
       "      <th></th>\n",
       "      <th>order_id</th>\n",
       "      <th>user_id</th>\n",
       "      <th>order_number</th>\n",
       "      <th>order_dow</th>\n",
       "      <th>order_hour_of_day</th>\n",
       "      <th>days_since_prior_order</th>\n",
       "    </tr>\n",
       "  </thead>\n",
       "  <tbody>\n",
       "    <tr>\n",
       "      <th>28</th>\n",
       "      <td>133707</td>\n",
       "      <td>182261</td>\n",
       "      <td>1</td>\n",
       "      <td>3</td>\n",
       "      <td>10</td>\n",
       "      <td>NaN</td>\n",
       "    </tr>\n",
       "    <tr>\n",
       "      <th>96</th>\n",
       "      <td>787445</td>\n",
       "      <td>25685</td>\n",
       "      <td>1</td>\n",
       "      <td>6</td>\n",
       "      <td>18</td>\n",
       "      <td>NaN</td>\n",
       "    </tr>\n",
       "    <tr>\n",
       "      <th>100</th>\n",
       "      <td>294410</td>\n",
       "      <td>111449</td>\n",
       "      <td>1</td>\n",
       "      <td>0</td>\n",
       "      <td>19</td>\n",
       "      <td>NaN</td>\n",
       "    </tr>\n",
       "    <tr>\n",
       "      <th>103</th>\n",
       "      <td>2869915</td>\n",
       "      <td>123958</td>\n",
       "      <td>1</td>\n",
       "      <td>4</td>\n",
       "      <td>16</td>\n",
       "      <td>NaN</td>\n",
       "    </tr>\n",
       "    <tr>\n",
       "      <th>104</th>\n",
       "      <td>2521921</td>\n",
       "      <td>42286</td>\n",
       "      <td>1</td>\n",
       "      <td>3</td>\n",
       "      <td>18</td>\n",
       "      <td>NaN</td>\n",
       "    </tr>\n",
       "    <tr>\n",
       "      <th>...</th>\n",
       "      <td>...</td>\n",
       "      <td>...</td>\n",
       "      <td>...</td>\n",
       "      <td>...</td>\n",
       "      <td>...</td>\n",
       "      <td>...</td>\n",
       "    </tr>\n",
       "    <tr>\n",
       "      <th>478895</th>\n",
       "      <td>2589657</td>\n",
       "      <td>205028</td>\n",
       "      <td>1</td>\n",
       "      <td>0</td>\n",
       "      <td>16</td>\n",
       "      <td>NaN</td>\n",
       "    </tr>\n",
       "    <tr>\n",
       "      <th>478896</th>\n",
       "      <td>2222353</td>\n",
       "      <td>141211</td>\n",
       "      <td>1</td>\n",
       "      <td>2</td>\n",
       "      <td>13</td>\n",
       "      <td>NaN</td>\n",
       "    </tr>\n",
       "    <tr>\n",
       "      <th>478922</th>\n",
       "      <td>2272807</td>\n",
       "      <td>204154</td>\n",
       "      <td>1</td>\n",
       "      <td>1</td>\n",
       "      <td>15</td>\n",
       "      <td>NaN</td>\n",
       "    </tr>\n",
       "    <tr>\n",
       "      <th>478926</th>\n",
       "      <td>2499542</td>\n",
       "      <td>68810</td>\n",
       "      <td>1</td>\n",
       "      <td>4</td>\n",
       "      <td>19</td>\n",
       "      <td>NaN</td>\n",
       "    </tr>\n",
       "    <tr>\n",
       "      <th>478945</th>\n",
       "      <td>1387033</td>\n",
       "      <td>22496</td>\n",
       "      <td>1</td>\n",
       "      <td>5</td>\n",
       "      <td>14</td>\n",
       "      <td>NaN</td>\n",
       "    </tr>\n",
       "  </tbody>\n",
       "</table>\n",
       "<p>28817 rows × 6 columns</p>\n",
       "</div>"
      ],
      "text/plain": [
       "        order_id  user_id  order_number  order_dow  order_hour_of_day  \\\n",
       "28        133707   182261             1          3                 10   \n",
       "96        787445    25685             1          6                 18   \n",
       "100       294410   111449             1          0                 19   \n",
       "103      2869915   123958             1          4                 16   \n",
       "104      2521921    42286             1          3                 18   \n",
       "...          ...      ...           ...        ...                ...   \n",
       "478895   2589657   205028             1          0                 16   \n",
       "478896   2222353   141211             1          2                 13   \n",
       "478922   2272807   204154             1          1                 15   \n",
       "478926   2499542    68810             1          4                 19   \n",
       "478945   1387033    22496             1          5                 14   \n",
       "\n",
       "        days_since_prior_order  \n",
       "28                         NaN  \n",
       "96                         NaN  \n",
       "100                        NaN  \n",
       "103                        NaN  \n",
       "104                        NaN  \n",
       "...                        ...  \n",
       "478895                     NaN  \n",
       "478896                     NaN  \n",
       "478922                     NaN  \n",
       "478926                     NaN  \n",
       "478945                     NaN  \n",
       "\n",
       "[28817 rows x 6 columns]"
      ]
     },
     "metadata": {},
     "output_type": "display_data"
    }
   ],
   "source": [
    "# ¿Hay algún valor ausente que no sea el primer pedido del cliente?\n",
    "display(df_orders[df_orders['days_since_prior_order'].isna()])"
   ]
  },
  {
   "cell_type": "markdown",
   "id": "4e23d089",
   "metadata": {
    "id": "4e23d089"
   },
   "source": [
    "Describe brevemente tus hallazgos y lo que hiciste con ellos."
   ]
  },
  {
   "cell_type": "markdown",
   "id": "4cf89eb5",
   "metadata": {},
   "source": [
    "Los valores ausentes estan localizados en la columna 'days_since_prior_order' y coincide con el primer pedidos del cliente, ya que no hay dias anteriores a dicha compra."
   ]
  },
  {
   "cell_type": "markdown",
   "id": "69dc9ca4",
   "metadata": {
    "id": "69dc9ca4"
   },
   "source": [
    "### `order_products` data frame"
   ]
  },
  {
   "cell_type": "code",
   "execution_count": 72,
   "id": "b8240253",
   "metadata": {
    "id": "b8240253"
   },
   "outputs": [
    {
     "data": {
      "text/plain": [
       "order_id               0\n",
       "product_id             0\n",
       "add_to_cart_order    836\n",
       "reordered              0\n",
       "dtype: int64"
      ]
     },
     "metadata": {},
     "output_type": "display_data"
    },
    {
     "name": "stdout",
     "output_type": "stream",
     "text": [
      "\n"
     ]
    },
    {
     "data": {
      "text/html": [
       "<div>\n",
       "<style scoped>\n",
       "    .dataframe tbody tr th:only-of-type {\n",
       "        vertical-align: middle;\n",
       "    }\n",
       "\n",
       "    .dataframe tbody tr th {\n",
       "        vertical-align: top;\n",
       "    }\n",
       "\n",
       "    .dataframe thead th {\n",
       "        text-align: right;\n",
       "    }\n",
       "</style>\n",
       "<table border=\"1\" class=\"dataframe\">\n",
       "  <thead>\n",
       "    <tr style=\"text-align: right;\">\n",
       "      <th></th>\n",
       "      <th>order_id</th>\n",
       "      <th>product_id</th>\n",
       "      <th>add_to_cart_order</th>\n",
       "      <th>reordered</th>\n",
       "    </tr>\n",
       "  </thead>\n",
       "  <tbody>\n",
       "    <tr>\n",
       "      <th>737</th>\n",
       "      <td>2449164</td>\n",
       "      <td>5068</td>\n",
       "      <td>NaN</td>\n",
       "      <td>0</td>\n",
       "    </tr>\n",
       "    <tr>\n",
       "      <th>9926</th>\n",
       "      <td>1968313</td>\n",
       "      <td>43867</td>\n",
       "      <td>NaN</td>\n",
       "      <td>0</td>\n",
       "    </tr>\n",
       "    <tr>\n",
       "      <th>14394</th>\n",
       "      <td>2926893</td>\n",
       "      <td>11688</td>\n",
       "      <td>NaN</td>\n",
       "      <td>0</td>\n",
       "    </tr>\n",
       "    <tr>\n",
       "      <th>16418</th>\n",
       "      <td>1717990</td>\n",
       "      <td>4142</td>\n",
       "      <td>NaN</td>\n",
       "      <td>0</td>\n",
       "    </tr>\n",
       "    <tr>\n",
       "      <th>30114</th>\n",
       "      <td>1959075</td>\n",
       "      <td>42828</td>\n",
       "      <td>NaN</td>\n",
       "      <td>1</td>\n",
       "    </tr>\n",
       "    <tr>\n",
       "      <th>...</th>\n",
       "      <td>...</td>\n",
       "      <td>...</td>\n",
       "      <td>...</td>\n",
       "      <td>...</td>\n",
       "    </tr>\n",
       "    <tr>\n",
       "      <th>4505662</th>\n",
       "      <td>1800005</td>\n",
       "      <td>7411</td>\n",
       "      <td>NaN</td>\n",
       "      <td>0</td>\n",
       "    </tr>\n",
       "    <tr>\n",
       "      <th>4511400</th>\n",
       "      <td>1633337</td>\n",
       "      <td>260</td>\n",
       "      <td>NaN</td>\n",
       "      <td>0</td>\n",
       "    </tr>\n",
       "    <tr>\n",
       "      <th>4517562</th>\n",
       "      <td>404157</td>\n",
       "      <td>9517</td>\n",
       "      <td>NaN</td>\n",
       "      <td>0</td>\n",
       "    </tr>\n",
       "    <tr>\n",
       "      <th>4534112</th>\n",
       "      <td>1673227</td>\n",
       "      <td>17835</td>\n",
       "      <td>NaN</td>\n",
       "      <td>0</td>\n",
       "    </tr>\n",
       "    <tr>\n",
       "      <th>4535739</th>\n",
       "      <td>1832957</td>\n",
       "      <td>17949</td>\n",
       "      <td>NaN</td>\n",
       "      <td>1</td>\n",
       "    </tr>\n",
       "  </tbody>\n",
       "</table>\n",
       "<p>836 rows × 4 columns</p>\n",
       "</div>"
      ],
      "text/plain": [
       "         order_id  product_id  add_to_cart_order  reordered\n",
       "737       2449164        5068                NaN          0\n",
       "9926      1968313       43867                NaN          0\n",
       "14394     2926893       11688                NaN          0\n",
       "16418     1717990        4142                NaN          0\n",
       "30114     1959075       42828                NaN          1\n",
       "...           ...         ...                ...        ...\n",
       "4505662   1800005        7411                NaN          0\n",
       "4511400   1633337         260                NaN          0\n",
       "4517562    404157        9517                NaN          0\n",
       "4534112   1673227       17835                NaN          0\n",
       "4535739   1832957       17949                NaN          1\n",
       "\n",
       "[836 rows x 4 columns]"
      ]
     },
     "metadata": {},
     "output_type": "display_data"
    }
   ],
   "source": [
    "# Encuentra los valores ausentes\n",
    "display(df_ord_products.isna().sum())\n",
    "print()\n",
    "display(df_ord_products[df_ord_products['add_to_cart_order'].isna()])"
   ]
  },
  {
   "cell_type": "code",
   "execution_count": 73,
   "id": "9a78e5ee",
   "metadata": {
    "id": "9a78e5ee"
   },
   "outputs": [
    {
     "name": "stdout",
     "output_type": "stream",
     "text": [
      "1.0\n",
      "64.0\n"
     ]
    }
   ],
   "source": [
    "# ¿Cuáles son los valores mínimos y máximos en esta columna?\n",
    "print(df_ord_products['add_to_cart_order'].min())\n",
    "print(df_ord_products['add_to_cart_order'].max())"
   ]
  },
  {
   "cell_type": "markdown",
   "id": "-Z2Ja215jW78",
   "metadata": {
    "id": "-Z2Ja215jW78"
   },
   "source": [
    "Describe brevemente cuáles son tus hallazgos."
   ]
  },
  {
   "cell_type": "markdown",
   "id": "0da1226e",
   "metadata": {},
   "source": [
    "Los valores ausentes se encuentran localizados en la columna 'add_to_cart_order' que es el orden secuencial en que se añadieron cada producto en el carrito, viendo que los valores min y maximo son 1 y 64"
   ]
  },
  {
   "cell_type": "markdown",
   "id": "295790c4-63be-4638-be28-9fc667850fd4",
   "metadata": {},
   "source": [
    "<div class=\"alert alert-block alert-success\">\n",
    "<b>Comentario del revisor (1ra Iteracion)</b> <a class=“tocSkip”></a>\n",
    "\n",
    "Buen trabajo buscando los valores máximos y mínimos!\n",
    "</div>"
   ]
  },
  {
   "cell_type": "code",
   "execution_count": 74,
   "id": "ab9d0c2b",
   "metadata": {
    "id": "ab9d0c2b"
   },
   "outputs": [
    {
     "data": {
      "text/plain": [
       "0      2449164\n",
       "1      1968313\n",
       "2      2926893\n",
       "3      1717990\n",
       "4      1959075\n",
       "        ...   \n",
       "831    1800005\n",
       "832    1633337\n",
       "833     404157\n",
       "834    1673227\n",
       "835    1832957\n",
       "Name: order_id, Length: 836, dtype: int64"
      ]
     },
     "metadata": {},
     "output_type": "display_data"
    }
   ],
   "source": [
    "# Guarda todas las IDs de pedidos que tengan un valor ausente en 'add_to_cart_order'\n",
    "ids_order_nan = df_ord_products.loc[df_ord_products['add_to_cart_order'].isna(),'order_id'].reset_index(drop=True)\n",
    "display(ids_order_nan)"
   ]
  },
  {
   "cell_type": "code",
   "execution_count": 75,
   "id": "54c31695",
   "metadata": {
    "id": "54c31695"
   },
   "outputs": [
    {
     "data": {
      "text/html": [
       "<div>\n",
       "<style scoped>\n",
       "    .dataframe tbody tr th:only-of-type {\n",
       "        vertical-align: middle;\n",
       "    }\n",
       "\n",
       "    .dataframe tbody tr th {\n",
       "        vertical-align: top;\n",
       "    }\n",
       "\n",
       "    .dataframe thead th {\n",
       "        text-align: right;\n",
       "    }\n",
       "</style>\n",
       "<table border=\"1\" class=\"dataframe\">\n",
       "  <thead>\n",
       "    <tr style=\"text-align: right;\">\n",
       "      <th></th>\n",
       "      <th>order_id</th>\n",
       "      <th>product_id</th>\n",
       "      <th>add_to_cart_order</th>\n",
       "      <th>reordered</th>\n",
       "    </tr>\n",
       "  </thead>\n",
       "  <tbody>\n",
       "    <tr>\n",
       "      <th>267</th>\n",
       "      <td>2094761</td>\n",
       "      <td>31469</td>\n",
       "      <td>57.0</td>\n",
       "      <td>1</td>\n",
       "    </tr>\n",
       "    <tr>\n",
       "      <th>737</th>\n",
       "      <td>2449164</td>\n",
       "      <td>5068</td>\n",
       "      <td>NaN</td>\n",
       "      <td>0</td>\n",
       "    </tr>\n",
       "    <tr>\n",
       "      <th>1742</th>\n",
       "      <td>2997021</td>\n",
       "      <td>4920</td>\n",
       "      <td>37.0</td>\n",
       "      <td>0</td>\n",
       "    </tr>\n",
       "    <tr>\n",
       "      <th>3463</th>\n",
       "      <td>871281</td>\n",
       "      <td>40063</td>\n",
       "      <td>61.0</td>\n",
       "      <td>1</td>\n",
       "    </tr>\n",
       "    <tr>\n",
       "      <th>3535</th>\n",
       "      <td>171934</td>\n",
       "      <td>36397</td>\n",
       "      <td>7.0</td>\n",
       "      <td>0</td>\n",
       "    </tr>\n",
       "    <tr>\n",
       "      <th>...</th>\n",
       "      <td>...</td>\n",
       "      <td>...</td>\n",
       "      <td>...</td>\n",
       "      <td>...</td>\n",
       "    </tr>\n",
       "    <tr>\n",
       "      <th>4543519</th>\n",
       "      <td>2621907</td>\n",
       "      <td>32018</td>\n",
       "      <td>28.0</td>\n",
       "      <td>1</td>\n",
       "    </tr>\n",
       "    <tr>\n",
       "      <th>4544672</th>\n",
       "      <td>102236</td>\n",
       "      <td>34688</td>\n",
       "      <td>49.0</td>\n",
       "      <td>0</td>\n",
       "    </tr>\n",
       "    <tr>\n",
       "      <th>4544708</th>\n",
       "      <td>2256933</td>\n",
       "      <td>41544</td>\n",
       "      <td>21.0</td>\n",
       "      <td>0</td>\n",
       "    </tr>\n",
       "    <tr>\n",
       "      <th>4544771</th>\n",
       "      <td>180546</td>\n",
       "      <td>12741</td>\n",
       "      <td>46.0</td>\n",
       "      <td>1</td>\n",
       "    </tr>\n",
       "    <tr>\n",
       "      <th>4544810</th>\n",
       "      <td>2136777</td>\n",
       "      <td>20072</td>\n",
       "      <td>10.0</td>\n",
       "      <td>0</td>\n",
       "    </tr>\n",
       "  </tbody>\n",
       "</table>\n",
       "<p>5316 rows × 4 columns</p>\n",
       "</div>"
      ],
      "text/plain": [
       "         order_id  product_id  add_to_cart_order  reordered\n",
       "267       2094761       31469               57.0          1\n",
       "737       2449164        5068                NaN          0\n",
       "1742      2997021        4920               37.0          0\n",
       "3463       871281       40063               61.0          1\n",
       "3535       171934       36397                7.0          0\n",
       "...           ...         ...                ...        ...\n",
       "4543519   2621907       32018               28.0          1\n",
       "4544672    102236       34688               49.0          0\n",
       "4544708   2256933       41544               21.0          0\n",
       "4544771    180546       12741               46.0          1\n",
       "4544810   2136777       20072               10.0          0\n",
       "\n",
       "[5316 rows x 4 columns]"
      ]
     },
     "metadata": {},
     "output_type": "display_data"
    },
    {
     "name": "stdout",
     "output_type": "stream",
     "text": [
      "¿Todos los pedidos con valores ausentes tienen más de 64 productos? True\n",
      "\n"
     ]
    },
    {
     "data": {
      "text/html": [
       "<div>\n",
       "<style scoped>\n",
       "    .dataframe tbody tr th:only-of-type {\n",
       "        vertical-align: middle;\n",
       "    }\n",
       "\n",
       "    .dataframe tbody tr th {\n",
       "        vertical-align: top;\n",
       "    }\n",
       "\n",
       "    .dataframe thead th {\n",
       "        text-align: right;\n",
       "    }\n",
       "</style>\n",
       "<table border=\"1\" class=\"dataframe\">\n",
       "  <thead>\n",
       "    <tr style=\"text-align: right;\">\n",
       "      <th></th>\n",
       "      <th>order_id</th>\n",
       "      <th>product_id</th>\n",
       "      <th>add_to_cart_order</th>\n",
       "      <th>reordered</th>\n",
       "    </tr>\n",
       "  </thead>\n",
       "  <tbody>\n",
       "    <tr>\n",
       "      <th>267</th>\n",
       "      <td>2094761</td>\n",
       "      <td>31469</td>\n",
       "      <td>57.0</td>\n",
       "      <td>1</td>\n",
       "    </tr>\n",
       "    <tr>\n",
       "      <th>737</th>\n",
       "      <td>2449164</td>\n",
       "      <td>5068</td>\n",
       "      <td>NaN</td>\n",
       "      <td>0</td>\n",
       "    </tr>\n",
       "    <tr>\n",
       "      <th>1742</th>\n",
       "      <td>2997021</td>\n",
       "      <td>4920</td>\n",
       "      <td>37.0</td>\n",
       "      <td>0</td>\n",
       "    </tr>\n",
       "    <tr>\n",
       "      <th>3463</th>\n",
       "      <td>871281</td>\n",
       "      <td>40063</td>\n",
       "      <td>61.0</td>\n",
       "      <td>1</td>\n",
       "    </tr>\n",
       "    <tr>\n",
       "      <th>3535</th>\n",
       "      <td>171934</td>\n",
       "      <td>36397</td>\n",
       "      <td>7.0</td>\n",
       "      <td>0</td>\n",
       "    </tr>\n",
       "    <tr>\n",
       "      <th>...</th>\n",
       "      <td>...</td>\n",
       "      <td>...</td>\n",
       "      <td>...</td>\n",
       "      <td>...</td>\n",
       "    </tr>\n",
       "    <tr>\n",
       "      <th>4543519</th>\n",
       "      <td>2621907</td>\n",
       "      <td>32018</td>\n",
       "      <td>28.0</td>\n",
       "      <td>1</td>\n",
       "    </tr>\n",
       "    <tr>\n",
       "      <th>4544672</th>\n",
       "      <td>102236</td>\n",
       "      <td>34688</td>\n",
       "      <td>49.0</td>\n",
       "      <td>0</td>\n",
       "    </tr>\n",
       "    <tr>\n",
       "      <th>4544708</th>\n",
       "      <td>2256933</td>\n",
       "      <td>41544</td>\n",
       "      <td>21.0</td>\n",
       "      <td>0</td>\n",
       "    </tr>\n",
       "    <tr>\n",
       "      <th>4544771</th>\n",
       "      <td>180546</td>\n",
       "      <td>12741</td>\n",
       "      <td>46.0</td>\n",
       "      <td>1</td>\n",
       "    </tr>\n",
       "    <tr>\n",
       "      <th>4544810</th>\n",
       "      <td>2136777</td>\n",
       "      <td>20072</td>\n",
       "      <td>10.0</td>\n",
       "      <td>0</td>\n",
       "    </tr>\n",
       "  </tbody>\n",
       "</table>\n",
       "<p>5316 rows × 4 columns</p>\n",
       "</div>"
      ],
      "text/plain": [
       "         order_id  product_id  add_to_cart_order  reordered\n",
       "267       2094761       31469               57.0          1\n",
       "737       2449164        5068                NaN          0\n",
       "1742      2997021        4920               37.0          0\n",
       "3463       871281       40063               61.0          1\n",
       "3535       171934       36397                7.0          0\n",
       "...           ...         ...                ...        ...\n",
       "4543519   2621907       32018               28.0          1\n",
       "4544672    102236       34688               49.0          0\n",
       "4544708   2256933       41544               21.0          0\n",
       "4544771    180546       12741               46.0          1\n",
       "4544810   2136777       20072               10.0          0\n",
       "\n",
       "[5316 rows x 4 columns]"
      ]
     },
     "metadata": {},
     "output_type": "display_data"
    },
    {
     "name": "stdout",
     "output_type": "stream",
     "text": [
      "\n"
     ]
    },
    {
     "data": {
      "text/plain": [
       "order_id\n",
       "4          13\n",
       "9          15\n",
       "11          5\n",
       "19          3\n",
       "20          8\n",
       "           ..\n",
       "3421034    17\n",
       "3421053     9\n",
       "3421071     5\n",
       "3421077     4\n",
       "3421079     1\n",
       "Name: product_id, Length: 450046, dtype: int64"
      ]
     },
     "metadata": {},
     "output_type": "display_data"
    },
    {
     "name": "stdout",
     "output_type": "stream",
     "text": [
      "El valor mínimo del conteo es: 1\n"
     ]
    }
   ],
   "source": [
    "# ¿Todos los pedidos con valores ausentes tienen más de 64 productos?\n",
    "conteo_nan = df_ord_products[df_ord_products['order_id'].isin(ids_order_nan)]\n",
    "display(conteo_nan)\n",
    "\n",
    "conteo = conteo_nan.groupby('order_id')['product_id'].count()\n",
    "pedidos_mas_de_64 = (conteo > 64).all()\n",
    "\n",
    "print('¿Todos los pedidos con valores ausentes tienen más de 64 productos?', pedidos_mas_de_64)\n",
    "print()\n",
    "\n",
    "# Agrupa todos los pedidos con datos ausentes por su ID de pedido.\n",
    "df_filter_ord_id_null = df_ord_products[df_ord_products['order_id'].isin(ids_order_nan)]\n",
    "display(df_filter_ord_id_null)\n",
    "print()\n",
    "# Cuenta el número de 'product_id' en cada pedido y revisa el valor mínimo del conteo.\n",
    "conteo_producto_pedido = df_ord_products.groupby('order_id')['product_id'].count()\n",
    "display(conteo_producto_pedido)\n",
    "print('El valor mínimo del conteo es:', conteo_producto_pedido.min())"
   ]
  },
  {
   "cell_type": "markdown",
   "id": "e98f279b-d683-4c31-8115-9b108ef04891",
   "metadata": {},
   "source": [
    "<div class=\"alert alert-block alert-danger\">\n",
    "<b>Comentario del revisor (1ra Iteracion)</b> <a class=“tocSkip”></a>\n",
    "\n",
    "Para revisar si los pedidos con valores ausentes tienen o no más de 64 pedidos deberías usar las order_id que que tienes en la variable `ids_order_nan` (Solo toma los valores de la columna order_id) y filtrar en el dataset original utilizando `isin()` y luego si agrupar por order_id y contar en product_id, ya que de la forma en que lo estás haciendo solo cuenta cuantos valores ausentes hay por órden pero puede que tengas órdenes que tiene valores ausentes y también valores que no lo son y lo que interesa es contar todos estos datos.\n",
    "</div>"
   ]
  },
  {
   "cell_type": "markdown",
   "id": "93574e95-8d72-4c34-9a40-af404b6625b5",
   "metadata": {},
   "source": [
    "<div class=\"alert alert-block alert-info\">\n",
    "Realice lo indicado y si ya puedo concluir que todos los productos con datos ausentes en la columna 'add_to_cart_order' si tienen mas de 64 productos"
   ]
  },
  {
   "cell_type": "markdown",
   "id": "a1081051",
   "metadata": {},
   "source": [
    "<div class=\"alert alert-block alert-success\">\n",
    "<b>Comentario del revisor (2da Iteracion)</b> <a class=“tocSkip”></a>\n",
    "\n",
    "Muy bien! Ahora cómo puedes observar la forma en la que aplicas los filtros es súper importante ya que puede darte un resultado diferente y llevarte a conclusiones erroneas\n",
    "</div>"
   ]
  },
  {
   "cell_type": "markdown",
   "id": "p9V6pddtjglj",
   "metadata": {
    "id": "p9V6pddtjglj"
   },
   "source": [
    "Describe brevemente cuáles son tus hallazgos."
   ]
  },
  {
   "cell_type": "markdown",
   "id": "981cffd9",
   "metadata": {},
   "source": [
    "De lo que se analiza no podemos asumir que los valores ausentes sean para pedidos con mas de 64 productos, tenemos que seguir analizando."
   ]
  },
  {
   "cell_type": "code",
   "execution_count": 76,
   "id": "7a987d08",
   "metadata": {
    "id": "7a987d08"
   },
   "outputs": [
    {
     "name": "stdout",
     "output_type": "stream",
     "text": [
      "<class 'pandas.core.frame.DataFrame'>\n",
      "RangeIndex: 4545007 entries, 0 to 4545006\n",
      "Data columns (total 4 columns):\n",
      " #   Column             Non-Null Count    Dtype\n",
      "---  ------             --------------    -----\n",
      " 0   order_id           4545007 non-null  int64\n",
      " 1   product_id         4545007 non-null  int64\n",
      " 2   add_to_cart_order  4545007 non-null  int64\n",
      " 3   reordered          4545007 non-null  int64\n",
      "dtypes: int64(4)\n",
      "memory usage: 138.7 MB\n",
      "None\n"
     ]
    }
   ],
   "source": [
    "# Remplaza los valores ausentes en la columna 'add_to_cart? con 999 y convierte la columna al tipo entero.\n",
    "df_ord_products['add_to_cart_order'] = df_ord_products['add_to_cart_order'].fillna('999').astype(int)\n",
    "print(df_ord_products.info(show_counts=True))\n"
   ]
  },
  {
   "cell_type": "markdown",
   "id": "fea4bcc7",
   "metadata": {
    "id": "fea4bcc7"
   },
   "source": [
    "Describe brevemente tus hallazgos y lo que hiciste con ellos."
   ]
  },
  {
   "cell_type": "markdown",
   "id": "3a9e466c",
   "metadata": {},
   "source": [
    "Se rellenaron los datos ausentes de la columna 'add_to_cart_order' a 999 y se cambio el tipo de datos de float a entero"
   ]
  },
  {
   "cell_type": "markdown",
   "id": "RnplPFY1gSrb",
   "metadata": {
    "id": "RnplPFY1gSrb"
   },
   "source": [
    "## Conclusiones\n",
    "\n",
    "Escribe aquí tus conclusiones intermedias sobre el Paso 2. Preprocesamiento de los datos\n"
   ]
  },
  {
   "cell_type": "markdown",
   "id": "94d3759d-7713-448a-b1e7-5db0079095a3",
   "metadata": {},
   "source": [
    "En este segundo paso se revisaron uno por uno cada Dataframe, se limpiaron, eliminando duplicados, revisando los datos ausentes y sustituyendolos por otro valor. Se usaron los metodos info() duplicated() isna() fillna() y realizando diferentes filtrados para comparar datos y así poder tomar decisiones de eliminación o sustitución de datos."
   ]
  },
  {
   "cell_type": "markdown",
   "id": "UjrOIwTcz3ri",
   "metadata": {
    "id": "UjrOIwTcz3ri"
   },
   "source": [
    "# Paso 3. Análisis de los datos\n",
    "\n",
    "Una vez los datos estén procesados y listos, haz el siguiente análisis:"
   ]
  },
  {
   "cell_type": "markdown",
   "id": "turkish-kidney",
   "metadata": {
    "id": "turkish-kidney"
   },
   "source": [
    "# [A] Fácil (deben completarse todos para aprobar)\n",
    "\n",
    "1. Verifica que los valores en las columnas `'order_hour_of_day'` y `'order_dow'` en la tabla orders sean razonables (es decir, `'order_hour_of_day'` oscile entre 0 y 23 y `'order_dow'` oscile entre 0 y 6).\n",
    "2. Crea un gráfico que muestre el número de personas que hacen pedidos dependiendo de la hora del día.\n",
    "3. Crea un gráfico que muestre qué día de la semana la gente hace sus compras.\n",
    "4. Crea un gráfico que muestre el tiempo que la gente espera hasta hacer su siguiente pedido, y comenta sobre los valores mínimos y máximos."
   ]
  },
  {
   "cell_type": "markdown",
   "id": "short-capability",
   "metadata": {
    "id": "short-capability"
   },
   "source": [
    "### [A1] Verifica que los valores sean sensibles"
   ]
  },
  {
   "cell_type": "code",
   "execution_count": 77,
   "id": "growing-fruit",
   "metadata": {
    "id": "growing-fruit"
   },
   "outputs": [
    {
     "name": "stdout",
     "output_type": "stream",
     "text": [
      "0\n",
      "23\n"
     ]
    }
   ],
   "source": [
    "print(df_orders['order_hour_of_day'].min())\n",
    "print(df_orders['order_hour_of_day'].max())"
   ]
  },
  {
   "cell_type": "code",
   "execution_count": 78,
   "id": "accessory-malaysia",
   "metadata": {
    "id": "accessory-malaysia"
   },
   "outputs": [
    {
     "name": "stdout",
     "output_type": "stream",
     "text": [
      "0\n",
      "6\n"
     ]
    }
   ],
   "source": [
    "print(df_orders['order_dow'].min())\n",
    "print(df_orders['order_dow'].max())"
   ]
  },
  {
   "cell_type": "markdown",
   "id": "hmR2GNQ6lCsX",
   "metadata": {
    "id": "hmR2GNQ6lCsX"
   },
   "source": [
    "Escribe aquí tus conclusiones"
   ]
  },
  {
   "cell_type": "markdown",
   "id": "bfa2c3fc-7773-458c-901d-6c7160f60b20",
   "metadata": {},
   "source": [
    "Se verificó que las horas del día no se hubieran registrado incorrectamente, al igual que los días de la semana, asegurandonos así que los datos son correctos y se pueden trabajar con ellos."
   ]
  },
  {
   "cell_type": "markdown",
   "id": "a6743a70",
   "metadata": {
    "id": "a6743a70"
   },
   "source": [
    "### [A2] Para cada hora del día, ¿cuántas personas hacen órdenes?"
   ]
  },
  {
   "cell_type": "code",
   "execution_count": 79,
   "id": "a36cca27",
   "metadata": {
    "id": "a36cca27"
   },
   "outputs": [
    {
     "data": {
      "image/png": "[encoded data removed]",
      "text/plain": [
       "<Figure size 640x480 with 1 Axes>"
      ]
     },
     "metadata": {},
     "output_type": "display_data"
    }
   ],
   "source": [
    "usuarios_por_hora = df_orders.groupby('order_hour_of_day')['user_id'].nunique()\n",
    "\n",
    "usuarios_por_hora.plot(xlabel= 'Hora del día', ylabel= 'número de personas', title= 'Número de personas que hacen pedidos por hora del día', grid= True)\n",
    "plt.show()\n"
   ]
  },
  {
   "cell_type": "markdown",
   "id": "11270eed",
   "metadata": {
    "id": "11270eed"
   },
   "source": [
    "Escribe aquí tus conclusiones"
   ]
  },
  {
   "cell_type": "markdown",
   "id": "2e3d56e0-2ad3-4fc2-bb38-03b017baa9df",
   "metadata": {},
   "source": [
    "Podemos apreciar que las personas suelen hacer más pedidos entre las 10 am a las 3 pm."
   ]
  },
  {
   "cell_type": "markdown",
   "id": "6f894f8f-fec1-4abe-81f5-95cb43175531",
   "metadata": {},
   "source": [
    "<div class=\"alert alert-block alert-danger\">\n",
    "<b>Comentario del revisor (1ra Iteracion)</b> <a class=“tocSkip”></a>\n",
    "\n",
    "Al usar `nunique()` descartas usuarios que realicen más de una órden por día\n",
    "</div>"
   ]
  },
  {
   "cell_type": "markdown",
   "id": "a3d630dd-166f-43cc-9727-58d6edf73448",
   "metadata": {},
   "source": [
    "<div class=\"alert alert-block alert-info\">\n",
    "    Trato de sacarlo de otra forma sin usar nunique()"
   ]
  },
  {
   "cell_type": "code",
   "execution_count": 80,
   "id": "5ced661e-683b-4018-9e42-001eec3a16d0",
   "metadata": {},
   "outputs": [
    {
     "data": {
      "image/png": "[encoded data removed]",
      "text/plain": [
       "<Figure size 640x480 with 1 Axes>"
      ]
     },
     "metadata": {},
     "output_type": "display_data"
    }
   ],
   "source": [
    "u_por_hora = df_orders.groupby('order_hour_of_day')['user_id'].count()\n",
    "\n",
    "u_por_hora.plot(xlabel= 'Hora del día', ylabel= 'número de personas', title= 'Número de personas que hacen pedidos por hora del día', grid= True)\n",
    "plt.show()"
   ]
  },
  {
   "cell_type": "markdown",
   "id": "94b64b14",
   "metadata": {},
   "source": [
    "<div class=\"alert alert-block alert-danger\">\n",
    "<b>Comentario del revisor (2da Iteracion)</b> <a class=“tocSkip”></a>\n",
    "\n",
    "No deberías hacer una agrupación. Lo que deberías hacer aquí es aplicar `value_counts` sobre la columna `order_hourt_of_day` y un `sort_index` luego de eso. Eso lo graficas en barras ya que es lo más óptimo para comparar, los gráficos de líneas se usan más en comparaciones de datos temporales para identificar tendencas\n",
    "</div>"
   ]
  },
  {
   "cell_type": "markdown",
   "id": "b9d7f7e2",
   "metadata": {},
   "source": [
    "<div class=\"alert alert-block alert-info\">\n",
    "    lo ejecuto:"
   ]
  },
  {
   "cell_type": "code",
   "execution_count": 81,
   "id": "92b4ed13",
   "metadata": {},
   "outputs": [
    {
     "data": {
      "image/png": "[encoded data removed]",
      "text/plain": [
       "<Figure size 640x480 with 1 Axes>"
      ]
     },
     "metadata": {},
     "output_type": "display_data"
    }
   ],
   "source": [
    "u_por_hora = df_orders['order_hour_of_day'].value_counts().sort_index()\n",
    "\n",
    "u_por_hora.plot(kind= 'bar', xlabel= 'Hora del día', ylabel= 'número de personas', title= 'Número de personas que hacen pedidos por hora del día', grid= True)\n",
    "plt.show()"
   ]
  },
  {
   "cell_type": "markdown",
   "id": "2fcbfa6e",
   "metadata": {},
   "source": [
    "<div class=\"alert alert-block alert-warning\">\n",
    "<b>Comentario del revisor (3ra Iteracion)</b> <a class=“tocSkip”></a>\n",
    "\n",
    "Ahora está mucho mejor, no olvides siempre redactar las conclusiones de cada gráfica mostrada\n",
    "</div>"
   ]
  },
  {
   "cell_type": "markdown",
   "id": "documented-command",
   "metadata": {
    "id": "documented-command"
   },
   "source": [
    "### [A3] ¿Qué día de la semana compran víveres las personas?"
   ]
  },
  {
   "cell_type": "code",
   "execution_count": 82,
   "id": "5ebcb956-bed4-4ecd-bf5d-1ba76c0d8d97",
   "metadata": {},
   "outputs": [],
   "source": [
    "def dow(dia):\n",
    "    if dia == 0:\n",
    "        return 'domingo'\n",
    "    elif dia == 1:\n",
    "        return 'lunes'\n",
    "    elif dia == 2:\n",
    "        return 'martes'\n",
    "    elif dia == 3:\n",
    "        return 'miercoles'\n",
    "    elif dia == 4:\n",
    "        return 'jueves'\n",
    "    elif dia == 5:\n",
    "        return 'viernes'\n",
    "    elif dia == 6:\n",
    "        return 'sábado'\n",
    "\n",
    "df_orders['dow'] = df_orders['order_dow'].apply(dow)\n",
    "\n"
   ]
  },
  {
   "cell_type": "markdown",
   "id": "ea719673-d37d-4849-bd41-1bde4867653e",
   "metadata": {},
   "source": [
    "Realicé esta función para poder cambiar los valores númericos por strings e identificar con nombres los dias de la semana"
   ]
  },
  {
   "cell_type": "code",
   "execution_count": 83,
   "id": "chief-digit",
   "metadata": {
    "id": "chief-digit"
   },
   "outputs": [
    {
     "data": {
      "image/png": "[encoded data removed]",
      "text/plain": [
       "<Figure size 640x480 with 1 Axes>"
      ]
     },
     "metadata": {},
     "output_type": "display_data"
    }
   ],
   "source": [
    "usuarios_order_dow = df_orders.groupby('order_dow')['user_id'].nunique()\n",
    "usuarios_order_dow.plot(xlabel= 'dia de la semana: domingo = 0', ylabel= 'número de personas', title= 'Número de personas que compran por día de la semana', grid= True)\n",
    "\n",
    "plt.show()"
   ]
  },
  {
   "cell_type": "markdown",
   "id": "51a0d525-5336-4be9-8707-ee25560ff72d",
   "metadata": {},
   "source": [
    "<div class=\"alert alert-block alert-danger\">\n",
    "<b>Comentario del revisor (1ra Iteracion)</b> <a class=“tocSkip”></a>\n",
    "\n",
    "Igual que el caso anterior, al utilizar `.unique()` estás descartando que realicen más de una órden\n",
    "</div>"
   ]
  },
  {
   "cell_type": "markdown",
   "id": "983d3b3c-a477-4aa9-9d89-6372c1b64422",
   "metadata": {},
   "source": [
    "<div class=\"alert alert-block alert-info\">\n",
    "    Trato de sacarlo de otra forma sin usar nunique()"
   ]
  },
  {
   "cell_type": "code",
   "execution_count": 84,
   "id": "3dc650d2-c84f-497d-b6ae-afaeef156b33",
   "metadata": {},
   "outputs": [
    {
     "data": {
      "image/png": "[encoded data removed]",
      "text/plain": [
       "<Figure size 640x480 with 1 Axes>"
      ]
     },
     "metadata": {},
     "output_type": "display_data"
    }
   ],
   "source": [
    "u_order_dow = df_orders.groupby('order_dow')['user_id'].count()\n",
    "u_order_dow.plot(xlabel= 'dia de la semana: domingo = 0', ylabel= 'número de personas', title= 'Número de personas que compran por día de la semana', grid= True)\n",
    "\n",
    "plt.show()"
   ]
  },
  {
   "cell_type": "markdown",
   "id": "04f8422f",
   "metadata": {},
   "source": [
    "<div class=\"alert alert-block alert-danger\">\n",
    "<b>Comentario del revisor (2da Iteracion)</b> <a class=“tocSkip”></a>\n",
    "\n",
    "Similar al caso anterior, no deberías aplicar `groupby` sino un `value_counts` sobre `order_dow` ya que lo que interesa es ver la frecuencia de estos días, e igual esto debería mostrarse en una gráfica de barras\n",
    "</div>"
   ]
  },
  {
   "cell_type": "markdown",
   "id": "cb4bf2ed",
   "metadata": {},
   "source": [
    "<div class=\"alert alert-block alert-info\">\n",
    "    lo ejecuto:"
   ]
  },
  {
   "cell_type": "code",
   "execution_count": 85,
   "id": "ec2233d5",
   "metadata": {},
   "outputs": [
    {
     "data": {
      "image/png": "[encoded data removed]",
      "text/plain": [
       "<Figure size 640x480 with 1 Axes>"
      ]
     },
     "metadata": {},
     "output_type": "display_data"
    }
   ],
   "source": [
    "u_order_dow = df_orders['order_dow'].value_counts().sort_index()\n",
    "u_order_dow.plot(kind= 'bar', xlabel= 'dia de la semana: domingo = 0', ylabel= 'número de personas', title= 'Número de personas que compran por día de la semana', grid= True)\n",
    "\n",
    "plt.show()\n"
   ]
  },
  {
   "cell_type": "code",
   "execution_count": 86,
   "id": "3fb023d2-3eb6-4dd9-9118-7ef0e6a61cdc",
   "metadata": {
    "scrolled": true
   },
   "outputs": [
    {
     "data": {
      "image/png": "[encoded data removed]",
      "text/plain": [
       "<Figure size 640x480 with 1 Axes>"
      ]
     },
     "metadata": {},
     "output_type": "display_data"
    }
   ],
   "source": [
    "usuarios_dow = df_orders.groupby('dow')['user_id'].nunique()\n",
    "usuarios_dow.plot(xlabel= 'dia de la semana', ylabel= 'número de personas', title= 'Número de personas que compran por día de la semana', grid= True)\n",
    "plt.show()"
   ]
  },
  {
   "cell_type": "markdown",
   "id": "dominant-lightning",
   "metadata": {
    "id": "dominant-lightning"
   },
   "source": [
    "Escribe aquí tus conclusiones"
   ]
  },
  {
   "cell_type": "markdown",
   "id": "4fb22ddb-1521-4684-a7ba-71deeb08bab2",
   "metadata": {},
   "source": [
    "Trate de cambiar los valores numericos por los nombres de la semana, sin embargo, la gráfica acomodo los nombres alfabeticamente y no por orden, por eso deje las dos gráficas, pero el resultado es el mismo, vemos que el domingo y lunes es cuando la gente compra más y va disminuyendo conforme va avanzando la semana."
   ]
  },
  {
   "cell_type": "markdown",
   "id": "02931124",
   "metadata": {},
   "source": [
    "<div class=\"alert alert-block alert-success\">\n",
    "<b>Comentario del revisor (3ra Iteracion)</b> <a class=“tocSkip”></a>\n",
    "\n",
    "Excelente! Ahora si se ve mucho mejor la gráfica y se puede comparar cada punto del eje X\n",
    "</div>"
   ]
  },
  {
   "cell_type": "markdown",
   "id": "cutting-concert",
   "metadata": {
    "id": "cutting-concert"
   },
   "source": [
    "### [A4] ¿Cuánto tiempo esperan las personas hasta hacer otro pedido? Comenta sobre los valores mínimos y máximos."
   ]
  },
  {
   "cell_type": "code",
   "execution_count": 87,
   "id": "c231f523",
   "metadata": {
    "id": "c231f523"
   },
   "outputs": [
    {
     "name": "stdout",
     "output_type": "stream",
     "text": [
      "0.0\n",
      "30.0\n"
     ]
    },
    {
     "data": {
      "image/png": "[encoded data removed]",
      "text/plain": [
       "<Figure size 640x480 with 1 Axes>"
      ]
     },
     "metadata": {},
     "output_type": "display_data"
    }
   ],
   "source": [
    "print(df_orders['days_since_prior_order'].min())\n",
    "print(df_orders['days_since_prior_order'].max())\n",
    "\n",
    "\n",
    "df_orders['days_since_prior_order'].plot(kind='hist', title= 'Tiempo para hacer otro pedido')\n",
    "plt.xlabel('Días')\n",
    "plt.show()"
   ]
  },
  {
   "cell_type": "markdown",
   "id": "discrete-vertex",
   "metadata": {
    "id": "discrete-vertex"
   },
   "source": [
    "Escribe aquí tus conclusiones"
   ]
  },
  {
   "cell_type": "markdown",
   "id": "1ea456f5-48e7-490f-bd5f-32d55541b734",
   "metadata": {},
   "source": [
    "Decidí mostrar un histograma porque solo es una variable que queremos ver, y saber cual es el tiempo que tarda la gente en hacer otro pedido, dónde podemos analizar que la media de las personas realiza un pedido antes de 9 días, dentro de un rango de 0 días a 30 días.  "
   ]
  },
  {
   "cell_type": "markdown",
   "id": "tight-staff",
   "metadata": {
    "id": "tight-staff"
   },
   "source": [
    "# [B] Intermedio (deben completarse todos para aprobar)\n",
    "\n",
    "1. ¿Existe alguna diferencia entre las distribuciones `'order_hour_of_day'` de los miércoles y los sábados? Traza gráficos de barra de `'order_hour_of_day'` para ambos días en la misma figura y describe las diferencias que observes.\n",
    "2. Grafica la distribución para el número de órdenes que hacen los clientes (es decir, cuántos clientes hicieron solo 1 pedido, cuántos hicieron 2, cuántos 3, y así sucesivamente...).\n",
    "3. ¿Cuáles son los 20 principales productos que se piden con más frecuencia (muestra su identificación y nombre)?"
   ]
  },
  {
   "cell_type": "markdown",
   "id": "packed-classic",
   "metadata": {
    "id": "packed-classic"
   },
   "source": [
    "### [B1] Diferencia entre miércoles y sábados para  `'order_hour_of_day'`. Traza gráficos de barra para los dos días y describe las diferencias que veas."
   ]
  },
  {
   "cell_type": "code",
   "execution_count": 88,
   "id": "d89b8403",
   "metadata": {
    "id": "d89b8403"
   },
   "outputs": [
    {
     "data": {
      "image/png": "[encoded data removed]",
      "text/plain": [
       "<Figure size 640x480 with 1 Axes>"
      ]
     },
     "metadata": {},
     "output_type": "display_data"
    }
   ],
   "source": [
    "df_orders[df_orders['order_dow']==3]['order_hour_of_day'].plot(kind='hist', bins=30)\n",
    "df_orders[df_orders['order_dow']==6]['order_hour_of_day'].plot(kind='hist', bins=30, alpha= 0.5)\n",
    "plt.legend(['miércoles', 'sábado'])\n",
    "plt.xlabel('Horas')\n",
    "plt.show()"
   ]
  },
  {
   "cell_type": "markdown",
   "id": "charitable-congo",
   "metadata": {
    "id": "charitable-congo"
   },
   "source": [
    "Escribe aquí tus conclusiones"
   ]
  },
  {
   "cell_type": "markdown",
   "id": "b254eae4-2f91-44c7-a837-b3c67ec5a906",
   "metadata": {},
   "source": [
    "La distribución de los días miercóles y sábado es muy similar, teniendo un poco más de pedidos los sábados"
   ]
  },
  {
   "cell_type": "markdown",
   "id": "4964db82-3e9e-468c-8e12-44235c381ad4",
   "metadata": {},
   "source": [
    "<div class=\"alert alert-block alert-danger\">\n",
    "<b>Comentario del revisor (1ra Iteracion)</b> <a class=“tocSkip”></a>\n",
    "\n",
    "Cómo menciona el enunciado esto debería ser un gráfico de barras y no un histograma\n",
    "</div>"
   ]
  },
  {
   "cell_type": "markdown",
   "id": "357ce7b0-ea06-48f5-bc8e-0d02f316494a",
   "metadata": {},
   "source": [
    "<div class=\"alert alert-block alert-info\">\n",
    "En la descripción del proyecto que aparece del lado izquierdo para este punto dice lo siguiente: \"Traza los histogramas de ambos días en el mismo gráfico y describe las diferencias que observes.\" ¿Entonces, a quien le hago caso? Aqui dice 'traza gráficos de barras' pero entonces tampoco especifica si los quieren en el mismo gráfico. Se vuelve un poco confuso si no se llegan a proporcionar instrucciones claras. A continuación grafico en barras en el mismo gráfico para comparar."
   ]
  },
  {
   "cell_type": "code",
   "execution_count": 89,
   "id": "97ff8fc6-0a5f-49ea-9fe4-821b6f2198e0",
   "metadata": {},
   "outputs": [
    {
     "data": {
      "image/png": "[encoded data removed]",
      "text/plain": [
       "<Figure size 640x480 with 1 Axes>"
      ]
     },
     "metadata": {},
     "output_type": "display_data"
    }
   ],
   "source": [
    "miercoles = df_orders[df_orders['order_dow']==3]\n",
    "sabado = df_orders[df_orders['order_dow']==6]\n",
    "horas_miercoles = miercoles['order_hour_of_day'].value_counts().sort_index()\n",
    "horas_sabado = sabado['order_hour_of_day'].value_counts().sort_index()\n",
    "\n",
    "horas = range(24)\n",
    "valores_miercoles = [horas_miercoles.get(h, 0) for h in horas] \n",
    "valores_sabado = [horas_sabado.get(h, 0) for h in horas] \n",
    "import numpy as np\n",
    "x = np.arange(len(horas))\n",
    "ancho = 0.4\n",
    "plt.bar(x - ancho/2, valores_miercoles, width=ancho, label= 'miercoles')\n",
    "plt.bar(x + ancho/2, valores_sabado, width=ancho, label= 'sábado')\n",
    "plt.xlabel('Hora del día')\n",
    "plt.ylabel('Cantidad de pedidos')\n",
    "plt.title('Pedidos por hora (Miercoles vs Sabado)')\n",
    "plt.xticks(x, horas)\n",
    "plt.legend()\n",
    "plt.grid(True, alpha=0.5)\n",
    "plt.show()\n"
   ]
  },
  {
   "cell_type": "markdown",
   "id": "832679e2",
   "metadata": {},
   "source": [
    "<div class=\"alert alert-block alert-success\">\n",
    "<b>Comentario del revisor (2da Iteracion)</b> <a class=“tocSkip”></a>\n",
    "\n",
    "Los histogramas se utilizar más para analizar una distribución de una misma variable, sería aquí mejor un gráfico de barras ya que lo que queremos es comparar cada hora y no ver la distribución en sí de la variable, si ves la gráfica es mucho más sencillo comparar por cada hora que en un histograma\n",
    "</div>"
   ]
  },
  {
   "cell_type": "markdown",
   "id": "e3891143",
   "metadata": {
    "id": "e3891143"
   },
   "source": [
    "### [B2] ¿Cuál es la distribución para el número de pedidos por cliente?"
   ]
  },
  {
   "cell_type": "code",
   "execution_count": 90,
   "id": "d8c26c23",
   "metadata": {
    "id": "d8c26c23"
   },
   "outputs": [
    {
     "data": {
      "image/png": "[encoded data removed]",
      "text/plain": [
       "<Figure size 640x480 with 1 Axes>"
      ]
     },
     "metadata": {},
     "output_type": "display_data"
    }
   ],
   "source": [
    "pedidos_por_usuario = df_orders.groupby('order_number')['user_id'].nunique()\n",
    "\n",
    "pedidos_por_usuario.plot(xlabel= 'número de pedidos', ylabel= 'usuarios', title= 'Distribución de número de pedidos por cliente', grid=True)\n",
    "plt.show()\n"
   ]
  },
  {
   "cell_type": "markdown",
   "id": "d2eff7d5",
   "metadata": {
    "id": "d2eff7d5"
   },
   "source": [
    "Escribe aquí tus conclusiones"
   ]
  },
  {
   "cell_type": "markdown",
   "id": "cb92bff9-e9f8-4e2d-ae5a-c2fb9ab14e07",
   "metadata": {},
   "source": [
    "Con la gráfica podemos ver que son pocos los clientes que regresan a hacer más pedidos, parece ser que empiezan a hacer pedidos, pero conforme pasa el tiempo dejan de hacerlos y son muy pocos los clientes que son fieles."
   ]
  },
  {
   "cell_type": "markdown",
   "id": "54a0319c",
   "metadata": {
    "id": "54a0319c"
   },
   "source": [
    "### [B3] ¿Cuáles son los 20 productos más populares (muestra su ID y nombre)?"
   ]
  },
  {
   "cell_type": "code",
   "execution_count": 91,
   "id": "exterior-arizona",
   "metadata": {
    "id": "exterior-arizona",
    "scrolled": true
   },
   "outputs": [
    {
     "name": "stdout",
     "output_type": "stream",
     "text": [
      "   order_id  product_id  add_to_cart_order  reordered  \\\n",
      "0   2141543       11440                 17          0   \n",
      "1    147172       11440                  7          1   \n",
      "2   3341719       11440                  4          1   \n",
      "3   1938779       11440                  8          1   \n",
      "4   1728338       11440                 23          0   \n",
      "\n",
      "                     product_name  aisle_id  department_id  \n",
      "0  CHICKEN BREAST TENDERS BREADED       129              1  \n",
      "1  CHICKEN BREAST TENDERS BREADED       129              1  \n",
      "2  CHICKEN BREAST TENDERS BREADED       129              1  \n",
      "3  CHICKEN BREAST TENDERS BREADED       129              1  \n",
      "4  CHICKEN BREAST TENDERS BREADED       129              1  \n"
     ]
    }
   ],
   "source": [
    "df_merged_products = df_ord_products.merge(df_products, on='product_id')\n",
    "\n",
    "print(df_merged_products.head())"
   ]
  },
  {
   "cell_type": "code",
   "execution_count": 92,
   "id": "universal-facial",
   "metadata": {
    "id": "universal-facial"
   },
   "outputs": [
    {
     "name": "stdout",
     "output_type": "stream",
     "text": [
      "product_id  product_name            \n",
      "24852       BANANA                      66050\n",
      "13176       BAG OF ORGANIC BANANAS      53297\n",
      "21137       ORGANIC STRAWBERRIES        37039\n",
      "21903       ORGANIC BABY SPINACH        33971\n",
      "47209       ORGANIC HASS AVOCADO        29773\n",
      "47766       ORGANIC AVOCADO             24689\n",
      "47626       LARGE LEMON                 21495\n",
      "16797       STRAWBERRIES                20018\n",
      "26209       LIMES                       19690\n",
      "27845       ORGANIC WHOLE MILK          19600\n",
      "27966       ORGANIC RASPBERRIES         19197\n",
      "22935       ORGANIC YELLOW ONION        15898\n",
      "24964       ORGANIC GARLIC              15292\n",
      "45007       ORGANIC ZUCCHINI            14584\n",
      "39275       ORGANIC BLUEBERRIES         13879\n",
      "49683       CUCUMBER KIRBY              13675\n",
      "28204       ORGANIC FUJI APPLE          12544\n",
      "5876        ORGANIC LEMON               12232\n",
      "8277        APPLE HONEYCRISP ORGANIC    11993\n",
      "40706       ORGANIC GRAPE TOMATOES      11781\n",
      "dtype: int64\n"
     ]
    }
   ],
   "source": [
    "top_products = df_merged_products.groupby(['product_id', 'product_name']).size().sort_values(ascending=False)\n",
    "print(top_products.head(20))"
   ]
  },
  {
   "cell_type": "markdown",
   "id": "7df00f47",
   "metadata": {
    "id": "7df00f47"
   },
   "source": [
    "Escribe aquí tus conclusiones"
   ]
  },
  {
   "cell_type": "markdown",
   "id": "282aad1c-138b-4a3a-8a1c-648f73a6b787",
   "metadata": {},
   "source": [
    "Lo que hice fue unir dos dataframes el que contiene las ordenes con un número de identificación del producto y el dataframe que contiene el nombre de ese número que lo identifica, luego se filtro tanto por su número de identificación como por su nombre obteniendo un valor de cuantas veces aparece en cada combinación, así se pudieron obtener los 20 productos más pedidos. \n",
    "\n",
    "Podemos ver que el producto que más se pide es el plátano."
   ]
  },
  {
   "cell_type": "markdown",
   "id": "742862f3-26c8-4941-a861-994829576228",
   "metadata": {},
   "source": [
    "<div class=\"alert alert-block alert-warning\">\n",
    "<b>Comentario del revisor (1ra Iteracion)</b> <a class=“tocSkip”></a>\n",
    "\n",
    "Cuando tengas este tipo de resultados siempre puedes complementarlos con gráficas para que el análisis sea más visual\n",
    "</div>"
   ]
  },
  {
   "cell_type": "markdown",
   "id": "6cf3ab67-0229-439d-9241-58cad3f4ee53",
   "metadata": {},
   "source": [
    "<div class=\"alert alert-block alert-info\">\n",
    "Entiendo y es un buen consejo, y si no lo hice fue porque no se pedía. La grafico enseguida:"
   ]
  },
  {
   "cell_type": "code",
   "execution_count": 93,
   "id": "2c9eaa2f-b4c5-413e-8a97-d92703e765e7",
   "metadata": {},
   "outputs": [
    {
     "data": {
      "image/png": "[encoded data removed]",
      "text/plain": [
       "<Figure size 640x480 with 1 Axes>"
      ]
     },
     "metadata": {},
     "output_type": "display_data"
    }
   ],
   "source": [
    "top_products_df = top_products.reset_index(name= 'total_pedidos')\n",
    "top_p =(top_products_df.head(20))\n",
    "top_p.plot(x='product_name', y= 'total_pedidos', xlabel= 'Productos', ylabel='Pedidos', rot= 45, title= 'Total de pedidos de los 20 producto mas pedidos')\n",
    "plt.show()"
   ]
  },
  {
   "cell_type": "markdown",
   "id": "c4937004",
   "metadata": {},
   "source": [
    "<div class=\"alert alert-block alert-warning\">\n",
    "<b>Comentario del revisor (2da Iteracion)</b> <a class=“tocSkip”></a>\n",
    "\n",
    "Mismo consejo que los casos anteriores, cuando sea comparación entre cada punto lo mejor es mostrar gráficas de barras que líneas. Líneas es más para identificar tendencias\n",
    "</div>"
   ]
  },
  {
   "cell_type": "markdown",
   "id": "a7c573e5",
   "metadata": {},
   "source": [
    "<div class=\"alert alert-block alert-info\">\n",
    "lo hago con barras:"
   ]
  },
  {
   "cell_type": "code",
   "execution_count": 95,
   "id": "41d94c73",
   "metadata": {},
   "outputs": [
    {
     "data": {
      "image/png": "[encoded data removed]",
      "text/plain": [
       "<Figure size 640x480 with 1 Axes>"
      ]
     },
     "metadata": {},
     "output_type": "display_data"
    }
   ],
   "source": [
    "top_products_df = top_products.reset_index(name= 'total_pedidos')\n",
    "top_p =(top_products_df.head(20))\n",
    "top_p.plot(kind='bar', x='product_name', y= 'total_pedidos', xlabel= 'Productos', ylabel='Pedidos', title= 'Total de pedidos de los 20 producto mas pedidos')\n",
    "plt.show()"
   ]
  },
  {
   "cell_type": "markdown",
   "id": "gross-theme",
   "metadata": {
    "id": "gross-theme"
   },
   "source": [
    "# [C] Difícil (deben completarse todos para aprobar)\n",
    "\n",
    "1. ¿Cuántos artículos suelen comprar las personas en un pedido? ¿Cómo es la distribución?\n",
    "2. ¿Cuáles son los 20 principales artículos que vuelven a pedirse con mayor frecuencia (muestra sus nombres e IDs de los productos)?\n",
    "3. Para cada producto, ¿cuál es la tasa de repetición del pedido (número de repeticiones de pedido/total de pedidos?\n",
    "4. Para cada cliente, ¿qué proporción de los productos que pidió ya los había pedido? Calcula la tasa de repetición de pedido para cada usuario en lugar de para cada producto.\n",
    "5. ¿Cuáles son los 20 principales artículos que la gente pone primero en sus carritos (muestra las IDs de los productos, sus nombres, y el número de veces en que fueron el primer artículo en añadirse al carrito)?"
   ]
  },
  {
   "cell_type": "markdown",
   "id": "romantic-deposit",
   "metadata": {
    "id": "romantic-deposit"
   },
   "source": [
    "### [C1] ¿Cuántos artículos compran normalmente las personas en un pedido? ¿Cómo es la distribución?"
   ]
  },
  {
   "cell_type": "code",
   "execution_count": 46,
   "id": "virtual-punch",
   "metadata": {
    "id": "virtual-punch"
   },
   "outputs": [
    {
     "name": "stdout",
     "output_type": "stream",
     "text": [
      "El promedio de articulos vendidos por pedido: 10\n"
     ]
    }
   ],
   "source": [
    "\n",
    "articulos_por_pedidos = df_merged_products.groupby('order_id')['product_id'].nunique()\n",
    "print('El promedio de articulos vendidos por pedido:',articulos_por_pedidos.mean().astype('int'))"
   ]
  },
  {
   "cell_type": "code",
   "execution_count": 47,
   "id": "sensitive-breathing",
   "metadata": {
    "id": "sensitive-breathing"
   },
   "outputs": [
    {
     "name": "stdout",
     "output_type": "stream",
     "text": [
      "count    450046.000000\n",
      "mean         10.098983\n",
      "std           7.540206\n",
      "min           1.000000\n",
      "25%           5.000000\n",
      "50%           8.000000\n",
      "75%          14.000000\n",
      "max         127.000000\n",
      "Name: product_id, dtype: float64\n"
     ]
    }
   ],
   "source": [
    "print(articulos_por_pedidos.describe())"
   ]
  },
  {
   "cell_type": "code",
   "execution_count": 48,
   "id": "completed-frank",
   "metadata": {
    "id": "completed-frank"
   },
   "outputs": [
    {
     "data": {
      "image/png": "[encoded data removed]",
      "text/plain": [
       "<Figure size 640x480 with 1 Axes>"
      ]
     },
     "metadata": {},
     "output_type": "display_data"
    }
   ],
   "source": [
    "articulos_por_pedidos.plot(kind='hist', bins= 30, title='Distribución de artículos por pedido')\n",
    "plt.xlabel('Número de artículos')\n",
    "plt.ylabel('Frecuencia de pedidos')\n",
    "plt.show()\n"
   ]
  },
  {
   "cell_type": "markdown",
   "id": "designed-mortality",
   "metadata": {
    "id": "designed-mortality"
   },
   "source": [
    "Escribe aquí tus conclusiones"
   ]
  },
  {
   "cell_type": "markdown",
   "id": "0c178a61-c0b5-4e58-a0c4-cbed1cf470b6",
   "metadata": {},
   "source": [
    "Observamos que el promedio de productos por pedido son 10 productos y al ver la distribución de los pedidos, podemos ver que la mayoría de las personas realizan pedidos de menos de 15 productos y son pocos los pedidos que tienen más de 20 productos o mas."
   ]
  },
  {
   "cell_type": "markdown",
   "id": "5e6b5537",
   "metadata": {
    "id": "5e6b5537"
   },
   "source": [
    "### [C2] ¿Cuáles son los 20 principales artículos que vuelven a pedirse con mayor frecuencia (muestra sus nombres e IDs de los productos)?"
   ]
  },
  {
   "cell_type": "code",
   "execution_count": 49,
   "id": "9374e55a",
   "metadata": {
    "id": "9374e55a"
   },
   "outputs": [],
   "source": [
    "products_reorder = df_merged_products[df_merged_products['reordered'] == 1]\n"
   ]
  },
  {
   "cell_type": "code",
   "execution_count": 50,
   "id": "possible-change",
   "metadata": {
    "id": "possible-change",
    "scrolled": true
   },
   "outputs": [
    {
     "name": "stdout",
     "output_type": "stream",
     "text": [
      "product_id  product_name            \n",
      "24852       BANANA                      55763\n",
      "13176       BAG OF ORGANIC BANANAS      44450\n",
      "21137       ORGANIC STRAWBERRIES        28639\n",
      "21903       ORGANIC BABY SPINACH        26233\n",
      "47209       ORGANIC HASS AVOCADO        23629\n",
      "47766       ORGANIC AVOCADO             18743\n",
      "27845       ORGANIC WHOLE MILK          16251\n",
      "47626       LARGE LEMON                 15044\n",
      "27966       ORGANIC RASPBERRIES         14748\n",
      "16797       STRAWBERRIES                13945\n",
      "26209       LIMES                       13327\n",
      "22935       ORGANIC YELLOW ONION        11145\n",
      "24964       ORGANIC GARLIC              10411\n",
      "45007       ORGANIC ZUCCHINI            10076\n",
      "49683       CUCUMBER KIRBY               9538\n",
      "28204       ORGANIC FUJI APPLE           8989\n",
      "8277        APPLE HONEYCRISP ORGANIC     8836\n",
      "39275       ORGANIC BLUEBERRIES          8799\n",
      "5876        ORGANIC LEMON                8412\n",
      "49235       ORGANIC HALF & HALF          8389\n",
      "dtype: int64\n"
     ]
    }
   ],
   "source": [
    "top_products_reorder = products_reorder.groupby(['product_id', 'product_name']).size().sort_values(ascending=False)\n",
    "print(top_products_reorder.head(20))\n",
    "\n"
   ]
  },
  {
   "cell_type": "markdown",
   "id": "80e70c74",
   "metadata": {
    "id": "80e70c74"
   },
   "source": [
    "Escribe aquí tus conclusiones"
   ]
  },
  {
   "cell_type": "markdown",
   "id": "6f79334e-4357-48c6-a2fa-353589c28cd9",
   "metadata": {},
   "source": [
    "Podemos ver que el producto que mas e vuelve a pedir es el plátano, y la lista se parece a la lista de los productos más comprados, pero si tiene sus diferencias."
   ]
  },
  {
   "cell_type": "markdown",
   "id": "9d312b14",
   "metadata": {
    "id": "9d312b14"
   },
   "source": [
    "### [C3] Para cada producto, ¿cuál es la proporción de las veces que se pide y que se vuelve a pedir?"
   ]
  },
  {
   "cell_type": "code",
   "execution_count": 51,
   "id": "cd68c94c-5f90-464e-bd7f-7a6c01ccd1d8",
   "metadata": {
    "id": "8ae9f4b1"
   },
   "outputs": [
    {
     "name": "stdout",
     "output_type": "stream",
     "text": [
      "   product_id            product_name  total_pedidos\n",
      "0       24852                  BANANA          66050\n",
      "1       13176  BAG OF ORGANIC BANANAS          53297\n",
      "2       21137    ORGANIC STRAWBERRIES          37039\n",
      "3       21903    ORGANIC BABY SPINACH          33971\n",
      "4       47209    ORGANIC HASS AVOCADO          29773\n",
      "\n",
      "   product_id            product_name  total_pedidos\n",
      "0       24852                  BANANA          55763\n",
      "1       13176  BAG OF ORGANIC BANANAS          44450\n",
      "2       21137    ORGANIC STRAWBERRIES          28639\n",
      "3       21903    ORGANIC BABY SPINACH          26233\n",
      "4       47209    ORGANIC HASS AVOCADO          23629\n"
     ]
    }
   ],
   "source": [
    "top_products_df = top_products.reset_index(name= 'total_pedidos')\n",
    "print(top_products_df.head())\n",
    "print()\n",
    "top_products_reorder_df = top_products_reorder.reset_index(name= 'total_pedidos')\n",
    "print(top_products_reorder_df.head())"
   ]
  },
  {
   "cell_type": "code",
   "execution_count": 52,
   "id": "103e7fe1",
   "metadata": {
    "id": "103e7fe1"
   },
   "outputs": [
    {
     "name": "stdout",
     "output_type": "stream",
     "text": [
      "   product_id            product_name  total_pedidos  porcentaje\n",
      "0       24852                  BANANA          66050    1.453243\n",
      "1       13176  BAG OF ORGANIC BANANAS          53297    1.172649\n",
      "2       21137    ORGANIC STRAWBERRIES          37039    0.814938\n",
      "3       21903    ORGANIC BABY SPINACH          33971    0.747436\n",
      "4       47209    ORGANIC HASS AVOCADO          29773    0.655070\n",
      "5       47766         ORGANIC AVOCADO          24689    0.543211\n",
      "6       47626             LARGE LEMON          21495    0.472937\n",
      "7       16797            STRAWBERRIES          20018    0.440439\n",
      "8       26209                   LIMES          19690    0.433223\n",
      "9       27845      ORGANIC WHOLE MILK          19600    0.431242\n"
     ]
    }
   ],
   "source": [
    "top_products_df['porcentaje'] = (top_products_df['total_pedidos'] / top_products_df['total_pedidos'].sum())*100\n",
    "print(top_products_df.head(10))\n"
   ]
  },
  {
   "cell_type": "code",
   "execution_count": 53,
   "id": "social-individual",
   "metadata": {
    "id": "social-individual"
   },
   "outputs": [
    {
     "name": "stdout",
     "output_type": "stream",
     "text": [
      "   product_id            product_name  total_pedidos  porcentaje\n",
      "0       24852                  BANANA          55763    2.077733\n",
      "1       13176  BAG OF ORGANIC BANANAS          44450    1.656210\n",
      "2       21137    ORGANIC STRAWBERRIES          28639    1.067091\n",
      "3       21903    ORGANIC BABY SPINACH          26233    0.977443\n",
      "4       47209    ORGANIC HASS AVOCADO          23629    0.880418\n",
      "5       47766         ORGANIC AVOCADO          18743    0.698366\n",
      "6       27845      ORGANIC WHOLE MILK          16251    0.605513\n",
      "7       47626             LARGE LEMON          15044    0.560541\n",
      "8       27966     ORGANIC RASPBERRIES          14748    0.549512\n",
      "9       16797            STRAWBERRIES          13945    0.519592\n"
     ]
    }
   ],
   "source": [
    "top_products_reorder_df['porcentaje'] = (top_products_reorder_df['total_pedidos'] / top_products_reorder_df['total_pedidos'].sum())*100\n",
    "print(top_products_reorder_df.head(10))\n"
   ]
  },
  {
   "cell_type": "markdown",
   "id": "I10dEIAyldcO",
   "metadata": {
    "id": "I10dEIAyldcO"
   },
   "source": [
    "Escribe aquí tus conclusiones"
   ]
  },
  {
   "cell_type": "markdown",
   "id": "64b97724-0bef-49c6-8bd2-089add8bdc92",
   "metadata": {},
   "source": [
    "Se crearon dos tablas, una para mostrar el porcentaje de las veces que se pide el producto y la segunda para mostrar el porcentaje de las veces que se vuelve a pedir"
   ]
  },
  {
   "cell_type": "markdown",
   "id": "subject-boxing",
   "metadata": {
    "id": "subject-boxing"
   },
   "source": [
    "### [C4] Para cada cliente, ¿qué proporción de sus productos ya los había pedido?"
   ]
  },
  {
   "cell_type": "code",
   "execution_count": 54,
   "id": "medical-couple",
   "metadata": {
    "id": "medical-couple",
    "scrolled": true
   },
   "outputs": [
    {
     "name": "stdout",
     "output_type": "stream",
     "text": [
      "   order_id  user_id  order_number  order_dow  order_hour_of_day  \\\n",
      "0   1515936   183418            11          6                 13   \n",
      "1   1515936   183418            11          6                 13   \n",
      "2   1515936   183418            11          6                 13   \n",
      "3   1515936   183418            11          6                 13   \n",
      "4   1515936   183418            11          6                 13   \n",
      "\n",
      "   days_since_prior_order     dow  product_id  add_to_cart_order  reordered  \n",
      "0                    30.0  sábado       19048                  1          1  \n",
      "1                    30.0  sábado       47766                  3          1  \n",
      "2                    30.0  sábado       45066                  9          0  \n",
      "3                    30.0  sábado       24082                 11          0  \n",
      "4                    30.0  sábado       24363                  4          0  \n"
     ]
    }
   ],
   "source": [
    "df_merged_orders = df_orders.merge(df_ord_products, on= 'order_id')\n",
    "print(df_merged_orders.head())\n"
   ]
  },
  {
   "cell_type": "code",
   "execution_count": 55,
   "id": "8892e4b4",
   "metadata": {
    "id": "8892e4b4"
   },
   "outputs": [
    {
     "name": "stdout",
     "output_type": "stream",
     "text": [
      "        user_id  porcentaje_productos\n",
      "0             2              3.846154\n",
      "1             4              0.000000\n",
      "2             5             66.666667\n",
      "3             6              0.000000\n",
      "4             7             92.857143\n",
      "...         ...                   ...\n",
      "149621   206203             22.222222\n",
      "149622   206206             71.428571\n",
      "149623   206207             89.130435\n",
      "149624   206208             69.600000\n",
      "149625   206209             32.000000\n",
      "\n",
      "[149626 rows x 2 columns]\n"
     ]
    }
   ],
   "source": [
    "por_usuario = df_merged_orders.groupby('user_id')['reordered'].sum()\n",
    "total_productos_usuario = df_merged_orders.groupby('user_id')['product_id'].count()\n",
    "proporcion_productos = (por_usuario / total_productos_usuario)*100\n",
    "porcentaje_productos = proporcion_productos.reset_index(name= 'porcentaje_productos')\n",
    "print(porcentaje_productos)"
   ]
  },
  {
   "cell_type": "markdown",
   "id": "BgJSvXDsleXz",
   "metadata": {
    "id": "BgJSvXDsleXz"
   },
   "source": [
    "Escribe aquí tus conclusiones"
   ]
  },
  {
   "cell_type": "markdown",
   "id": "917514e5-6c96-4b8d-a9ed-328073f6ffcb",
   "metadata": {},
   "source": [
    "Hemos obtenido por cada cliente el porcentaje de los productos que vuelve a ordenar. De esta manera podemos ver que tanto de su pedido es igual al anterior."
   ]
  },
  {
   "cell_type": "markdown",
   "id": "48250768-5294-41db-abfe-8f554d500620",
   "metadata": {},
   "source": [
    "<div class=\"alert alert-block alert-success\">\n",
    "<b>Comentario del revisor (1ra Iteracion)</b> <a class=“tocSkip”></a>\n",
    "\n",
    "Correcto, buen trabajo con el cálculo de las proporciones\n",
    "</div>"
   ]
  },
  {
   "cell_type": "markdown",
   "id": "92d35137",
   "metadata": {
    "id": "92d35137"
   },
   "source": [
    "### [C5] ¿Cuáles son los 20 principales artículos que las personas ponen primero en sus carritos?"
   ]
  },
  {
   "cell_type": "code",
   "execution_count": 56,
   "id": "0ae57274",
   "metadata": {
    "id": "0ae57274",
    "scrolled": true
   },
   "outputs": [
    {
     "name": "stdout",
     "output_type": "stream",
     "text": [
      "    product_id                 product_name  count\n",
      "0        24852                       BANANA  15562\n",
      "1        13176       BAG OF ORGANIC BANANAS  11026\n",
      "2        27845           ORGANIC WHOLE MILK   4363\n",
      "3        21137         ORGANIC STRAWBERRIES   3946\n",
      "4        47209         ORGANIC HASS AVOCADO   3390\n",
      "5        21903         ORGANIC BABY SPINACH   3336\n",
      "6        47766              ORGANIC AVOCADO   3044\n",
      "7        19660                 SPRING WATER   2336\n",
      "8        16797                 STRAWBERRIES   2308\n",
      "9        27966          ORGANIC RASPBERRIES   2024\n",
      "10       44632   SPARKLING WATER GRAPEFRUIT   1914\n",
      "11       49235          ORGANIC HALF & HALF   1797\n",
      "12       47626                  LARGE LEMON   1737\n",
      "13         196                         SODA   1733\n",
      "14       38689     ORGANIC REDUCED FAT MILK   1397\n",
      "15       26209                        LIMES   1370\n",
      "16       12341                HASS AVOCADOS   1340\n",
      "17        5785  ORGANIC REDUCED FAT 2% MILK   1310\n",
      "18       27086                  HALF & HALF   1309\n",
      "19       43352                  RASPBERRIES   1246\n"
     ]
    }
   ],
   "source": [
    "primeros_productos = df_merged_products[df_merged_products['add_to_cart_order'] == 1]\n",
    "conteo_productos = primeros_productos[['product_id', 'product_name']].value_counts()\n",
    "top_20 = conteo_productos.head(20).reset_index()\n",
    "top_20.columns = ['product_id', 'product_name', 'count']\n",
    "\n",
    "print(top_20)"
   ]
  },
  {
   "cell_type": "markdown",
   "id": "28ce9872",
   "metadata": {
    "id": "28ce9872"
   },
   "source": [
    "Escribe aquí tus conclusiones"
   ]
  },
  {
   "cell_type": "markdown",
   "id": "881371c4-f2ad-44e5-ad3b-7acb5f369e10",
   "metadata": {},
   "source": [
    "Al hacer un filtrado de sacar todos los productos que tengan el valor 1 en la columna 'add_to_cart_order' que es el primer artículo que se añadió al carrito, y haciendo un conteo de cuantas personas hicieron lo mismo, obtuvimos un listado de los 20 productos que la gente pone primero en sus pedidos. Siendo así que el producto estrella es el plátano, es el proiducto más pedido y podemos ver que es el primer producto que llegan a ordenar"
   ]
  },
  {
   "cell_type": "markdown",
   "id": "uITbFCEoDosC",
   "metadata": {
    "id": "uITbFCEoDosC"
   },
   "source": [
    "### Conclusion general del proyecto:"
   ]
  },
  {
   "cell_type": "markdown",
   "id": "97de9a00-c540-40ed-aaf0-9778af114899",
   "metadata": {
    "id": "Nk-4GS7mDwqY"
   },
   "source": [
    "La plataforma de Instacart generó varias bases de datos, de los cuales limpiamos, quitamos datos ausentes y duplicados, homologamos el nombre de los productos con mayúsculas, todo esto para que se pudieran trabajar con todos los datos.\n",
    "\n",
    "Estos diferentes dataframes contienen diferente información, sin embargo, hay datos que llegan a coincidir entre ellos que nos ayudaron cuando teniamos que unir algunas de ellas, como el id del producto para saber que tipo de producto es.\n",
    "\n",
    "Con todos estos datos, que son bastantes, se puede sacar muchisima información, y aunque este proyecto estuvo muy completo, aún se puede sacar más información de las órdenes, del comportamiento de los usuarios, de los productos, y ya se pueden tomar mejores decisiones sobre cambios que se quisieran hacer en la aplicación o que productos necesito tener más inventario."
   ]
  },
  {
   "cell_type": "markdown",
   "id": "466d70f5-ca13-4ac3-8922-0ae568a193c6",
   "metadata": {},
   "source": [
    "<div class=\"alert alert-block alert-danger\">\n",
    "<b>Comentario del revisor (1ra Iteracion)</b> <a class=“tocSkip”></a>\n",
    "\n",
    "Las conclusiones deberían ser un poco más detalladas, deberías resumir los hallazgos encontrados en las diferentes gráficas y cálculos realizados\n",
    "</div>"
   ]
  },
  {
   "cell_type": "markdown",
   "id": "4f088848-d206-45f1-927c-87af60f1ca0f",
   "metadata": {},
   "source": [
    "<div class=\"alert alert-block alert-info\">\n",
    "<b>Respuesta del estudiante</b> <a class=“tocSkip”></a>\n",
    "\n",
    "De las diferentes preguntas que se pidió para este proyecto. Se encontraron varios hallazgos, inclusive antes de empezar a trabajar con los datos.\n",
    "\n",
    "Lo primero que se realizó fue una limpieza de datos, este paso se realiza para poder trabajar con los datos, y que no nos vayan a marcar un error o algún resultado falso por no considerar una Mayúsula que puede cambiar el resultado o algún filtro.\n",
    "\n",
    "Al tener 5 bases de datos, los pasos de limpieza se hicieron para cada uno de ellas. \n",
    "Primero se accedieron a las bases de datos, haciendo el primer hallazgo, que fue que el archivo cvs no estaba separado por ',' sino por ';'.\n",
    "En segundo paso, a través del método info() analizamos las columnas, tipo de datos y cuantos valores completos tiene. Aqui ya puedes ver un poco más con que tipo de datos se va a trabajar en el análisis,\n",
    "Posterior a este paso, se revisó la existencia de duplicados y que no fueran duplicados engañosos, y se decidió eliminar estos datos repetidos.\n",
    "\n",
    "Siguiendo con la limpieza, detectamos de cada DataFrame los datos nulos de cada una de sus columnas, por lo que se dio a la tarea de analizar un poco más a que se debían estos valores, o que significaba, decidiendo así, por ejemplo en la base de datos que tenía valores nulos en producto coincidía que eran todos los productos del pasillo 21, por que se decidió reemplazar esos valores nulo por una plabara que dijera 'Unknown'. Otros que coincidian con el primer pedido del cliente, y otros porque eran los pedidos con mas de 64 productos. Sabiendo esta información sustituimos valores y como part de una homologación en la columna del nombre del producto, los cambiamos por mayúsculas y hasta revisamos que los datos utilizado fueran razonables, por ejemplo en la columna de 'order_hour_of_day' que solamente hubiera 24 valores y estos eran del 0 a 23.\n",
    "\n",
    "Ahora si que ya tenemos todos los dataFrames limpios para poder trabajar, empezamos a obtener ahora si los hallazgos que nos solicitan.\n",
    "\n",
    "Se empezó con una gráfica para enseñar el número de personas que hacen pedidos dependiendo la hora del día, sacando con esta visualización la conclusión de que la mayoría de los clientes hacen sus pedidos entre las 10 y las 15 horas, de la misma manera, se hizó otro gráfico que muestre ahora el día de la semana, sacabdo la conclusión de que el día que más se hacen pedidos son los días domingo.\n",
    "\n",
    "Luego se pidió que se graficara el tiempo que espera para hacer el próximo pedido, viendo que la media lo hace en menos de 10 días y que el rango máximo es de 30 días.\n",
    "\n",
    "Se hizo el hallazgo de que el comportamiento de los usuarios de los día sábado y miércoles es muy similar.\n",
    "\n",
    "Posteriormente, se hizo el hallazgo de saber que son pocos los clientes que regresan a hacer más pedidos, parece ser que empiezan a hacer pedidos, pero conforme pasa el tiempo dejan de hacerlos y son muy pocos los clientes que son fieles.\n",
    "\n",
    "También se obtuvo un listado de los 20 productos que más se piden y los que vuelven a pedir, siendo que el plátano es el producto estrella, de hecho, posteriormente también obtuvimos un listado de los productos que ponen primero en su carrito, y volvió a salir como número uno el plátano.\n",
    "\n",
    "Trabajamos con los datos de cada dataFrame, y tuvimos que unir algunos para tener una relación y saber el product_id a que nombre_de_producto corresponde. Con los datos se trabajó para tener los porcentajes de los productos que se piden y vuelven a pedir.\n",
    "\n",
    "Al final con todos estos datos, un ejecutivo de la empresa Instacart, ya puede tomar mejores decisiones, como el mantener un buen stock de plátano, y ver estrategias para que los usuarios sigan pidiendo y no abandonen la plataforma."
   ]
  },
  {
   "cell_type": "markdown",
   "id": "55ae2de8",
   "metadata": {},
   "source": [
    "<div class=\"alert alert-block alert-success\">\n",
    "<b>Comentario general (3ra Iteracion)</b> <a class=“tocSkip”></a>\n",
    "\n",
    "Muy buen trabajo con los últimos cambios! Ahora el proyecto es mucho más completo y estás mostrando las gráficas adecuadas para el caso adecuado, siempre hay que identificar la gráfica correcta para que lo que estamos mostrando se pueda comprender con mejor claridad.\n",
    "\n",
    "Procura llevarte las buenas prácticas de este notebook cómo el separar sección usando títulos markdown, tener un título general del proyecto, pero sobre todo el redactar tus interpretaciones después de cada gráfica o cálculo realizado para que el proceso de análisis sea más claro. Saludos!\n",
    "</div>"
   ]
  }
 ],
 "metadata": {
  "ExecuteTimeLog": [
   {
    "duration": 2149,
    "start_time": "2025-05-11T05:35:18.969Z"
   },
   {
    "duration": 2302,
    "start_time": "2025-05-11T05:41:13.596Z"
   },
   {
    "duration": 21,
    "start_time": "2025-05-11T05:42:47.575Z"
   },
   {
    "duration": 11,
    "start_time": "2025-05-11T05:44:01.068Z"
   },
   {
    "duration": 7,
    "start_time": "2025-05-11T05:45:09.453Z"
   },
   {
    "duration": 8,
    "start_time": "2025-05-11T05:47:08.666Z"
   },
   {
    "duration": 132,
    "start_time": "2025-05-11T05:47:28.601Z"
   },
   {
    "duration": 2,
    "start_time": "2025-05-11T05:53:27.860Z"
   },
   {
    "duration": 924,
    "start_time": "2025-05-11T05:53:31.664Z"
   },
   {
    "duration": 11,
    "start_time": "2025-05-11T05:53:38.564Z"
   },
   {
    "duration": 9,
    "start_time": "2025-05-11T05:53:51.114Z"
   },
   {
    "duration": 9,
    "start_time": "2025-05-11T05:54:15.268Z"
   },
   {
    "duration": 182,
    "start_time": "2025-05-11T05:54:22.377Z"
   },
   {
    "duration": 8,
    "start_time": "2025-05-11T05:54:31.807Z"
   },
   {
    "duration": 27,
    "start_time": "2025-05-11T05:54:46.249Z"
   },
   {
    "duration": 13,
    "start_time": "2025-05-11T06:27:35.633Z"
   },
   {
    "duration": 13,
    "start_time": "2025-05-11T06:28:32.400Z"
   },
   {
    "duration": 10,
    "start_time": "2025-05-11T06:29:26.399Z"
   },
   {
    "duration": 10,
    "start_time": "2025-05-11T06:30:02.817Z"
   },
   {
    "duration": 23,
    "start_time": "2025-05-11T06:30:47.103Z"
   },
   {
    "duration": 2415,
    "start_time": "2025-05-11T17:30:42.416Z"
   },
   {
    "duration": 1045,
    "start_time": "2025-05-11T17:30:45.332Z"
   },
   {
    "duration": 16,
    "start_time": "2025-05-11T17:30:56.828Z"
   },
   {
    "duration": 12,
    "start_time": "2025-05-11T17:31:03.621Z"
   },
   {
    "duration": 9,
    "start_time": "2025-05-11T17:31:11.727Z"
   },
   {
    "duration": 9,
    "start_time": "2025-05-11T17:31:15.195Z"
   },
   {
    "duration": 24,
    "start_time": "2025-05-11T17:31:20.105Z"
   },
   {
    "duration": 763,
    "start_time": "2025-05-11T17:34:11.386Z"
   },
   {
    "duration": 3,
    "start_time": "2025-05-11T17:42:39.175Z"
   },
   {
    "duration": 859,
    "start_time": "2025-05-11T17:43:05.974Z"
   },
   {
    "duration": 223,
    "start_time": "2025-05-11T18:14:44.393Z"
   },
   {
    "duration": 864,
    "start_time": "2025-05-11T18:15:13.420Z"
   },
   {
    "duration": 1335,
    "start_time": "2025-05-11T18:16:43.948Z"
   },
   {
    "duration": 34,
    "start_time": "2025-05-11T18:21:34.973Z"
   },
   {
    "duration": 21,
    "start_time": "2025-05-11T18:22:06.171Z"
   },
   {
    "duration": 2128,
    "start_time": "2025-05-11T23:04:16.272Z"
   },
   {
    "duration": 1006,
    "start_time": "2025-05-11T23:04:19.252Z"
   },
   {
    "duration": 14,
    "start_time": "2025-05-11T23:04:31.725Z"
   },
   {
    "duration": 12,
    "start_time": "2025-05-11T23:04:38.925Z"
   },
   {
    "duration": 10,
    "start_time": "2025-05-11T23:04:47.063Z"
   },
   {
    "duration": 9,
    "start_time": "2025-05-11T23:04:53.205Z"
   },
   {
    "duration": 24,
    "start_time": "2025-05-11T23:04:59.951Z"
   },
   {
    "duration": 950,
    "start_time": "2025-05-11T23:11:44.608Z"
   },
   {
    "duration": 53,
    "start_time": "2025-05-11T23:30:43.512Z"
   },
   {
    "duration": 92,
    "start_time": "2025-05-11T23:37:10.958Z"
   },
   {
    "duration": 86,
    "start_time": "2025-05-11T23:37:52.614Z"
   },
   {
    "duration": 31,
    "start_time": "2025-05-11T23:38:47.721Z"
   },
   {
    "duration": 12,
    "start_time": "2025-05-11T23:47:40.734Z"
   },
   {
    "duration": 12,
    "start_time": "2025-05-11T23:47:57.587Z"
   },
   {
    "duration": 4,
    "start_time": "2025-05-11T23:49:13.297Z"
   },
   {
    "duration": 16,
    "start_time": "2025-05-11T23:55:07.726Z"
   },
   {
    "duration": 8,
    "start_time": "2025-05-11T23:55:51.960Z"
   },
   {
    "duration": 4,
    "start_time": "2025-05-12T00:04:25.995Z"
   },
   {
    "duration": 3,
    "start_time": "2025-05-12T00:05:29.746Z"
   },
   {
    "duration": 4,
    "start_time": "2025-05-12T00:07:55.201Z"
   },
   {
    "duration": 4,
    "start_time": "2025-05-12T00:09:07.979Z"
   },
   {
    "duration": 746,
    "start_time": "2025-05-12T00:11:26.952Z"
   },
   {
    "duration": 2164,
    "start_time": "2025-05-12T00:14:21.272Z"
   },
   {
    "duration": 782,
    "start_time": "2025-05-12T00:18:34.499Z"
   },
   {
    "duration": 2082,
    "start_time": "2025-05-12T02:08:46.793Z"
   },
   {
    "duration": 1010,
    "start_time": "2025-05-12T02:08:49.636Z"
   },
   {
    "duration": 15,
    "start_time": "2025-05-12T02:08:52.177Z"
   },
   {
    "duration": 14,
    "start_time": "2025-05-12T02:08:53.859Z"
   },
   {
    "duration": 11,
    "start_time": "2025-05-12T02:08:56.159Z"
   },
   {
    "duration": 9,
    "start_time": "2025-05-12T02:08:57.955Z"
   },
   {
    "duration": 24,
    "start_time": "2025-05-12T02:08:59.411Z"
   },
   {
    "duration": 959,
    "start_time": "2025-05-12T02:09:15.265Z"
   },
   {
    "duration": 10,
    "start_time": "2025-05-12T02:09:25.493Z"
   },
   {
    "duration": 94,
    "start_time": "2025-05-12T02:09:33.198Z"
   },
   {
    "duration": 89,
    "start_time": "2025-05-12T02:09:35.902Z"
   },
   {
    "duration": 30,
    "start_time": "2025-05-12T02:09:37.031Z"
   },
   {
    "duration": 14,
    "start_time": "2025-05-12T02:09:43.459Z"
   },
   {
    "duration": 3,
    "start_time": "2025-05-12T02:09:44.316Z"
   },
   {
    "duration": 15,
    "start_time": "2025-05-12T02:09:45.120Z"
   },
   {
    "duration": 9,
    "start_time": "2025-05-12T02:09:46.132Z"
   },
   {
    "duration": 4,
    "start_time": "2025-05-12T02:09:53.680Z"
   },
   {
    "duration": 4,
    "start_time": "2025-05-12T02:09:54.836Z"
   },
   {
    "duration": 4,
    "start_time": "2025-05-12T02:10:07.878Z"
   },
   {
    "duration": 6,
    "start_time": "2025-05-12T02:10:11.069Z"
   },
   {
    "duration": 717,
    "start_time": "2025-05-12T02:10:18.152Z"
   },
   {
    "duration": 766,
    "start_time": "2025-05-12T02:10:25.160Z"
   },
   {
    "duration": 5,
    "start_time": "2025-05-12T02:12:16.767Z"
   },
   {
    "duration": 7,
    "start_time": "2025-05-12T02:15:12.538Z"
   },
   {
    "duration": 6,
    "start_time": "2025-05-12T02:21:22.574Z"
   },
   {
    "duration": 6,
    "start_time": "2025-05-12T02:29:33.723Z"
   },
   {
    "duration": 8,
    "start_time": "2025-05-12T02:44:19.485Z"
   },
   {
    "duration": 7,
    "start_time": "2025-05-12T02:45:43.160Z"
   },
   {
    "duration": 8,
    "start_time": "2025-05-12T02:48:02.487Z"
   },
   {
    "duration": 7,
    "start_time": "2025-05-12T02:48:28.806Z"
   },
   {
    "duration": 16,
    "start_time": "2025-05-12T02:53:43.234Z"
   },
   {
    "duration": 4,
    "start_time": "2025-05-12T03:01:23.597Z"
   },
   {
    "duration": 14,
    "start_time": "2025-05-12T03:01:45.473Z"
   },
   {
    "duration": 3,
    "start_time": "2025-05-12T03:02:45.882Z"
   },
   {
    "duration": 1242,
    "start_time": "2025-05-12T03:03:01.157Z"
   },
   {
    "duration": 4,
    "start_time": "2025-05-12T03:04:41.480Z"
   },
   {
    "duration": 5,
    "start_time": "2025-05-12T03:05:10.736Z"
   },
   {
    "duration": 2,
    "start_time": "2025-05-12T03:07:05.132Z"
   },
   {
    "duration": 840,
    "start_time": "2025-05-12T03:07:06.087Z"
   },
   {
    "duration": 13,
    "start_time": "2025-05-12T03:07:07.741Z"
   },
   {
    "duration": 11,
    "start_time": "2025-05-12T03:07:08.817Z"
   },
   {
    "duration": 11,
    "start_time": "2025-05-12T03:07:09.906Z"
   },
   {
    "duration": 10,
    "start_time": "2025-05-12T03:07:11.130Z"
   },
   {
    "duration": 24,
    "start_time": "2025-05-12T03:07:12.043Z"
   },
   {
    "duration": 1000,
    "start_time": "2025-05-12T03:07:20.417Z"
   },
   {
    "duration": 9,
    "start_time": "2025-05-12T03:07:25.504Z"
   },
   {
    "duration": 85,
    "start_time": "2025-05-12T03:07:30.388Z"
   },
   {
    "duration": 89,
    "start_time": "2025-05-12T03:07:31.419Z"
   },
   {
    "duration": 27,
    "start_time": "2025-05-12T03:07:32.165Z"
   },
   {
    "duration": 15,
    "start_time": "2025-05-12T03:07:35.000Z"
   },
   {
    "duration": 4,
    "start_time": "2025-05-12T03:07:35.569Z"
   },
   {
    "duration": 17,
    "start_time": "2025-05-12T03:07:36.112Z"
   },
   {
    "duration": 10,
    "start_time": "2025-05-12T03:07:36.698Z"
   },
   {
    "duration": 4,
    "start_time": "2025-05-12T03:07:38.741Z"
   },
   {
    "duration": 4,
    "start_time": "2025-05-12T03:07:39.250Z"
   },
   {
    "duration": 4,
    "start_time": "2025-05-12T03:07:41.272Z"
   },
   {
    "duration": 3,
    "start_time": "2025-05-12T03:07:41.791Z"
   },
   {
    "duration": 804,
    "start_time": "2025-05-12T03:07:43.996Z"
   },
   {
    "duration": 887,
    "start_time": "2025-05-12T03:07:44.804Z"
   },
   {
    "duration": 5,
    "start_time": "2025-05-12T03:07:49.510Z"
   },
   {
    "duration": 7,
    "start_time": "2025-05-12T03:07:52.181Z"
   },
   {
    "duration": 6,
    "start_time": "2025-05-12T03:07:54.928Z"
   },
   {
    "duration": 7,
    "start_time": "2025-05-12T03:07:58.657Z"
   },
   {
    "duration": 8,
    "start_time": "2025-05-12T03:08:01.776Z"
   },
   {
    "duration": 17,
    "start_time": "2025-05-12T03:08:14.257Z"
   },
   {
    "duration": 8,
    "start_time": "2025-05-12T03:08:58.130Z"
   },
   {
    "duration": 11,
    "start_time": "2025-05-12T03:11:23.983Z"
   },
   {
    "duration": 14,
    "start_time": "2025-05-12T03:11:54.366Z"
   },
   {
    "duration": 25,
    "start_time": "2025-05-12T03:12:19.802Z"
   },
   {
    "duration": 811,
    "start_time": "2025-05-12T03:13:24.384Z"
   },
   {
    "duration": 9,
    "start_time": "2025-05-12T03:14:11.374Z"
   },
   {
    "duration": 11,
    "start_time": "2025-05-12T03:17:09.325Z"
   },
   {
    "duration": 13,
    "start_time": "2025-05-12T03:17:41.439Z"
   },
   {
    "duration": 16,
    "start_time": "2025-05-12T03:20:23.114Z"
   },
   {
    "duration": 6,
    "start_time": "2025-05-12T03:20:59.553Z"
   },
   {
    "duration": 8,
    "start_time": "2025-05-12T03:23:14.912Z"
   },
   {
    "duration": 31,
    "start_time": "2025-05-12T03:28:07.314Z"
   },
   {
    "duration": 9,
    "start_time": "2025-05-12T03:36:00.567Z"
   },
   {
    "duration": 197,
    "start_time": "2025-05-12T03:38:51.600Z"
   },
   {
    "duration": 7,
    "start_time": "2025-05-12T03:43:15.040Z"
   },
   {
    "duration": 7,
    "start_time": "2025-05-12T03:48:19.955Z"
   },
   {
    "duration": 6,
    "start_time": "2025-05-12T03:50:25.595Z"
   },
   {
    "duration": 16,
    "start_time": "2025-05-12T03:50:44.854Z"
   },
   {
    "duration": 7,
    "start_time": "2025-05-12T03:51:11.258Z"
   },
   {
    "duration": 76,
    "start_time": "2025-05-12T03:57:03.803Z"
   },
   {
    "duration": 8,
    "start_time": "2025-05-12T03:58:27.491Z"
   },
   {
    "duration": 9,
    "start_time": "2025-05-12T03:59:11.864Z"
   },
   {
    "duration": 241,
    "start_time": "2025-05-12T04:06:09.161Z"
   },
   {
    "duration": 3,
    "start_time": "2025-05-12T04:12:11.363Z"
   },
   {
    "duration": 203,
    "start_time": "2025-05-12T04:13:22.968Z"
   },
   {
    "duration": 485,
    "start_time": "2025-05-12T04:23:59.851Z"
   },
   {
    "duration": 514,
    "start_time": "2025-05-12T04:25:19.800Z"
   },
   {
    "duration": 579,
    "start_time": "2025-05-12T04:25:48.824Z"
   },
   {
    "duration": 18,
    "start_time": "2025-05-12T04:27:42.020Z"
   },
   {
    "duration": 21,
    "start_time": "2025-05-12T04:28:30.269Z"
   },
   {
    "duration": 478,
    "start_time": "2025-05-12T04:38:29.663Z"
   },
   {
    "duration": 41,
    "start_time": "2025-05-12T04:39:20.110Z"
   },
   {
    "duration": 2124,
    "start_time": "2025-05-24T03:07:34.855Z"
   },
   {
    "duration": 1010,
    "start_time": "2025-05-24T03:07:36.981Z"
   },
   {
    "duration": 21,
    "start_time": "2025-05-24T03:07:40.582Z"
   },
   {
    "duration": 14,
    "start_time": "2025-05-24T03:07:49.274Z"
   },
   {
    "duration": 12,
    "start_time": "2025-05-24T03:08:12.432Z"
   },
   {
    "duration": 13,
    "start_time": "2025-05-24T03:08:26.971Z"
   },
   {
    "duration": 26,
    "start_time": "2025-05-24T03:08:30.469Z"
   },
   {
    "duration": 103,
    "start_time": "2025-05-24T03:08:44.937Z"
   },
   {
    "duration": 15,
    "start_time": "2025-05-24T03:08:52.660Z"
   },
   {
    "duration": 91,
    "start_time": "2025-05-24T03:09:02.052Z"
   },
   {
    "duration": 93,
    "start_time": "2025-05-24T03:09:03.544Z"
   },
   {
    "duration": 39,
    "start_time": "2025-05-24T03:09:05.578Z"
   },
   {
    "duration": 14,
    "start_time": "2025-05-24T03:09:12.937Z"
   },
   {
    "duration": 3,
    "start_time": "2025-05-24T03:09:14.250Z"
   },
   {
    "duration": 16,
    "start_time": "2025-05-24T03:09:15.916Z"
   },
   {
    "duration": 7,
    "start_time": "2025-05-24T03:09:24.111Z"
   },
   {
    "duration": 4,
    "start_time": "2025-05-24T03:09:29.011Z"
   },
   {
    "duration": 4,
    "start_time": "2025-05-24T03:09:31.401Z"
   },
   {
    "duration": 4,
    "start_time": "2025-05-24T03:09:39.179Z"
   },
   {
    "duration": 5,
    "start_time": "2025-05-24T03:09:40.814Z"
   },
   {
    "duration": 872,
    "start_time": "2025-05-24T03:09:47.559Z"
   },
   {
    "duration": 993,
    "start_time": "2025-05-24T03:09:50.087Z"
   },
   {
    "duration": 5,
    "start_time": "2025-05-24T03:10:08.357Z"
   },
   {
    "duration": 10,
    "start_time": "2025-05-24T03:10:12.099Z"
   },
   {
    "duration": 10,
    "start_time": "2025-05-24T03:10:19.718Z"
   },
   {
    "duration": 6,
    "start_time": "2025-05-24T03:10:31.705Z"
   },
   {
    "duration": 9,
    "start_time": "2025-05-24T03:10:40.424Z"
   },
   {
    "duration": 8,
    "start_time": "2025-05-24T03:10:45.944Z"
   },
   {
    "duration": 16,
    "start_time": "2025-05-24T03:10:51.216Z"
   },
   {
    "duration": 32,
    "start_time": "2025-05-24T03:10:58.990Z"
   },
   {
    "duration": 31,
    "start_time": "2025-05-24T03:11:08.289Z"
   },
   {
    "duration": 8,
    "start_time": "2025-05-24T03:11:14.273Z"
   },
   {
    "duration": 272,
    "start_time": "2025-05-24T03:11:16.410Z"
   },
   {
    "duration": 549,
    "start_time": "2025-05-24T03:11:38.120Z"
   },
   {
    "duration": 4,
    "start_time": "2025-05-24T03:12:24.861Z"
   },
   {
    "duration": 4,
    "start_time": "2025-05-24T03:12:26.070Z"
   },
   {
    "duration": 177,
    "start_time": "2025-05-24T03:12:35.161Z"
   },
   {
    "duration": 117,
    "start_time": "2025-05-24T03:12:44.994Z"
   },
   {
    "duration": 179,
    "start_time": "2025-05-24T03:21:10.473Z"
   },
   {
    "duration": 4,
    "start_time": "2025-05-24T03:23:14.738Z"
   },
   {
    "duration": 160,
    "start_time": "2025-05-24T03:26:37.606Z"
   },
   {
    "duration": 188,
    "start_time": "2025-05-24T03:28:48.327Z"
   },
   {
    "duration": 3,
    "start_time": "2025-05-24T03:28:57.172Z"
   },
   {
    "duration": 842,
    "start_time": "2025-05-24T03:28:57.177Z"
   },
   {
    "duration": 14,
    "start_time": "2025-05-24T03:28:58.021Z"
   },
   {
    "duration": 14,
    "start_time": "2025-05-24T03:28:58.036Z"
   },
   {
    "duration": 10,
    "start_time": "2025-05-24T03:28:58.051Z"
   },
   {
    "duration": 10,
    "start_time": "2025-05-24T03:28:58.063Z"
   },
   {
    "duration": 55,
    "start_time": "2025-05-24T03:28:58.075Z"
   },
   {
    "duration": 92,
    "start_time": "2025-05-24T03:28:58.132Z"
   },
   {
    "duration": 10,
    "start_time": "2025-05-24T03:28:58.226Z"
   },
   {
    "duration": 85,
    "start_time": "2025-05-24T03:28:58.238Z"
   },
   {
    "duration": 83,
    "start_time": "2025-05-24T03:28:58.326Z"
   },
   {
    "duration": 34,
    "start_time": "2025-05-24T03:28:58.411Z"
   },
   {
    "duration": 14,
    "start_time": "2025-05-24T03:28:58.447Z"
   },
   {
    "duration": 3,
    "start_time": "2025-05-24T03:28:58.463Z"
   },
   {
    "duration": 15,
    "start_time": "2025-05-24T03:28:58.468Z"
   },
   {
    "duration": 35,
    "start_time": "2025-05-24T03:28:58.485Z"
   },
   {
    "duration": 4,
    "start_time": "2025-05-24T03:28:58.521Z"
   },
   {
    "duration": 3,
    "start_time": "2025-05-24T03:28:58.526Z"
   },
   {
    "duration": 4,
    "start_time": "2025-05-24T03:28:58.531Z"
   },
   {
    "duration": 4,
    "start_time": "2025-05-24T03:28:58.536Z"
   },
   {
    "duration": 738,
    "start_time": "2025-05-24T03:28:58.542Z"
   },
   {
    "duration": 843,
    "start_time": "2025-05-24T03:28:59.282Z"
   },
   {
    "duration": 5,
    "start_time": "2025-05-24T03:29:00.127Z"
   },
   {
    "duration": 10,
    "start_time": "2025-05-24T03:29:00.133Z"
   },
   {
    "duration": 9,
    "start_time": "2025-05-24T03:29:00.145Z"
   },
   {
    "duration": 5,
    "start_time": "2025-05-24T03:29:00.155Z"
   },
   {
    "duration": 8,
    "start_time": "2025-05-24T03:29:00.161Z"
   },
   {
    "duration": 6,
    "start_time": "2025-05-24T03:29:00.171Z"
   },
   {
    "duration": 47,
    "start_time": "2025-05-24T03:29:00.180Z"
   },
   {
    "duration": 32,
    "start_time": "2025-05-24T03:29:00.229Z"
   },
   {
    "duration": 28,
    "start_time": "2025-05-24T03:29:00.262Z"
   },
   {
    "duration": 29,
    "start_time": "2025-05-24T03:29:00.292Z"
   },
   {
    "duration": 304,
    "start_time": "2025-05-24T03:29:00.322Z"
   },
   {
    "duration": 503,
    "start_time": "2025-05-24T03:29:00.627Z"
   },
   {
    "duration": 4,
    "start_time": "2025-05-24T03:29:01.132Z"
   },
   {
    "duration": 3,
    "start_time": "2025-05-24T03:29:01.138Z"
   },
   {
    "duration": 191,
    "start_time": "2025-05-24T03:29:01.143Z"
   },
   {
    "duration": 131,
    "start_time": "2025-05-24T03:29:01.336Z"
   },
   {
    "duration": 195,
    "start_time": "2025-05-24T03:29:01.469Z"
   },
   {
    "duration": 64,
    "start_time": "2025-05-24T03:29:01.666Z"
   },
   {
    "duration": 178,
    "start_time": "2025-05-24T03:29:01.732Z"
   },
   {
    "duration": 117,
    "start_time": "2025-05-24T03:29:01.912Z"
   },
   {
    "duration": 135,
    "start_time": "2025-05-24T03:29:02.031Z"
   },
   {
    "duration": 239,
    "start_time": "2025-05-24T03:29:02.167Z"
   },
   {
    "duration": 143,
    "start_time": "2025-05-24T03:29:02.409Z"
   },
   {
    "duration": 188,
    "start_time": "2025-05-24T03:29:02.554Z"
   },
   {
    "duration": 227,
    "start_time": "2025-05-24T03:29:02.743Z"
   },
   {
    "duration": 184,
    "start_time": "2025-05-24T03:29:02.972Z"
   },
   {
    "duration": 667,
    "start_time": "2025-05-24T03:29:03.159Z"
   },
   {
    "duration": 471,
    "start_time": "2025-05-24T03:29:03.829Z"
   },
   {
    "duration": 146,
    "start_time": "2025-05-24T03:29:04.302Z"
   },
   {
    "duration": 215,
    "start_time": "2025-05-24T03:29:56.633Z"
   },
   {
    "duration": 197,
    "start_time": "2025-05-24T03:30:26.131Z"
   }
  ],
  "colab": {
   "provenance": [
    {
     "file_id": "1aLGZ19-GYem3LZdYHuzuwYIeSw_tr0AT",
     "timestamp": 1689682143157
    }
   ]
  },
  "kernelspec": {
   "display_name": "Python 3 (ipykernel)",
   "language": "python",
   "name": "python3"
  },
  "language_info": {
   "codemirror_mode": {
    "name": "ipython",
    "version": 3
   },
   "file_extension": ".py",
   "mimetype": "text/x-python",
   "name": "python",
   "nbconvert_exporter": "python",
   "pygments_lexer": "ipython3",
   "version": "3.9.19"
  },
  "toc": {
   "base_numbering": 1,
   "nav_menu": {},
   "number_sections": true,
   "sideBar": true,
   "skip_h1_title": true,
   "title_cell": "Table of Contents",
   "title_sidebar": "Contents",
   "toc_cell": false,
   "toc_position": {},
   "toc_section_display": true,
   "toc_window_display": false
  },
  "vscode": {
   "interpreter": {
    "hash": "01a7be9ec63e704a62cefc5fe7a4756944464ee731be31632bdf42a4cb4688cf"
   }
  }
 },
 "nbformat": 4,
 "nbformat_minor": 5
}
